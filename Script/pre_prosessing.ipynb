{
 "cells": [
  {
   "cell_type": "code",
   "execution_count": 35,
   "metadata": {},
   "outputs": [],
   "source": [
    "from glob import glob\n",
    "import subprocess\n",
    "import numpy as np\n",
    "\n",
    "from obspy.core import Stream\n",
    "from obspy import read, read_inventory, read_events\n",
    "\n",
    "\n",
    "# from geographiclib.geodesic import Geodesic\n",
    "from obspy.geodetics.base import gps2dist_azimuth\n",
    "from obspy.geodetics import kilometers2degrees\n",
    "# import obspy\n",
    "from obspy.signal.rotate import rotate_ne_rt\n",
    "from obspy.taup import TauPyModel\n",
    "\n",
    "import time"
   ]
  },
  {
   "cell_type": "code",
   "execution_count": 36,
   "metadata": {},
   "outputs": [],
   "source": [
    "MseedDataDirectory = \"../Data/fetch_fdsn_lizhi\"\n",
    "ResponseDirectory = \"../Data/fetch_fdsn_sxd/response\"\n",
    "\n",
    "StationCatalog = dict()\n",
    "with open(\"../Data/fetch_fdsn_sxd/station.meta\", 'r') as f:\n",
    "    for line in f:\n",
    "        StationName = line.split('|')[0] + '.' + line.split('|')[1]\n",
    "        StationCatalog[StationName] = dict()\n",
    "        StationCatalog[StationName]['NetworkCode'] = line.split('|')[0]\n",
    "        StationCatalog[StationName]['StationCode'] = line.split('|')[1]\n",
    "        StationCatalog[StationName]['Channel'] = line.split('|')[3]\n",
    "        StationCatalog[StationName]['Latitude'] = float(line.split('|')[4])\n",
    "        StationCatalog[StationName]['Longitude'] = float(line.split('|')[5])"
   ]
  },
  {
   "cell_type": "code",
   "execution_count": 37,
   "metadata": {},
   "outputs": [
    {
     "name": "stdout",
     "output_type": "stream",
     "text": [
      "20110113164314\n"
     ]
    }
   ],
   "source": [
    "for MseedFileName in glob(MseedDataDirectory+'/*.mseed')[0:1]:\n",
    "    DataStream = read(MseedFileName,format='MSEED')\n",
    "    EVENTNAME = os.path.basename(MseedFileName).split('.mseed')[0]\n",
    "    print(EVENTNAME)\n",
    "\n",
    "    CatFind = glob(f\"../Data/CMTSOLUTION/{EVENTNAME[0:12]}*.CMTSOLUTION\")\n",
    "    if len(CatFind)==1:\n",
    "        cat = read_events(CatFind[0])\n",
    "    elif len(CatFind)>1: \n",
    "        print(\"Multiple CMTSOLUTION (>1) found!!!\")\n",
    "        continue        \n",
    "    else:\n",
    "        print(\"CMTSOLUTION not found!!!\")\n",
    "        continue\n",
    "    SourceLat = cat[0].origins[0].latitude\n",
    "    SourceLon = cat[0].origins[0].longitude\n",
    "    SourceDepth = cat[0].origins[0].depth/1.0e3"
   ]
  },
  {
   "cell_type": "code",
   "execution_count": 38,
   "metadata": {
    "scrolled": true
   },
   "outputs": [],
   "source": [
    "#Calculate the takeoff angle of the ray\n",
    "model = TauPyModel('prem')\n",
    "\n",
    "# trim DataStream for same length\n",
    "DataStream.trim(starttime=DataStream[0].stats.starttime, endtime=DataStream[0].stats.starttime + 2400)\n",
    "# calculate baz for rotating\n",
    "for itrace, trace in enumerate(DataStream.select(component=\"N\")):\n",
    "    StationName = DataStream[itrace].stats.network + \".\" + DataStream[itrace].stats.station\n",
    "    distm, azimuth, backazimuth = gps2dist_azimuth(SourceLat,SourceLon,StationCatalog[StationName]['Latitude'],StationCatalog[StationName]['Longitude'])\n",
    "    distance_in_degrees = kilometers2degrees(distm/1.0e3)\n",
    "    \n",
    "    trace.stats.distance = distm\n",
    "    trace.stats.distance_in_degrees = distance_in_degrees\n",
    "    trace.stats.azimuth = azimuth\n",
    "    trace.stats.backazimuth = backazimuth\n",
    "\n",
    "    # if not hasattr(trace.stats,'traveltimes'):\n",
    "    trace.stats.traveltimes=dict()\n",
    "    arrivals = model.get_travel_times(source_depth_in_km = SourceDepth, distance_in_degree = distance_in_degrees,\n",
    "                                        phase_list = ['Sdiff','S'], receiver_depth_in_km = 0.)\n",
    "    for arrival in arrivals:\n",
    "        trace.stats.traveltimes[arrival.name]=arrival.time\n"
   ]
  },
  {
   "cell_type": "markdown",
   "metadata": {},
   "source": [
    "## Rotate seismogram"
   ]
  },
  {
   "cell_type": "code",
   "execution_count": 39,
   "metadata": {},
   "outputs": [
    {
     "name": "stdout",
     "output_type": "stream",
     "text": [
      "AH.ANQ.00.BHN | 2011-01-13T16:38:14.000000Z - 2011-01-13T17:18:14.000000Z | 100.0 Hz, 240001 samples\n"
     ]
    },
    {
     "ename": "AttributeError",
     "evalue": "'method' object has no attribute 'stats'",
     "output_type": "error",
     "traceback": [
      "\u001b[0;31m---------------------------------------------------------------------------\u001b[0m",
      "\u001b[0;31mAttributeError\u001b[0m                            Traceback (most recent call last)",
      "Cell \u001b[0;32mIn[39], line 64\u001b[0m\n\u001b[1;32m     62\u001b[0m seisT\u001b[38;5;241m.\u001b[39mdata\u001b[38;5;241m=\u001b[39mseisTtmp\n\u001b[1;32m     63\u001b[0m newseisZ\u001b[38;5;241m=\u001b[39mseisZ[\u001b[38;5;241m0\u001b[39m]\u001b[38;5;241m.\u001b[39mcopy\n\u001b[0;32m---> 64\u001b[0m \u001b[43mnewseisZ\u001b[49m\u001b[38;5;241;43m.\u001b[39;49m\u001b[43mstats\u001b[49m \u001b[38;5;241m=\u001b[39m seisN[\u001b[38;5;241m0\u001b[39m]\u001b[38;5;241m.\u001b[39mstats\n\u001b[1;32m     65\u001b[0m newseisZ\u001b[38;5;241m.\u001b[39mstats[\u001b[38;5;124m'\u001b[39m\u001b[38;5;124mchannel\u001b[39m\u001b[38;5;124m'\u001b[39m]\u001b[38;5;241m=\u001b[39m\u001b[38;5;124m'\u001b[39m\u001b[38;5;124mBHZ\u001b[39m\u001b[38;5;124m'\u001b[39m\n\u001b[1;32m     67\u001b[0m RTZDataStream \u001b[38;5;241m+\u001b[39m\u001b[38;5;241m=\u001b[39m seisR\n",
      "\u001b[0;31mAttributeError\u001b[0m: 'method' object has no attribute 'stats'"
     ]
    }
   ],
   "source": [
    "RTZDataStream = Stream()\n",
    "\n",
    "pre_filt = [0.005, 0.01, 5, 10]\n",
    "\n",
    "for itrace, trace in enumerate(DataStream.select(component=\"N\")):\n",
    "\n",
    "    TChannelName = trace.stats.network + \".\" + trace.stats.station + \".\" \\\n",
    "                 + trace.stats.location + \".\" \"BHT\"\n",
    "\n",
    "    seisCheck = RTZDataStream.select(id=TChannelName)\n",
    "    if len(seisCheck)>0:\n",
    "        print('processed trace exists!!!')\n",
    "        continue\n",
    "\n",
    "    print(trace)\n",
    "    EChannelName = trace.stats.network + \".\" + trace.stats.station + \".\" \\\n",
    "                 + trace.stats.location + \".\" \"BHE\"\n",
    "    seisE = DataStream.select(id=EChannelName)\n",
    "    \n",
    "    NChannelName = trace.stats.network + \".\" + trace.stats.station + \".\" \\\n",
    "                 + trace.stats.location + \".\" \"BHN\"\n",
    "    seisN = DataStream.select(id=NChannelName)\n",
    "\n",
    "    ZChannelName = trace.stats.network + \".\" + trace.stats.station + \".\" \\\n",
    "                 + trace.stats.location + \".\" \"BHZ\"\n",
    "    seisZ = DataStream.select(id=ZChannelName)\n",
    "\n",
    "    if len(seisE) != 1 or len(seisN) != 1:\n",
    "        # Merge segaments into one single trace\n",
    "        seisE.merge(method=1,fill_value='interpolate',interpolation_samples=2)\n",
    "        seisN.merge(method=1,fill_value='interpolate',interpolation_samples=2)\n",
    "        seisZ.merge(method=1,fill_value='interpolate',interpolation_samples=2)\n",
    "    \n",
    "\n",
    "    # Remove response\n",
    "    try:\n",
    "        invE = read_inventory(ResponseDirectory+\"/RESP.\"+EChannelName)\n",
    "        seisE.remove_response(inventory=invE, pre_filt=pre_filt, output=\"DISP\") \n",
    "        invN = read_inventory(ResponseDirectory+\"/RESP.\"+NChannelName)\n",
    "        seisN.remove_response(inventory=invN, pre_filt=pre_filt, output=\"DISP\")\n",
    "        invZ = read_inventory(ResponseDirectory+\"/RESP.\"+ZChannelName)\n",
    "        seisZ.remove_response(inventory=invZ, pre_filt=pre_filt, output=\"DISP\")\n",
    "    except:\n",
    "        print(trace, \"remove response failed\")\n",
    "        continue\n",
    "\n",
    "    if len(seisN[0].data) != len(seisE[0].data):\n",
    "        seisN.resample(100)\n",
    "        seisE.resample(100)\n",
    "        trimstart = max(seisN[0].stats.starttime, seisE[0].stats.starttime)\n",
    "        trimend = min(seisN[0].stats.endtime, seisE[0].stats.endtime)\n",
    "        seisN.trim(trimstart, trimend)\n",
    "        seisE.trim(trimstart, trimend)\n",
    "    # Rotate from NE to RT component\n",
    "    [seisRtmp,seisTtmp] = rotate_ne_rt(seisN[0].data, seisE[0].data, seisN[0].stats.backazimuth)\n",
    "    \n",
    "    seisR=seisN[0].copy()\n",
    "    seisR.stats['channel']='BHR'\n",
    "    seisR.data=seisRtmp\n",
    "    seisT=seisN[0].copy()\n",
    "    seisT.stats['channel']='BHT'\n",
    "    seisT.data=seisTtmp\n",
    "    newseisZ=seisZ[0].copy()\n",
    "    newseisZ.stats = seisN[0].stats\n",
    "    newseisZ.stats['channel']='BHZ'\n",
    "    \n",
    "    RTZDataStream += seisR\n",
    "    RTZDataStream += seisT\n",
    "    RTZDataStream += newseisZ"
   ]
  },
  {
   "cell_type": "code",
   "execution_count": 40,
   "metadata": {},
   "outputs": [
    {
     "data": {
      "text/plain": [
       "<bound method Trace.copy of <obspy.core.trace.Trace object at 0x7fe7bfdffc40>>"
      ]
     },
     "execution_count": 40,
     "metadata": {},
     "output_type": "execute_result"
    }
   ],
   "source": [
    "newseisZ"
   ]
  },
  {
   "cell_type": "code",
   "execution_count": 46,
   "metadata": {},
   "outputs": [
    {
     "ename": "AttributeError",
     "evalue": "'function' object has no attribute 'stats'",
     "output_type": "error",
     "traceback": [
      "\u001b[0;31m---------------------------------------------------------------------------\u001b[0m",
      "\u001b[0;31mAttributeError\u001b[0m                            Traceback (most recent call last)",
      "Cell \u001b[0;32mIn[46], line 1\u001b[0m\n\u001b[0;32m----> 1\u001b[0m \u001b[43mnewseisZ\u001b[49m\u001b[38;5;241;43m.\u001b[39;49m\u001b[43mstats\u001b[49m\n",
      "\u001b[0;31mAttributeError\u001b[0m: 'function' object has no attribute 'stats'"
     ]
    }
   ],
   "source": [
    "newseisZ.stats"
   ]
  },
  {
   "cell_type": "code",
   "execution_count": 6,
   "metadata": {},
   "outputs": [
    {
     "name": "stdout",
     "output_type": "stream",
     "text": [
      "../Data/ProcessedSecondRequest/20110113164314.PICKLE Saved!!!\n"
     ]
    }
   ],
   "source": [
    "RTZDataStream.resample(10)\n",
    "RTZDataStream.write(f\"../Data/ProcessedSecondRequest/{EVENTNAME}.PICKLE\",format='PICKLE')\n",
    "print(f\"../Data/ProcessedSecondRequest/{EVENTNAME}.PICKLE Saved!!!\")"
   ]
  },
  {
   "cell_type": "code",
   "execution_count": null,
   "metadata": {},
   "outputs": [],
   "source": []
  }
 ],
 "metadata": {
  "kernelspec": {
   "display_name": "Python 3 (ipykernel)",
   "language": "python",
   "name": "python3"
  },
  "language_info": {
   "codemirror_mode": {
    "name": "ipython",
    "version": 3
   },
   "file_extension": ".py",
   "mimetype": "text/x-python",
   "name": "python",
   "nbconvert_exporter": "python",
   "pygments_lexer": "ipython3",
   "version": "3.8.13"
  },
  "vscode": {
   "interpreter": {
    "hash": "b5da1a19760c645bef876c945e2def5171d007c0fd3f14585be32e516ddabd56"
   }
  }
 },
 "nbformat": 4,
 "nbformat_minor": 2
}
