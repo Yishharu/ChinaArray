{
 "cells": [
  {
   "cell_type": "code",
   "execution_count": 1,
   "metadata": {},
   "outputs": [],
   "source": [
    "import glob\n",
    "import subprocess\n",
    "import numpy as np\n",
    "\n",
    "from obspy.core import Stream\n",
    "from obspy import read, read_inventory, read_events\n",
    "\n",
    "\n",
    "# from geographiclib.geodesic import Geodesic\n",
    "from obspy.geodetics.base import gps2dist_azimuth\n",
    "from obspy.geodetics import kilometers2degrees\n",
    "# import obspy\n",
    "from obspy.signal.rotate import rotate_ne_rt\n",
    "\n",
    "import time"
   ]
  },
  {
   "cell_type": "code",
   "execution_count": 2,
   "metadata": {},
   "outputs": [],
   "source": [
    "MseedDataDirectory = \"../Data/fetch_fdsn_lizhi\"\n",
    "ResponseDirectory = \"../Data/fetch_fdsn_sxd/response\"\n",
    "\n",
    "StationCatalog = dict()\n",
    "with open(\"../Data/fetch_fdsn_sxd/station.meta\", 'r') as f:\n",
    "    for line in f:\n",
    "        StationName = line.split('|')[0] + '.' + line.split('|')[1]\n",
    "        StationCatalog[StationName] = dict()\n",
    "        StationCatalog[StationName]['NetworkCode'] = line.split('|')[0]\n",
    "        StationCatalog[StationName]['StationCode'] = line.split('|')[1]\n",
    "        StationCatalog[StationName]['Channel'] = line.split('|')[3]\n",
    "        StationCatalog[StationName]['Latitude'] = float(line.split('|')[4])\n",
    "        StationCatalog[StationName]['Longitude'] = float(line.split('|')[5])"
   ]
  },
  {
   "cell_type": "code",
   "execution_count": 3,
   "metadata": {},
   "outputs": [
    {
     "name": "stdout",
     "output_type": "stream",
     "text": [
      "20110113164314\n"
     ]
    }
   ],
   "source": [
    "for MseedFileName in glob.glob(MseedDataDirectory+'/*.mseed')[0:1]:\n",
    "    MseedFileName = glob.glob(MseedDataDirectory+'/*.mseed')[0]\n",
    "    DataStream = read(MseedFileName,format='MSEED')\n",
    "    EVENTNAME = MseedFileName.split('/')[-1].split('.')[0]\n",
    "    print(EVENTNAME)\n",
    "\n",
    "    CatFind = glob.glob(f\"../Data/CMTSOLUTION/{EVENTNAME[0:12]}*.CMTSOLUTION\")\n",
    "    if len(CatFind)==1:\n",
    "        cat = read_events(CatFind[0])\n",
    "    else:\n",
    "        print(\"CMTSOLUTION not found!!!\")\n",
    "    SourceLat = cat[0].origins[0].latitude\n",
    "    SourceLon = cat[0].origins[0].longitude\n",
    "    SourceDepth = cat[0].origins[0].depth/1.0e3"
   ]
  },
  {
   "cell_type": "code",
   "execution_count": 4,
   "metadata": {
    "scrolled": true
   },
   "outputs": [],
   "source": [
    "# trim DataStream for same length\n",
    "DataStream.trim(starttime=DataStream[0].stats.starttime, endtime=DataStream[0].stats.starttime + 2400)\n",
    "# calculate baz for rotating\n",
    "for itrace, trace in enumerate(DataStream.select(component=\"N\")):\n",
    "    StationName = DataStream[itrace].stats.network + \".\" + DataStream[itrace].stats.station\n",
    "    distm, azimuth, backazimuth = gps2dist_azimuth(SourceLat,SourceLon,StationCatalog[StationName]['Latitude'],StationCatalog[StationName]['Longitude'])\n",
    "    distance_in_degrees = kilometers2degrees(distm/1.0e3)\n",
    "    \n",
    "    trace.stats.distance = distm\n",
    "    trace.stats.distance_in_degrees = distance_in_degrees\n",
    "    trace.stats.azimuth = azimuth\n",
    "    trace.stats.backazimuth = backazimuth"
   ]
  },
  {
   "cell_type": "markdown",
   "metadata": {},
   "source": [
    "## Rotate seismogram"
   ]
  },
  {
   "cell_type": "code",
   "execution_count": 6,
   "metadata": {},
   "outputs": [
    {
     "name": "stdout",
     "output_type": "stream",
     "text": [
      "AH.ANQ.00.BHN | 2011-01-13T16:38:14.000000Z - 2011-01-13T17:18:14.000000Z | 100.0 Hz, 240001 samples\n",
      "AH.BAS.00.BHN | 2011-01-13T16:38:14.000000Z - 2011-01-13T17:18:14.000000Z | 100.0 Hz, 240001 samples\n",
      "AH.BEB.00.BHN | 2011-01-13T16:38:14.000000Z - 2011-01-13T17:18:14.000000Z | 100.0 Hz, 240001 samples\n",
      "AH.CHZ.00.BHN | 2011-01-13T16:38:14.000000Z - 2011-01-13T17:18:14.000000Z | 100.0 Hz, 240001 samples\n",
      "AH.DYN.00.BHN | 2011-01-13T16:38:14.000000Z - 2011-01-13T17:18:14.000000Z | 100.0 Hz, 240001 samples\n",
      "AH.FZL.00.BHN | 2011-01-13T16:38:14.000000Z - 2011-01-13T17:18:14.000000Z | 100.0 Hz, 240001 samples\n",
      "AH.HBE.00.BHN | 2011-01-13T16:38:14.000000Z - 2011-01-13T17:18:14.000000Z | 100.0 Hz, 240001 samples\n",
      "AH.HEF.00.BHN | 2011-01-13T16:38:14.000000Z - 2011-01-13T17:18:14.000000Z | 100.0 Hz, 240001 samples\n",
      "AH.HNA.00.BHN | 2011-01-13T16:38:14.000000Z - 2011-01-13T17:18:14.000000Z | 100.0 Hz, 240001 samples\n",
      "AH.HSH.00.BHN | 2011-01-13T16:38:14.000000Z - 2011-01-13T17:18:14.000000Z | 100.0 Hz, 240001 samples\n",
      "AH.HUS.00.BHN | 2011-01-13T16:38:14.000000Z - 2011-01-13T17:18:14.000000Z | 100.0 Hz, 240001 samples\n",
      "AH.JAS.00.BHN | 2011-01-13T16:38:14.000000Z - 2011-01-13T17:00:35.990000Z | 100.0 Hz, 134200 samples\n",
      "processed trace exists!!!\n",
      "processed trace exists!!!\n",
      "processed trace exists!!!\n",
      "processed trace exists!!!\n",
      "processed trace exists!!!\n",
      "processed trace exists!!!\n",
      "processed trace exists!!!\n",
      "processed trace exists!!!\n",
      "AH.JIX.00.BHN | 2011-01-13T16:38:14.000000Z - 2011-01-13T17:18:14.000000Z | 100.0 Hz, 240001 samples\n",
      "AH.JZA.00.BHN | 2011-01-13T16:38:14.000000Z - 2011-01-13T17:18:14.000000Z | 100.0 Hz, 240001 samples\n",
      "AH.LAN.00.BHN | 2011-01-13T16:38:14.000000Z - 2011-01-13T17:18:14.000000Z | 100.0 Hz, 240001 samples\n",
      "AH.MCG.00.BHN | 2011-01-13T16:38:14.000000Z - 2011-01-13T17:18:14.000000Z | 100.0 Hz, 240001 samples\n",
      "AH.SCH.00.BHN | 2011-01-13T16:38:14.000000Z - 2011-01-13T17:18:14.000000Z | 100.0 Hz, 240001 samples\n",
      "AH.SIX.00.BHN | 2011-01-13T16:38:14.000000Z - 2011-01-13T17:18:14.000000Z | 100.0 Hz, 240001 samples\n",
      "AH.TOL.00.BHN | 2011-01-13T16:38:14.000000Z - 2011-01-13T17:18:14.000000Z | 100.0 Hz, 240001 samples\n",
      "AH.MAS.00.BHN | 2011-01-13T16:38:14.000000Z - 2011-01-13T17:18:14.000000Z | 100.0 Hz, 240001 samples\n",
      "BJ.DHC.00.BHN | 2011-01-13T16:38:14.000000Z - 2011-01-13T17:18:14.000000Z | 100.0 Hz, 240001 samples\n",
      "BJ.LBP.00.BHN | 2011-01-13T16:38:14.000000Z - 2011-01-13T17:18:14.000000Z | 100.0 Hz, 240001 samples\n",
      "BJ.LLM.00.BHN | 2011-01-13T16:38:14.000000Z - 2011-01-13T17:18:14.000000Z | 100.0 Hz, 240001 samples\n",
      "BJ.MIY.00.BHN | 2011-01-13T16:38:14.000000Z - 2011-01-13T17:18:14.000000Z | 100.0 Hz, 240001 samples\n",
      "BJ.NKY.00.BHN | 2011-01-13T16:38:14.000000Z - 2011-01-13T17:18:14.000000Z | 100.0 Hz, 240001 samples\n",
      "BJ.SSL.00.BHN | 2011-01-13T16:38:14.000000Z - 2011-01-13T17:18:14.000000Z | 100.0 Hz, 240001 samples\n",
      "BJ.XBZ.00.BHN | 2011-01-13T16:38:14.000000Z - 2011-01-13T17:18:14.000000Z | 100.0 Hz, 240001 samples\n"
     ]
    },
    {
     "name": "stderr",
     "output_type": "stream",
     "text": [
      "/home/zhi/anaconda3/lib/python3.8/site-packages/obspy/core/inventory/network.py:251: UserWarning: Found more than one matching response. Returning first.\n",
      "  warnings.warn(msg)\n"
     ]
    },
    {
     "name": "stdout",
     "output_type": "stream",
     "text": [
      "BJ.ZHT.00.BHN | 2011-01-13T16:38:14.000000Z - 2011-01-13T17:18:14.000000Z | 100.0 Hz, 240001 samples\n",
      "CQ.WAZ.00.BHN | 2011-01-13T16:38:14.000000Z - 2011-01-13T17:18:14.000000Z | 100.0 Hz, 240001 samples\n"
     ]
    },
    {
     "name": "stderr",
     "output_type": "stream",
     "text": [
      " WARNING: FIR normalized: sum[coef]=5.948845E-01;     \n",
      " WARNING: FIR normalized: sum[coef]=3.059059E-01;     \n",
      " WARNING: FIR normalized: sum[coef]=5.948845E-01;     \n",
      " WARNING: FIR normalized: sum[coef]=3.059059E-01;     \n",
      " WARNING: FIR normalized: sum[coef]=5.948845E-01;     \n",
      " WARNING: FIR normalized: sum[coef]=3.059059E-01;     \n"
     ]
    },
    {
     "name": "stdout",
     "output_type": "stream",
     "text": [
      "CQ.CHK.00.BHN | 2011-01-13T16:38:14.000000Z - 2011-01-13T17:18:14.000000Z | 100.0 Hz, 240001 samples\n"
     ]
    },
    {
     "name": "stderr",
     "output_type": "stream",
     "text": [
      " WARNING: FIR normalized: sum[coef]=5.948845E-01;     \n",
      " WARNING: FIR normalized: sum[coef]=3.059059E-01;     \n",
      " WARNING: FIR normalized: sum[coef]=5.948845E-01;     \n",
      " WARNING: FIR normalized: sum[coef]=3.059059E-01;     \n",
      " WARNING: FIR normalized: sum[coef]=5.948845E-01;     \n",
      " WARNING: FIR normalized: sum[coef]=3.059059E-01;     \n"
     ]
    },
    {
     "name": "stdout",
     "output_type": "stream",
     "text": [
      "CQ.CHS.00.BHN | 2011-01-13T16:38:14.000000Z - 2011-01-13T17:18:14.000000Z | 100.0 Hz, 240001 samples\n"
     ]
    },
    {
     "name": "stderr",
     "output_type": "stream",
     "text": [
      " WARNING: FIR normalized: sum[coef]=5.948845E-01;     \n",
      " WARNING: FIR normalized: sum[coef]=3.059059E-01;     \n",
      " WARNING: FIR normalized: sum[coef]=5.948845E-01;     \n",
      " WARNING: FIR normalized: sum[coef]=3.059059E-01;     \n",
      " WARNING: FIR normalized: sum[coef]=5.948845E-01;     \n",
      " WARNING: FIR normalized: sum[coef]=3.059059E-01;     \n"
     ]
    },
    {
     "name": "stdout",
     "output_type": "stream",
     "text": [
      "CQ.CQT.00.BHN | 2011-01-13T16:38:14.000000Z - 2011-01-13T17:18:14.000000Z | 100.0 Hz, 240001 samples\n"
     ]
    },
    {
     "name": "stderr",
     "output_type": "stream",
     "text": [
      " WARNING: FIR normalized: sum[coef]=5.948845E-01;     \n",
      " WARNING: FIR normalized: sum[coef]=3.059059E-01;     \n",
      " WARNING: FIR normalized: sum[coef]=5.948845E-01;     \n",
      " WARNING: FIR normalized: sum[coef]=3.059059E-01;     \n",
      " WARNING: FIR normalized: sum[coef]=5.948845E-01;     \n",
      " WARNING: FIR normalized: sum[coef]=3.059059E-01;     \n"
     ]
    },
    {
     "name": "stdout",
     "output_type": "stream",
     "text": [
      "CQ.FUL.00.BHN | 2011-01-13T16:38:14.000000Z - 2011-01-13T17:18:14.000000Z | 100.0 Hz, 240001 samples\n"
     ]
    },
    {
     "name": "stderr",
     "output_type": "stream",
     "text": [
      " WARNING: FIR normalized: sum[coef]=5.948845E-01;     \n",
      " WARNING: FIR normalized: sum[coef]=3.059059E-01;     \n",
      " WARNING: FIR normalized: sum[coef]=5.948845E-01;     \n",
      " WARNING: FIR normalized: sum[coef]=3.059059E-01;     \n",
      " WARNING: FIR normalized: sum[coef]=5.948845E-01;     \n",
      " WARNING: FIR normalized: sum[coef]=3.059059E-01;     \n"
     ]
    },
    {
     "name": "stdout",
     "output_type": "stream",
     "text": [
      "CQ.QIJ.00.BHN | 2011-01-13T16:38:14.000000Z - 2011-01-13T17:18:14.000000Z | 100.0 Hz, 240001 samples\n"
     ]
    },
    {
     "name": "stderr",
     "output_type": "stream",
     "text": [
      " WARNING: FIR normalized: sum[coef]=5.948845E-01;     \n",
      " WARNING: FIR normalized: sum[coef]=3.059059E-01;     \n",
      " WARNING: FIR normalized: sum[coef]=5.948845E-01;     \n",
      " WARNING: FIR normalized: sum[coef]=3.059059E-01;     \n",
      " WARNING: FIR normalized: sum[coef]=5.948845E-01;     \n",
      " WARNING: FIR normalized: sum[coef]=3.059059E-01;     \n"
     ]
    },
    {
     "name": "stdout",
     "output_type": "stream",
     "text": [
      "CQ.ROC.00.BHN | 2011-01-13T16:38:14.000000Z - 2011-01-13T17:18:14.000000Z | 100.0 Hz, 240001 samples\n"
     ]
    },
    {
     "name": "stderr",
     "output_type": "stream",
     "text": [
      " WARNING: FIR normalized: sum[coef]=5.948845E-01;     \n",
      " WARNING: FIR normalized: sum[coef]=3.059059E-01;     \n",
      " WARNING: FIR normalized: sum[coef]=5.948845E-01;     \n",
      " WARNING: FIR normalized: sum[coef]=3.059059E-01;     \n",
      " WARNING: FIR normalized: sum[coef]=5.948845E-01;     \n",
      " WARNING: FIR normalized: sum[coef]=3.059059E-01;     \n"
     ]
    },
    {
     "name": "stdout",
     "output_type": "stream",
     "text": [
      "CQ.SHZ.00.BHN | 2011-01-13T16:38:14.000000Z - 2011-01-13T17:18:14.000000Z | 100.0 Hz, 240001 samples\n"
     ]
    },
    {
     "name": "stderr",
     "output_type": "stream",
     "text": [
      " WARNING: FIR normalized: sum[coef]=5.948845E-01;     \n",
      " WARNING: FIR normalized: sum[coef]=3.059059E-01;     \n",
      " WARNING: FIR normalized: sum[coef]=5.948845E-01;     \n",
      " WARNING: FIR normalized: sum[coef]=3.059059E-01;     \n",
      " WARNING: FIR normalized: sum[coef]=5.948845E-01;     \n",
      " WARNING: FIR normalized: sum[coef]=3.059059E-01;     \n"
     ]
    },
    {
     "name": "stdout",
     "output_type": "stream",
     "text": [
      "CQ.WAS.00.BHN | 2011-01-13T16:38:14.000000Z - 2011-01-13T17:18:14.000000Z | 100.0 Hz, 240001 samples\n"
     ]
    },
    {
     "name": "stderr",
     "output_type": "stream",
     "text": [
      " WARNING: FIR normalized: sum[coef]=5.948845E-01;     \n",
      " WARNING: FIR normalized: sum[coef]=3.059059E-01;     \n",
      " WARNING: FIR normalized: sum[coef]=5.948845E-01;     \n",
      " WARNING: FIR normalized: sum[coef]=3.059059E-01;     \n",
      " WARNING: FIR normalized: sum[coef]=5.948845E-01;     \n",
      " WARNING: FIR normalized: sum[coef]=3.059059E-01;     \n"
     ]
    },
    {
     "name": "stdout",
     "output_type": "stream",
     "text": [
      "CQ.WUL.00.BHN | 2011-01-13T16:38:14.000000Z - 2011-01-13T17:18:14.000000Z | 100.0 Hz, 240001 samples\n"
     ]
    },
    {
     "name": "stderr",
     "output_type": "stream",
     "text": [
      " WARNING: FIR normalized: sum[coef]=5.948845E-01;     \n",
      " WARNING: FIR normalized: sum[coef]=3.059059E-01;     \n",
      " WARNING: FIR normalized: sum[coef]=5.948845E-01;     \n",
      " WARNING: FIR normalized: sum[coef]=3.059059E-01;     \n",
      " WARNING: FIR normalized: sum[coef]=5.948845E-01;     \n",
      " WARNING: FIR normalized: sum[coef]=3.059059E-01;     \n"
     ]
    },
    {
     "name": "stdout",
     "output_type": "stream",
     "text": [
      "CQ.WUX.00.BHN | 2011-01-13T16:38:14.000000Z - 2011-01-13T17:18:14.000000Z | 100.0 Hz, 240001 samples\n"
     ]
    },
    {
     "name": "stderr",
     "output_type": "stream",
     "text": [
      " WARNING: FIR normalized: sum[coef]=5.948845E-01;     \n",
      " WARNING: FIR normalized: sum[coef]=3.059059E-01;     \n",
      " WARNING: FIR normalized: sum[coef]=5.948845E-01;     \n",
      " WARNING: FIR normalized: sum[coef]=3.059059E-01;     \n",
      " WARNING: FIR normalized: sum[coef]=5.948845E-01;     \n",
      " WARNING: FIR normalized: sum[coef]=3.059059E-01;     \n"
     ]
    },
    {
     "name": "stdout",
     "output_type": "stream",
     "text": [
      "CQ.YUB.00.BHN | 2011-01-13T16:38:14.000000Z - 2011-01-13T17:18:14.000000Z | 100.0 Hz, 240001 samples\n"
     ]
    },
    {
     "name": "stderr",
     "output_type": "stream",
     "text": [
      " WARNING: FIR normalized: sum[coef]=5.948845E-01;     \n",
      " WARNING: FIR normalized: sum[coef]=3.059059E-01;     \n",
      " WARNING: FIR normalized: sum[coef]=5.948845E-01;     \n",
      " WARNING: FIR normalized: sum[coef]=3.059059E-01;     \n",
      " WARNING: FIR normalized: sum[coef]=5.948845E-01;     \n",
      " WARNING: FIR normalized: sum[coef]=3.059059E-01;     \n"
     ]
    },
    {
     "name": "stdout",
     "output_type": "stream",
     "text": [
      "FJ.FQDZ.00.BHN | 2011-01-13T16:38:14.000000Z - 2011-01-13T17:18:14.000000Z | 100.0 Hz, 240001 samples\n",
      "FJ.FZCM.00.BHN | 2011-01-13T16:38:14.000000Z - 2011-01-13T17:18:14.000000Z | 100.0 Hz, 240001 samples\n",
      "FJ.HAJF.00.BHN | 2011-01-13T16:38:14.000000Z - 2011-01-13T17:18:14.000000Z | 100.0 Hz, 240001 samples\n",
      "FJ.LJTL.00.BHN | 2011-01-13T16:38:14.000000Z - 2011-01-13T17:18:14.000000Z | 100.0 Hz, 240001 samples\n",
      "FJ.MQDQ.00.BHN | 2011-01-13T16:38:14.000000Z - 2011-01-13T17:18:14.000000Z | 100.0 Hz, 240001 samples\n",
      "FJ.PTLC.00.BHN | 2011-01-13T16:38:14.000000Z - 2011-01-13T17:18:14.000000Z | 100.0 Hz, 240001 samples\n",
      "FJ.PTNR.00.BHN | 2011-01-13T16:38:14.000000Z - 2011-01-13T17:18:14.000000Z | 100.0 Hz, 240001 samples\n",
      "FJ.QZH.00.BHN | 2011-01-13T16:38:14.000000Z - 2011-01-13T17:18:14.000000Z | 100.0 Hz, 240001 samples\n",
      "FJ.YCSG.00.BHN | 2011-01-13T16:38:14.000000Z - 2011-01-13T17:18:14.000000Z | 100.0 Hz, 240001 samples\n",
      "FJ.DSXP.00.BHN | 2011-01-13T16:38:14.000000Z - 2011-01-13T17:18:14.000000Z | 100.0 Hz, 240001 samples\n",
      "FJ.HAHF.00.BHN | 2011-01-13T16:38:14.000000Z - 2011-01-13T17:18:14.000000Z | 100.0 Hz, 240001 samples\n",
      "FJ.PHSG.00.BHN | 2011-01-13T16:38:14.000000Z - 2011-01-13T17:18:14.000000Z | 100.0 Hz, 240001 samples\n",
      "FJ.YDXS.00.BHN | 2011-01-13T16:38:14.000000Z - 2011-01-13T17:18:14.000000Z | 100.0 Hz, 240001 samples\n",
      "FJ.FDQY.00.BHN | 2011-01-13T16:38:14.000000Z - 2011-01-13T17:18:14.000000Z | 100.0 Hz, 240001 samples\n",
      "FJ.MXXF.00.BHN | 2011-01-13T16:38:14.000000Z - 2011-01-13T17:18:14.000000Z | 100.0 Hz, 240001 samples\n",
      "FJ.NDZW.00.BHN | 2011-01-13T16:38:14.000000Z - 2011-01-13T17:18:14.000000Z | 100.0 Hz, 240001 samples\n",
      "FJ.NPDK.00.BHN | 2011-01-13T16:38:14.000000Z - 2011-01-13T17:18:14.000000Z | 100.0 Hz, 240001 samples\n"
     ]
    },
    {
     "name": "stderr",
     "output_type": "stream",
     "text": [
      " WARNING: FIR normalized: sum[coef]=5.948845E-01;     \n",
      " WARNING: FIR normalized: sum[coef]=3.059059E-01;     \n",
      " WARNING: FIR normalized: sum[coef]=5.948845E-01;     \n",
      " WARNING: FIR normalized: sum[coef]=3.059059E-01;     \n",
      " WARNING: FIR normalized: sum[coef]=5.948845E-01;     \n",
      " WARNING: FIR normalized: sum[coef]=3.059059E-01;     \n"
     ]
    },
    {
     "name": "stdout",
     "output_type": "stream",
     "text": [
      "FJ.PCNP.00.BHN | 2011-01-13T16:38:14.000000Z - 2011-01-13T17:18:14.000000Z | 100.0 Hz, 240001 samples\n",
      "FJ.SNQY.00.BHN | 2011-01-13T16:38:14.000000Z - 2011-01-13T17:18:14.000000Z | 100.0 Hz, 240001 samples\n",
      "FJ.SWDT.00.BHN | 2011-01-13T16:38:14.000000Z - 2011-01-13T17:18:14.000000Z | 100.0 Hz, 240001 samples\n",
      "FJ.TNSC.00.BHN | 2011-01-13T16:38:14.000000Z - 2011-01-13T17:18:14.000000Z | 100.0 Hz, 240001 samples\n",
      "FJ.WYXF.00.BHN | 2011-01-13T16:38:14.000000Z - 2011-01-13T17:18:14.000000Z | 100.0 Hz, 240001 samples\n",
      "FJ.YAXT.00.BHN | 2011-01-13T16:38:14.000000Z - 2011-01-13T17:18:14.000000Z | 100.0 Hz, 240001 samples\n",
      "FJ.YAYX.00.BHN | 2011-01-13T16:38:14.000000Z - 2011-01-13T17:18:14.000000Z | 100.0 Hz, 240001 samples\n",
      "FJ.YXBM.00.BHN | 2011-01-13T16:38:14.000000Z - 2011-01-13T17:18:14.000000Z | 100.0 Hz, 240001 samples\n",
      "FJ.ZHNZ.00.BHN | 2011-01-13T16:38:14.000000Z - 2011-01-13T17:18:14.000000Z | 100.0 Hz, 240001 samples\n",
      "GD.DGD.00.BHN | 2011-01-13T16:38:14.000000Z - 2011-01-13T17:18:14.000000Z | 100.0 Hz, 240001 samples\n",
      "GD.GZH.00.BHN | 2011-01-13T16:38:14.000000Z - 2011-01-13T17:18:14.000000Z | 100.0 Hz, 240001 samples\n",
      "GD.HUJ.00.BHN | 2011-01-13T16:38:14.000000Z - 2011-01-13T17:18:14.000000Z | 100.0 Hz, 240001 samples\n",
      "GD.HUZ.00.BHN | 2011-01-13T16:38:14.000000Z - 2011-01-13T17:18:14.000000Z | 100.0 Hz, 240001 samples\n",
      "GD.JIX.00.BHN | 2011-01-13T16:38:14.000000Z - 2011-01-13T17:18:14.000000Z | 100.0 Hz, 240001 samples\n",
      "GD.LCH.00.BHN | 2011-01-13T16:38:14.000000Z - 2011-01-13T17:18:14.000000Z | 100.0 Hz, 240001 samples\n",
      "GD.LIP.00.BHN | 2011-01-13T16:38:14.000000Z - 2011-01-13T17:18:14.000000Z | 100.0 Hz, 240001 samples\n",
      "GD.LIZ.00.BHN | 2011-01-13T16:38:14.000000Z - 2011-01-13T17:18:14.000000Z | 100.0 Hz, 240001 samples\n",
      "GD.MEZ.00.BHN | 2011-01-13T16:38:14.000000Z - 2011-01-13T17:18:14.000000Z | 100.0 Hz, 240001 samples\n",
      "GD.NAP.00.BHN | 2011-01-13T16:38:14.000000Z - 2011-01-13T17:18:14.000000Z | 100.0 Hz, 240001 samples\n",
      "GD.PUN.00.BHN | 2011-01-13T16:38:14.000000Z - 2011-01-13T17:18:14.000000Z | 100.0 Hz, 240001 samples\n",
      "GD.SCD.00.BHN | 2011-01-13T16:38:14.000000Z - 2011-01-13T17:18:14.000000Z | 100.0 Hz, 240001 samples\n",
      "GD.SHG.00.BHN | 2011-01-13T16:38:14.000000Z - 2011-01-13T17:18:14.000000Z | 100.0 Hz, 240001 samples\n",
      "GD.SHT.00.BHN | 2011-01-13T16:38:14.000000Z - 2011-01-13T17:18:14.000000Z | 100.0 Hz, 240001 samples\n",
      "GD.SHW.00.BHN | 2011-01-13T16:38:14.000000Z - 2011-01-13T16:55:26.940000Z | 100.0 Hz, 103295 samples\n",
      "processed trace exists!!!\n",
      "GD.SLG.00.BHN | 2011-01-13T16:38:14.000000Z - 2011-01-13T17:18:14.000000Z | 100.0 Hz, 240001 samples\n",
      "GD.SZN.00.BHN | 2011-01-13T16:38:14.000000Z - 2011-01-13T17:18:14.000000Z | 50.0 Hz, 120001 samples\n",
      "GD.XFJ.00.BHN | 2011-01-13T16:38:14.000000Z - 2011-01-13T17:18:14.000000Z | 100.0 Hz, 240001 samples\n",
      "GD.XNY.00.BHN | 2011-01-13T16:38:14.000000Z - 2011-01-13T17:18:14.000000Z | 100.0 Hz, 240001 samples\n",
      "GD.YGC.00.BHN | 2011-01-13T16:38:14.000000Z - 2011-01-13T17:18:14.000000Z | 100.0 Hz, 240001 samples\n",
      "GD.YGD.00.BHN | 2011-01-13T16:38:14.000000Z - 2011-01-13T16:58:31.290000Z | 100.0 Hz, 121730 samples\n",
      "processed trace exists!!!\n",
      "GD.YGJ.00.BHN | 2011-01-13T16:38:14.000000Z - 2011-01-13T17:18:14.000000Z | 100.0 Hz, 240001 samples\n",
      "GD.YND.00.BHN | 2011-01-13T16:38:14.000000Z - 2011-01-13T17:18:14.000000Z | 100.0 Hz, 240001 samples\n",
      "GD.ZHH.00.BHN | 2011-01-13T16:38:14.000000Z - 2011-01-13T17:18:14.000000Z | 100.0 Hz, 240001 samples\n",
      "GD.ZHJ.00.BHN | 2011-01-13T16:38:14.000000Z - 2011-01-13T17:18:14.000000Z | 100.0 Hz, 240001 samples\n",
      "GD.ZHQ.00.BHN | 2011-01-13T16:38:14.000000Z - 2011-01-13T17:02:03.740000Z | 100.0 Hz, 142975 samples\n",
      "processed trace exists!!!\n",
      "GD.ZIJ.00.BHN | 2011-01-13T16:38:14.000000Z - 2011-01-13T17:18:14.000000Z | 100.0 Hz, 240001 samples\n",
      "GD.CHZ.00.BHN | 2011-01-13T16:38:14.000000Z - 2011-01-13T17:18:14.000000Z | 100.0 Hz, 240001 samples\n",
      "GD.DNB.00.BHN | 2011-01-13T16:38:14.000000Z - 2011-01-13T17:18:14.000000Z | 100.0 Hz, 240001 samples\n",
      "GD.DOG.00.BHN | 2011-01-13T16:38:14.000000Z - 2011-01-13T17:18:14.000000Z | 100.0 Hz, 240001 samples\n",
      "GD.FES.00.BHN | 2011-01-13T16:38:14.000000Z - 2011-01-13T17:18:14.000000Z | 100.0 Hz, 240001 samples\n",
      "GD.GAZ.00.BHN | 2011-01-13T16:38:14.000000Z - 2011-01-13T17:18:14.000000Z | 100.0 Hz, 240001 samples\n",
      "GD.HEJ.00.BHN | 2011-01-13T16:38:14.000000Z - 2011-01-13T17:18:14.000000Z | 100.0 Hz, 240001 samples\n",
      "GD.HUD.00.BHN | 2011-01-13T16:38:14.000000Z - 2011-01-13T17:18:14.000000Z | 100.0 Hz, 240001 samples\n",
      "GD.HYJ.00.BHN | 2011-01-13T16:38:14.000000Z - 2011-01-13T17:18:14.000000Z | 100.0 Hz, 240001 samples\n",
      "GD.LTK.00.BHN | 2011-01-13T16:38:14.000000Z - 2011-01-13T17:18:14.000000Z | 100.0 Hz, 240001 samples\n",
      "GD.NAO.00.BHN | 2011-01-13T16:38:14.000000Z - 2011-01-13T17:18:14.000000Z | 100.0 Hz, 240001 samples\n",
      "GD.SHD.00.BHN | 2011-01-13T16:38:14.000000Z - 2011-01-13T17:18:14.000000Z | 100.0 Hz, 240001 samples\n",
      "GD.TIS.00.BHN | 2011-01-13T16:38:14.000000Z - 2011-01-13T17:18:14.000000Z | 100.0 Hz, 240001 samples\n",
      "GD.TIX.00.BHN | 2011-01-13T16:38:14.000000Z - 2011-01-13T17:18:14.000000Z | 100.0 Hz, 240001 samples\n",
      "GD.XIG.00.BHN | 2011-01-13T16:38:14.000000Z - 2011-01-13T17:18:14.000000Z | 100.0 Hz, 240001 samples\n",
      "GD.XNH.00.BHN | 2011-01-13T16:38:14.000000Z - 2011-01-13T17:18:14.000000Z | 100.0 Hz, 240001 samples\n",
      "GD.YGX.00.BHN | 2011-01-13T16:38:14.000000Z - 2011-01-13T17:18:14.000000Z | 100.0 Hz, 240001 samples\n",
      "GD.ZHS.00.BHN | 2011-01-13T16:38:14.000000Z - 2011-01-13T17:18:14.000000Z | 100.0 Hz, 240001 samples\n",
      "GS.BYT.00.BHN | 2011-01-13T16:38:14.000000Z - 2011-01-13T17:18:14.000000Z | 100.0 Hz, 240001 samples\n",
      "GS.CXT.00.BHN | 2011-01-13T16:38:14.000000Z - 2011-01-13T16:40:33.060000Z | 100.0 Hz, 13907 samples\n",
      "processed trace exists!!!\n",
      "processed trace exists!!!\n",
      "processed trace exists!!!\n",
      "processed trace exists!!!\n",
      "processed trace exists!!!\n",
      "GS.DBT.00.BHN | 2011-01-13T16:38:14.000000Z - 2011-01-13T17:18:14.000000Z | 100.0 Hz, 240001 samples\n",
      "GS.HCH.00.BHN | 2011-01-13T16:38:14.000000Z - 2011-01-13T17:18:14.000000Z | 100.0 Hz, 240001 samples\n",
      "GS.HNT.00.BHN | 2011-01-13T16:38:14.000000Z - 2011-01-13T16:40:40.990000Z | 100.0 Hz, 14700 samples\n",
      "processed trace exists!!!\n",
      "processed trace exists!!!\n",
      "processed trace exists!!!\n",
      "processed trace exists!!!\n",
      "processed trace exists!!!\n",
      "processed trace exists!!!\n",
      "processed trace exists!!!\n",
      "processed trace exists!!!\n",
      "processed trace exists!!!\n",
      "processed trace exists!!!\n",
      "processed trace exists!!!\n",
      "processed trace exists!!!\n",
      "GS.HXT.00.BHN | 2011-01-13T16:38:14.000000Z - 2011-01-13T17:18:14.000000Z | 100.0 Hz, 240001 samples\n",
      "GS.HZT.00.BHN | 2011-01-13T16:38:14.000000Z - 2011-01-13T17:18:14.000000Z | 100.0 Hz, 240001 samples\n",
      "GS.JNT.00.BHN | 2011-01-13T16:38:14.000000Z - 2011-01-13T17:18:14.000000Z | 100.0 Hz, 240001 samples\n",
      "GS.JTA.00.BHN | 2011-01-13T16:38:14.000000Z - 2011-01-13T17:18:14.000000Z | 100.0 Hz, 240001 samples\n",
      "GS.LTT.00.BHN | 2011-01-13T16:38:14.000000Z - 2011-01-13T17:18:14.000000Z | 100.0 Hz, 240001 samples\n",
      "GS.LXA.00.BHN | 2011-01-13T16:38:14.000000Z - 2011-01-13T17:18:14.000000Z | 100.0 Hz, 240001 samples\n",
      "GS.LZH.00.BHN | 2011-01-13T16:38:14.000000Z - 2011-01-13T17:18:14.000000Z | 100.0 Hz, 240001 samples\n",
      "GS.MQT.00.BHN | 2011-01-13T16:38:14.000000Z - 2011-01-13T17:18:14.000000Z | 100.0 Hz, 240001 samples\n",
      "GS.MXT.00.BHN | 2011-01-13T16:38:14.000000Z - 2011-01-13T17:18:14.000000Z | 100.0 Hz, 240001 samples\n",
      "GS.NXT.00.BHN | 2011-01-13T16:38:14.000000Z - 2011-01-13T17:18:14.000000Z | 100.0 Hz, 240001 samples\n",
      "GS.PLT.00.BHN | 2011-01-13T16:38:14.000000Z - 2011-01-13T17:18:14.000000Z | 100.0 Hz, 240001 samples\n",
      "GS.SGS.00.BHN | 2011-01-13T16:38:14.000000Z - 2011-01-13T17:18:14.000000Z | 100.0 Hz, 240001 samples\n",
      "GS.SGT.00.BHN | 2011-01-13T16:38:14.000000Z - 2011-01-13T17:18:14.000000Z | 100.0 Hz, 240001 samples\n",
      "GS.TSS.00.BHN | 2011-01-13T16:38:14.000000Z - 2011-01-13T17:18:14.000000Z | 100.0 Hz, 240001 samples\n",
      "GS.WDT.00.BHN | 2011-01-13T16:38:14.000000Z - 2011-01-13T17:18:14.000000Z | 100.0 Hz, 240001 samples\n",
      "GS.WSH.00.BHN | 2011-01-13T16:38:14.000000Z - 2011-01-13T17:18:14.000000Z | 100.0 Hz, 240001 samples\n",
      "GS.WXT.00.BHN | 2011-01-13T16:38:14.000000Z - 2011-01-13T17:18:14.000000Z | 100.0 Hz, 240001 samples\n",
      "GS.WYT.00.BHN | 2011-01-13T16:38:23.000000Z - 2011-01-13T16:49:20.770000Z | 100.0 Hz, 65778 samples\n",
      "processed trace exists!!!\n",
      "GS.YDT.00.BHN | 2011-01-13T16:38:14.000000Z - 2011-01-13T17:18:14.000000Z | 100.0 Hz, 240001 samples\n",
      "GS.ZHC.00.BHN | 2011-01-13T16:38:14.000000Z - 2011-01-13T17:18:14.000000Z | 100.0 Hz, 240001 samples\n",
      "GS.AXX.00.BHN | 2011-01-13T16:38:14.000000Z - 2011-01-13T17:18:14.000000Z | 100.0 Hz, 240001 samples\n",
      "GS.DHT.00.BHN | 2011-01-13T16:38:14.000000Z - 2011-01-13T16:40:00.990000Z | 100.0 Hz, 10700 samples\n",
      "processed trace exists!!!\n",
      "processed trace exists!!!\n",
      "processed trace exists!!!\n",
      "processed trace exists!!!\n",
      "processed trace exists!!!\n",
      "processed trace exists!!!\n",
      "processed trace exists!!!\n",
      "processed trace exists!!!\n",
      "processed trace exists!!!\n",
      "processed trace exists!!!\n",
      "processed trace exists!!!\n",
      "processed trace exists!!!\n",
      "processed trace exists!!!\n",
      "processed trace exists!!!\n",
      "processed trace exists!!!\n",
      "processed trace exists!!!\n",
      "processed trace exists!!!\n",
      "processed trace exists!!!\n",
      "processed trace exists!!!\n",
      "processed trace exists!!!\n",
      "processed trace exists!!!\n",
      "processed trace exists!!!\n",
      "processed trace exists!!!\n",
      "processed trace exists!!!\n",
      "processed trace exists!!!\n",
      "processed trace exists!!!\n",
      "processed trace exists!!!\n",
      "processed trace exists!!!\n",
      "processed trace exists!!!\n",
      "processed trace exists!!!\n",
      "processed trace exists!!!\n",
      "processed trace exists!!!\n",
      "processed trace exists!!!\n",
      "processed trace exists!!!\n",
      "processed trace exists!!!\n",
      "processed trace exists!!!\n",
      "processed trace exists!!!\n",
      "processed trace exists!!!\n",
      "processed trace exists!!!\n",
      "processed trace exists!!!\n",
      "processed trace exists!!!\n",
      "processed trace exists!!!\n",
      "processed trace exists!!!\n",
      "processed trace exists!!!\n",
      "GS.GTA.00.BHN | 2011-01-13T16:38:14.000000Z - 2011-01-13T17:18:14.000000Z | 100.0 Hz, 240001 samples\n",
      "GS.HJT.00.BHN | 2011-01-13T16:38:14.000000Z - 2011-01-13T17:18:14.000000Z | 100.0 Hz, 240001 samples\n",
      "GS.HXP.00.BHN | 2011-01-13T16:38:14.000000Z - 2011-01-13T17:18:14.000000Z | 100.0 Hz, 240001 samples\n",
      "GS.HYS.00.BHN | 2011-01-13T16:38:14.000000Z - 2011-01-13T17:02:19.990000Z | 100.0 Hz, 144600 samples\n",
      "processed trace exists!!!\n",
      "processed trace exists!!!\n",
      "processed trace exists!!!\n",
      "GS.JFS.00.BHN | 2011-01-13T16:38:14.000000Z - 2011-01-13T16:38:19.990000Z | 100.0 Hz, 600 samples\n",
      "processed trace exists!!!\n",
      "processed trace exists!!!\n",
      "processed trace exists!!!\n",
      "processed trace exists!!!\n",
      "processed trace exists!!!\n",
      "processed trace exists!!!\n",
      "processed trace exists!!!\n",
      "processed trace exists!!!\n",
      "processed trace exists!!!\n",
      "processed trace exists!!!\n",
      "processed trace exists!!!\n",
      "processed trace exists!!!\n",
      "processed trace exists!!!\n",
      "processed trace exists!!!\n",
      "processed trace exists!!!\n",
      "processed trace exists!!!\n",
      "processed trace exists!!!\n",
      "processed trace exists!!!\n",
      "processed trace exists!!!\n",
      "processed trace exists!!!\n",
      "processed trace exists!!!\n",
      "processed trace exists!!!\n",
      "processed trace exists!!!\n",
      "processed trace exists!!!\n",
      "processed trace exists!!!\n",
      "processed trace exists!!!\n",
      "processed trace exists!!!\n",
      "processed trace exists!!!\n",
      "processed trace exists!!!\n",
      "processed trace exists!!!\n",
      "processed trace exists!!!\n",
      "processed trace exists!!!\n",
      "processed trace exists!!!\n",
      "processed trace exists!!!\n",
      "processed trace exists!!!\n",
      "GS.JYG.00.BHN | 2011-01-13T16:38:14.000000Z - 2011-01-13T17:18:14.000000Z | 100.0 Hz, 240001 samples\n"
     ]
    },
    {
     "name": "stderr",
     "output_type": "stream",
     "text": [
      " WARNING: FIR normalized: sum[coef]=5.948845E-01;     \n",
      " WARNING: FIR normalized: sum[coef]=3.059059E-01;     \n",
      " WARNING: FIR normalized: sum[coef]=5.948845E-01;     \n",
      " WARNING: FIR normalized: sum[coef]=3.059059E-01;     \n",
      " WARNING: FIR normalized: sum[coef]=5.948845E-01;     \n",
      " WARNING: FIR normalized: sum[coef]=3.059059E-01;     \n"
     ]
    },
    {
     "name": "stdout",
     "output_type": "stream",
     "text": [
      "GS.LYT.00.BHN | 2011-01-13T16:38:14.000000Z - 2011-01-13T17:18:14.000000Z | 100.0 Hz, 240001 samples\n",
      "GS.MIQ.00.BHN | 2011-01-13T16:38:14.000000Z - 2011-01-13T16:53:39.990000Z | 100.0 Hz, 92600 samples\n",
      "processed trace exists!!!\n",
      "processed trace exists!!!\n",
      "processed trace exists!!!\n",
      "processed trace exists!!!\n",
      "processed trace exists!!!\n",
      "processed trace exists!!!\n",
      "processed trace exists!!!\n",
      "GS.QTS.00.BHN | 2011-01-13T16:38:14.000000Z - 2011-01-13T17:18:14.000000Z | 100.0 Hz, 240001 samples\n",
      "GS.SBC.00.BHN | 2011-01-13T16:38:14.000000Z - 2011-01-13T16:39:49.990000Z | 100.0 Hz, 9600 samples\n",
      "processed trace exists!!!\n",
      "processed trace exists!!!\n",
      "processed trace exists!!!\n",
      "processed trace exists!!!\n",
      "processed trace exists!!!\n",
      "processed trace exists!!!\n",
      "processed trace exists!!!\n",
      "processed trace exists!!!\n",
      "processed trace exists!!!\n",
      "processed trace exists!!!\n",
      "processed trace exists!!!\n",
      "processed trace exists!!!\n",
      "processed trace exists!!!\n",
      "processed trace exists!!!\n",
      "GS.SDT.00.BHN | 2011-01-13T16:38:14.000000Z - 2011-01-13T17:18:14.000000Z | 100.0 Hz, 240001 samples\n",
      "GS.SNT.00.BHN | 2011-01-13T16:38:14.000000Z - 2011-01-13T17:18:14.000000Z | 100.0 Hz, 240001 samples\n",
      "GS.YJZ.00.BHN | 2011-01-13T16:38:14.000000Z - 2011-01-13T16:39:31.990000Z | 100.0 Hz, 7800 samples\n",
      "processed trace exists!!!\n",
      "processed trace exists!!!\n",
      "processed trace exists!!!\n",
      "processed trace exists!!!\n",
      "GS.ZHY.00.BHN | 2011-01-13T16:38:14.000000Z - 2011-01-13T16:46:55.880000Z | 100.0 Hz, 52189 samples\n",
      "processed trace exists!!!\n",
      "processed trace exists!!!\n",
      "processed trace exists!!!\n",
      "GX.BHS.00.BHN | 2011-01-13T16:38:14.000000Z - 2011-01-13T17:18:14.000000Z | 100.0 Hz, 240001 samples\n",
      "GX.HCS.00.BHN | 2011-01-13T16:38:14.000000Z - 2011-01-13T17:18:14.000000Z | 100.0 Hz, 240001 samples\n",
      "GX.LNS.00.BHN | 2011-01-13T16:38:14.000000Z - 2011-01-13T17:18:14.000000Z | 100.0 Hz, 240001 samples\n",
      "GX.NNS.00.BHN | 2011-01-13T16:38:14.000000Z - 2011-01-13T17:18:14.000000Z | 50.0 Hz, 120001 samples\n",
      "GX.PXS.00.BHN | 2011-01-13T16:38:14.000000Z - 2011-01-13T17:18:14.000000Z | 100.0 Hz, 240001 samples\n",
      "GX.QZS.00.BHN | 2011-01-13T16:38:14.000000Z - 2011-01-13T17:18:14.000000Z | 100.0 Hz, 240001 samples\n",
      "GX.WZS.00.BHN | 2011-01-13T16:38:14.000000Z - 2011-01-13T17:18:14.000000Z | 100.0 Hz, 240001 samples\n",
      "GX.YLS.00.BHN | 2011-01-13T16:38:14.000000Z - 2011-01-13T17:18:14.000000Z | 100.0 Hz, 240001 samples\n",
      "GX.CZS.00.BHN | 2011-01-13T16:38:14.000000Z - 2011-01-13T17:18:14.000000Z | 100.0 Hz, 240001 samples\n",
      "GX.DHX.00.BHN | 2011-01-13T16:38:14.000000Z - 2011-01-13T17:18:14.000000Z | 100.0 Hz, 240001 samples\n",
      "GX.DXS.00.BHN | 2011-01-13T16:38:14.000000Z - 2011-01-13T17:18:14.000000Z | 100.0 Hz, 240001 samples\n",
      "GX.DXX.00.BHN | 2011-01-13T16:38:14.000000Z - 2011-01-13T17:18:14.000000Z | 100.0 Hz, 240001 samples\n",
      "GX.GGS.00.BHN | 2011-01-13T16:38:14.000000Z - 2011-01-13T17:18:14.000000Z | 100.0 Hz, 240001 samples\n",
      "GX.GUL.00.BHN | 2011-01-13T16:38:14.000000Z - 2011-01-13T17:18:14.000000Z | 100.0 Hz, 240001 samples\n",
      "GX.HZS.00.BHN | 2011-01-13T16:38:14.000000Z - 2011-01-13T17:18:14.000000Z | 100.0 Hz, 240001 samples\n",
      "GX.PGX.00.BHN | 2011-01-13T16:38:14.000000Z - 2011-01-13T17:18:14.000000Z | 100.0 Hz, 240001 samples\n",
      "GX.PNX.00.BHN | 2011-01-13T16:38:14.000000Z - 2011-01-13T17:18:14.000000Z | 100.0 Hz, 240001 samples\n",
      "GX.WZD.00.BHN | 2011-01-13T16:38:14.000000Z - 2011-01-13T17:18:14.000000Z | 100.0 Hz, 240001 samples\n",
      "GX.XCT.00.BHN | 2011-01-13T16:38:14.000000Z - 2011-01-13T17:18:14.000000Z | 100.0 Hz, 240001 samples\n",
      "GX.YTT.00.BHN | 2011-01-13T16:38:14.000000Z - 2011-01-13T17:18:14.000000Z | 100.0 Hz, 240001 samples\n",
      "HA.JY.00.BHN | 2011-01-13T16:38:14.000000Z - 2011-01-13T17:18:14.000000Z | 100.0 Hz, 240001 samples\n",
      "HA.JZ.00.BHN | 2011-01-13T16:38:14.000000Z - 2011-01-13T17:18:14.000000Z | 100.0 Hz, 240001 samples\n",
      "HA.LS.00.BHN | 2011-01-13T16:38:14.000000Z - 2011-01-13T17:18:14.000000Z | 100.0 Hz, 240001 samples\n",
      "HA.LYN.00.BHN | 2011-01-13T16:38:14.000000Z - 2011-01-13T17:18:14.000000Z | 100.0 Hz, 240001 samples\n",
      "HA.NY.00.BHN | 2011-01-13T16:38:14.000000Z - 2011-01-13T17:18:14.000000Z | 100.0 Hz, 240001 samples\n"
     ]
    },
    {
     "name": "stderr",
     "output_type": "stream",
     "text": [
      " WARNING: FIR normalized: sum[coef]=5.948845E-01;     \n",
      " WARNING: FIR normalized: sum[coef]=3.059059E-01;     \n",
      " WARNING: FIR normalized: sum[coef]=5.948845E-01;     \n",
      " WARNING: FIR normalized: sum[coef]=3.059059E-01;     \n",
      " WARNING: FIR normalized: sum[coef]=5.948845E-01;     \n",
      " WARNING: FIR normalized: sum[coef]=3.059059E-01;     \n"
     ]
    },
    {
     "name": "stdout",
     "output_type": "stream",
     "text": [
      "HA.PDS.00.BHN | 2011-01-13T16:38:14.000000Z - 2011-01-13T17:18:14.000000Z | 100.0 Hz, 240001 samples\n",
      "HA.SC.00.BHN | 2011-01-13T16:38:14.000000Z - 2011-01-13T17:18:14.000000Z | 100.0 Hz, 240001 samples\n",
      "HA.XX.00.BHN | 2011-01-13T16:38:14.000000Z - 2011-01-13T17:18:14.000000Z | 100.0 Hz, 240001 samples\n",
      "HA.XY.00.BHN | 2011-01-13T16:38:14.000000Z - 2011-01-13T17:18:14.000000Z | 100.0 Hz, 240001 samples\n",
      "HA.ZMD.00.BHN | 2011-01-13T16:38:14.000000Z - 2011-01-13T17:18:14.000000Z | 100.0 Hz, 240001 samples\n",
      "HA.DA.00.BHN | 2011-01-13T16:38:14.000000Z - 2011-01-13T17:18:14.000000Z | 100.0 Hz, 240001 samples\n",
      "HA.HX.00.BHN | 2011-01-13T16:38:14.000000Z - 2011-01-13T17:18:14.000000Z | 100.0 Hz, 240001 samples\n",
      "HA.JS.00.BHN | 2011-01-13T16:38:14.000000Z - 2011-01-13T17:18:14.000000Z | 100.0 Hz, 240001 samples\n",
      "HB.DJI.00.BHN | 2011-01-13T16:38:14.000000Z - 2011-01-13T17:18:14.000000Z | 100.0 Hz, 240001 samples\n",
      "HB.DWU.00.BHN | 2011-01-13T16:38:14.000000Z - 2011-01-13T17:18:14.000000Z | 100.0 Hz, 240001 samples\n",
      "HB.ENS.00.BHN | 2011-01-13T16:38:14.000000Z - 2011-01-13T17:18:14.000000Z | 100.0 Hz, 240001 samples\n"
     ]
    },
    {
     "name": "stderr",
     "output_type": "stream",
     "text": [
      " WARNING (norm_resp): computed and reported sensitivities differ by more than 5 percent. \n",
      "\t Execution continuing.\n",
      " WARNING (norm_resp): computed and reported sensitivities differ by more than 5 percent. \n",
      "\t Execution continuing.\n",
      " WARNING (norm_resp): computed and reported sensitivities differ by more than 5 percent. \n",
      "\t Execution continuing.\n"
     ]
    },
    {
     "name": "stdout",
     "output_type": "stream",
     "text": [
      "HB.FXI.00.BHN | 2011-01-13T16:38:14.000000Z - 2011-01-13T17:18:14.000000Z | 100.0 Hz, 240001 samples\n",
      "HB.HFE.00.BHN | 2011-01-13T16:38:14.000000Z - 2011-01-13T17:18:14.000000Z | 100.0 Hz, 240001 samples\n",
      "HB.HME.00.BHN | 2011-01-13T16:38:14.000000Z - 2011-01-13T17:18:14.000000Z | 100.0 Hz, 240001 samples\n",
      "HB.JME.00.BHN | 2011-01-13T16:38:14.000000Z - 2011-01-13T17:18:14.000000Z | 100.0 Hz, 240001 samples\n",
      "HB.JYU.00.BHN | 2011-01-13T16:38:14.000000Z - 2011-01-13T17:18:14.000000Z | 100.0 Hz, 240001 samples\n",
      "HB.LCH.00.BHN | 2011-01-13T16:38:14.000000Z - 2011-01-13T17:18:14.000000Z | 100.0 Hz, 240001 samples\n",
      "HB.MCH.00.BHN | 2011-01-13T16:38:14.000000Z - 2011-01-13T17:18:14.000000Z | 100.0 Hz, 240001 samples\n",
      "HB.NZH.00.BHN | 2011-01-13T16:38:14.000000Z - 2011-01-13T17:18:14.000000Z | 100.0 Hz, 240001 samples\n",
      "HB.QJI.00.BHN | 2011-01-13T16:38:14.000000Z - 2011-01-13T17:18:14.000000Z | 100.0 Hz, 240001 samples\n",
      "HB.SSH.00.BHN | 2011-01-13T16:38:14.000000Z - 2011-01-13T17:18:14.000000Z | 100.0 Hz, 240001 samples\n",
      "HB.SYA.00.BHN | 2011-01-13T16:38:14.000000Z - 2011-01-13T17:18:14.000000Z | 100.0 Hz, 240001 samples\n"
     ]
    },
    {
     "name": "stderr",
     "output_type": "stream",
     "text": [
      " WARNING: FIR normalized: sum[coef]=5.948845E-01;     \n",
      " WARNING: FIR normalized: sum[coef]=3.059059E-01;     \n",
      " WARNING: FIR normalized: sum[coef]=5.948845E-01;     \n",
      " WARNING: FIR normalized: sum[coef]=3.059059E-01;     \n",
      " WARNING: FIR normalized: sum[coef]=5.948845E-01;     \n",
      " WARNING: FIR normalized: sum[coef]=3.059059E-01;     \n"
     ]
    },
    {
     "name": "stdout",
     "output_type": "stream",
     "text": [
      "HB.SZH.00.BHN | 2011-01-13T16:38:14.000000Z - 2011-01-13T17:18:14.000000Z | 100.0 Hz, 240001 samples\n",
      "HB.SZI.00.BHN | 2011-01-13T16:38:14.000000Z - 2011-01-13T17:18:14.000000Z | 100.0 Hz, 240001 samples\n",
      "HB.WHN.00.BHN | 2011-01-13T16:38:14.000000Z - 2011-01-13T17:18:14.000000Z | 50.0 Hz, 120001 samples\n",
      "HB.XFA.00.BHN | 2011-01-13T16:38:14.000000Z - 2011-01-13T17:18:14.000000Z | 100.0 Hz, 240001 samples\n",
      "HB.XNI.00.BHN | 2011-01-13T16:38:14.000000Z - 2011-01-13T17:18:14.000000Z | 100.0 Hz, 240001 samples\n",
      "HB.XSH.00.BHN | 2011-01-13T16:38:14.000000Z - 2011-01-13T17:18:14.000000Z | 100.0 Hz, 240001 samples\n",
      "HB.YCH.00.BHN | 2011-01-13T16:38:14.000000Z - 2011-01-13T17:18:14.000000Z | 100.0 Hz, 240001 samples\n",
      "HB.YDU.00.BHN | 2011-01-13T16:38:14.000000Z - 2011-01-13T17:18:14.000000Z | 100.0 Hz, 240001 samples\n",
      "HB.YNX.00.BHN | 2011-01-13T16:38:14.000000Z - 2011-01-13T17:18:14.000000Z | 100.0 Hz, 240001 samples\n",
      "HB.YXI.00.BHN | 2011-01-13T16:38:14.000000Z - 2011-01-13T17:18:14.000000Z | 100.0 Hz, 240001 samples\n",
      "HB.ZHX.00.BHN | 2011-01-13T16:38:14.000000Z - 2011-01-13T17:18:14.000000Z | 100.0 Hz, 240001 samples\n",
      "HB.ZSH.00.BHN | 2011-01-13T16:38:14.000000Z - 2011-01-13T17:18:14.000000Z | 100.0 Hz, 240001 samples\n",
      "HB.ZUX.00.BHN | 2011-01-13T16:38:14.000000Z - 2011-01-13T17:18:14.000000Z | 100.0 Hz, 240001 samples\n",
      "HE.CHC.00.BHN | 2011-01-13T16:38:14.000000Z - 2011-01-13T17:03:35.990000Z | 100.0 Hz, 152200 samples\n",
      "processed trace exists!!!\n",
      "HE.CHD.00.BHN | 2011-01-13T16:38:14.000000Z - 2011-01-13T17:18:14.000000Z | 100.0 Hz, 240001 samples\n"
     ]
    },
    {
     "name": "stderr",
     "output_type": "stream",
     "text": [
      " EVRESP ERROR (... [File: <stdin>; Start date: ; Stage: 3]):\n",
      "\tcheck_channel; units mismatch between stages,\n",
      "\tskipping to next response now\n"
     ]
    },
    {
     "name": "stdout",
     "output_type": "stream",
     "text": [
      "HE.CHD.00.BHN | 2011-01-13T16:38:14.000000Z - 2011-01-13T17:18:14.000000Z | 100.0 Hz, 240001 samples remove response failed\n",
      "HE.CLI.00.BHN | 2011-01-13T16:38:14.000000Z - 2011-01-13T17:18:14.000000Z | 100.0 Hz, 240001 samples\n",
      "HE.CXT.00.BHN | 2011-01-13T16:38:14.000000Z - 2011-01-13T17:18:14.000000Z | 100.0 Hz, 240001 samples\n",
      "HE.FEN.00.BHN | 2011-01-13T16:38:14.000000Z - 2011-01-13T17:18:14.000000Z | 100.0 Hz, 240001 samples\n",
      "HE.GAN.00.BHN | 2011-01-13T16:38:14.000000Z - 2011-01-13T17:18:14.000000Z | 50.0 Hz, 120001 samples\n",
      "HE.HNS.00.BHN | 2011-01-13T16:38:14.000000Z - 2011-01-13T17:18:14.000000Z | 100.0 Hz, 240001 samples\n",
      "HE.JNX.00.BHN | 2011-01-13T16:38:14.020000Z - 2011-01-13T17:18:14.000000Z | 50.0 Hz, 120000 samples\n",
      "HE.JNX.00.BHN | 2011-01-13T16:38:14.020000Z - 2011-01-13T17:18:14.000000Z | 50.0 Hz, 120000 samples remove response failed\n",
      "HE.KUC.00.BHN | 2011-01-13T16:38:14.000000Z - 2011-01-13T17:18:14.000000Z | 100.0 Hz, 240001 samples\n",
      "HE.LIC.00.BHN | 2011-01-13T16:38:14.000000Z - 2011-01-13T17:17:57.970000Z | 100.0 Hz, 238398 samples\n",
      "HE.LOH.00.BHN | 2011-01-13T16:38:14.000000Z - 2011-01-13T17:18:14.000000Z | 100.0 Hz, 240001 samples\n",
      "HE.LUQ.00.BHN | 2011-01-13T16:38:14.000000Z - 2011-01-13T17:18:14.000000Z | 50.0 Hz, 120001 samples\n",
      "HE.LUQ.00.BHN | 2011-01-13T16:38:14.000000Z - 2011-01-13T17:18:14.000000Z | 50.0 Hz, 120001 samples remove response failed\n",
      "HE.QIL.00.BHN | 2011-01-13T16:38:14.000000Z - 2011-01-13T17:18:14.000000Z | 100.0 Hz, 240001 samples\n"
     ]
    },
    {
     "name": "stderr",
     "output_type": "stream",
     "text": [
      " EVRESP ERROR (... [File: <stdin>; Start date: ; Stage: 3]):\n",
      "\tcheck_channel; units mismatch between stages,\n",
      "\tskipping to next response now\n"
     ]
    },
    {
     "name": "stdout",
     "output_type": "stream",
     "text": [
      "HE.QIX.00.BHN | 2011-01-13T16:38:14.000000Z - 2011-01-13T16:44:40.980000Z | 50.0 Hz, 19350 samples\n",
      "HE.QIX.00.BHN | 2011-01-13T16:38:14.000000Z - 2011-01-13T16:44:40.980000Z | 50.0 Hz, 19350 samples remove response failed\n",
      "HE.QIX.00.BHN | 2011-01-13T16:44:42.000000Z - 2011-01-13T17:18:14.000000Z | 50.0 Hz, 100601 samples\n",
      "HE.QIX.00.BHN | 2011-01-13T16:44:42.000000Z - 2011-01-13T17:18:14.000000Z | 50.0 Hz, 100601 samples remove response failed\n",
      "HE.SXT.00.BHN | 2011-01-13T16:38:14.000000Z - 2011-01-13T17:18:14.000000Z | 100.0 Hz, 240001 samples\n",
      "HE.TLK.00.BHN | 2011-01-13T16:38:14.000000Z - 2011-01-13T17:18:14.000000Z | 100.0 Hz, 240001 samples\n",
      "HE.TLK.00.BHN | 2011-01-13T16:38:14.000000Z - 2011-01-13T17:18:14.000000Z | 100.0 Hz, 240001 samples remove response failed\n",
      "HE.WAT.00.BHN | 2011-01-13T16:38:14.000000Z - 2011-01-13T17:18:14.000000Z | 100.0 Hz, 240001 samples\n",
      "HE.WEC.00.BHN | 2011-01-13T16:38:14.000000Z - 2011-01-13T17:18:14.000000Z | 100.0 Hz, 240001 samples\n",
      "HE.XIL.00.BHN | 2011-01-13T16:38:14.000000Z - 2011-01-13T17:18:14.000000Z | 100.0 Hz, 240001 samples\n",
      "HE.XIT.00.BHN | 2011-01-13T16:38:14.000000Z - 2011-01-13T17:18:14.000000Z | 50.0 Hz, 120001 samples\n",
      "HE.XIT.00.BHN | 2011-01-13T16:38:14.000000Z - 2011-01-13T17:18:14.000000Z | 50.0 Hz, 120001 samples remove response failed\n",
      "HE.XLD.00.BHN | 2011-01-13T16:38:14.000000Z - 2011-01-13T17:18:14.000000Z | 100.0 Hz, 240001 samples\n",
      "HE.XTT.00.BHN | 2011-01-13T16:38:14.000000Z - 2011-01-13T17:18:14.000000Z | 100.0 Hz, 240001 samples\n",
      "HE.YAY.00.BHN | 2011-01-13T16:59:14.000000Z - 2011-01-13T16:59:17.980000Z | 50.0 Hz, 200 samples\n",
      "HE.YAY.00.BHN | 2011-01-13T16:59:14.000000Z - 2011-01-13T16:59:17.980000Z | 50.0 Hz, 200 samples remove response failed\n",
      "HE.YAY.00.BHN | 2011-01-13T17:00:01.000000Z - 2011-01-13T17:13:53.980000Z | 50.0 Hz, 41650 samples\n",
      "HE.YAY.00.BHN | 2011-01-13T17:00:01.000000Z - 2011-01-13T17:13:53.980000Z | 50.0 Hz, 41650 samples remove response failed\n",
      "HE.YAY.00.BHN | 2011-01-13T17:13:55.000000Z - 2011-01-13T17:18:14.000000Z | 50.0 Hz, 12951 samples\n",
      "HE.YAY.00.BHN | 2011-01-13T17:13:55.000000Z - 2011-01-13T17:18:14.000000Z | 50.0 Hz, 12951 samples remove response failed\n",
      "HE.YIX.00.BHN | 2011-01-13T16:38:14.000000Z - 2011-01-13T17:18:14.000000Z | 50.0 Hz, 120001 samples\n",
      "HE.YON.00.BHN | 2011-01-13T16:38:14.000000Z - 2011-01-13T16:58:33.930000Z | 100.0 Hz, 121994 samples\n",
      "processed trace exists!!!\n",
      "HE.YUS.00.BHN | 2011-01-13T16:38:14.000000Z - 2011-01-13T17:18:14.000000Z | 50.0 Hz, 120001 samples\n",
      "HE.ZAH.00.BHN | 2011-01-13T16:38:14.000000Z - 2011-01-13T17:18:14.000000Z | 50.0 Hz, 120001 samples\n",
      "HE.ZAH.00.BHN | 2011-01-13T16:38:14.000000Z - 2011-01-13T17:18:14.000000Z | 50.0 Hz, 120001 samples remove response failed\n",
      "HE.ZHB.00.BHN | 2011-01-13T16:38:14.000000Z - 2011-01-13T17:18:14.000000Z | 100.0 Hz, 240001 samples\n",
      "HE.ZJK.00.BHN | 2011-01-13T16:38:14.000000Z - 2011-01-13T17:18:14.000000Z | 100.0 Hz, 240001 samples\n",
      "HI.BSH.00.BHN | 2011-01-13T16:38:14.000000Z - 2011-01-13T17:18:14.000000Z | 100.0 Hz, 240001 samples\n",
      "HI.BSL.00.BHN | 2011-01-13T16:38:14.000000Z - 2011-01-13T17:18:14.000000Z | 100.0 Hz, 240001 samples\n",
      "HI.CHM.00.BHN | 2011-01-13T16:38:14.000000Z - 2011-01-13T17:18:14.000000Z | 100.0 Hz, 240001 samples\n",
      "HI.DAN.00.BHN | 2011-01-13T16:38:14.000000Z - 2011-01-13T17:18:14.000000Z | 100.0 Hz, 240001 samples\n",
      "HI.HSK.00.BHN | 2011-01-13T16:38:14.000000Z - 2011-01-13T17:18:14.000000Z | 100.0 Hz, 240001 samples\n",
      "HI.JFL.00.BHN | 2011-01-13T16:38:14.000000Z - 2011-01-13T17:18:14.000000Z | 100.0 Hz, 240001 samples\n",
      "HI.LSH.00.BHN | 2011-01-13T16:38:14.000000Z - 2011-01-13T17:18:14.000000Z | 100.0 Hz, 240001 samples\n",
      "HI.NAD.00.BHN | 2011-01-13T16:38:14.000000Z - 2011-01-13T17:14:29.440000Z | 100.0 Hz, 217545 samples\n"
     ]
    },
    {
     "name": "stderr",
     "output_type": "stream",
     "text": [
      " WARNING: FIR normalized: sum[coef]=5.948845E-01;     \n",
      " WARNING: FIR normalized: sum[coef]=3.059059E-01;     \n",
      " WARNING: FIR normalized: sum[coef]=5.948845E-01;     \n",
      " WARNING: FIR normalized: sum[coef]=3.059059E-01;     \n",
      " WARNING: FIR normalized: sum[coef]=5.948845E-01;     \n",
      " WARNING: FIR normalized: sum[coef]=3.059059E-01;     \n"
     ]
    },
    {
     "name": "stdout",
     "output_type": "stream",
     "text": [
      "processed trace exists!!!\n",
      "HI.QIH.00.BHN | 2011-01-13T16:38:14.000000Z - 2011-01-13T17:18:14.000000Z | 100.0 Hz, 240001 samples\n",
      "HI.QSL.00.BHN | 2011-01-13T16:38:14.000000Z - 2011-01-13T17:18:14.000000Z | 100.0 Hz, 240001 samples\n",
      "HI.QXL.00.BHN | 2011-01-13T16:38:14.000000Z - 2011-01-13T17:18:14.000000Z | 100.0 Hz, 240001 samples\n",
      "HI.SAJ.00.BHN | 2011-01-13T16:38:14.000000Z - 2011-01-13T17:18:14.000000Z | 100.0 Hz, 240001 samples\n",
      "HI.SAY.00.BHN | 2011-01-13T16:38:14.000000Z - 2011-01-13T17:18:14.000000Z | 100.0 Hz, 240001 samples\n",
      "HI.SLL.00.BHN | 2011-01-13T16:38:14.000000Z - 2011-01-13T17:18:14.000000Z | 100.0 Hz, 240001 samples\n"
     ]
    },
    {
     "name": "stderr",
     "output_type": "stream",
     "text": [
      " WARNING: FIR normalized: sum[coef]=5.948845E-01;     \n",
      " WARNING: FIR normalized: sum[coef]=3.059059E-01;     \n",
      " WARNING: FIR normalized: sum[coef]=5.948845E-01;     \n",
      " WARNING: FIR normalized: sum[coef]=3.059059E-01;     \n",
      " WARNING: FIR normalized: sum[coef]=5.948845E-01;     \n",
      " WARNING: FIR normalized: sum[coef]=3.059059E-01;     \n"
     ]
    },
    {
     "name": "stdout",
     "output_type": "stream",
     "text": [
      "HI.WAN.00.BHN | 2011-01-13T16:38:14.000000Z - 2011-01-13T17:18:14.000000Z | 100.0 Hz, 240001 samples\n",
      "HI.WET.00.BHN | 2011-01-13T16:38:14.000000Z - 2011-01-13T17:18:14.000000Z | 100.0 Hz, 240001 samples\n"
     ]
    },
    {
     "name": "stderr",
     "output_type": "stream",
     "text": [
      " WARNING: FIR normalized: sum[coef]=5.948845E-01;     \n",
      " WARNING: FIR normalized: sum[coef]=3.059059E-01;     \n",
      " WARNING: FIR normalized: sum[coef]=5.948845E-01;     \n",
      " WARNING: FIR normalized: sum[coef]=3.059059E-01;     \n",
      " WARNING: FIR normalized: sum[coef]=5.948845E-01;     \n",
      " WARNING: FIR normalized: sum[coef]=3.059059E-01;     \n"
     ]
    },
    {
     "name": "stdout",
     "output_type": "stream",
     "text": [
      "HI.WZS.00.BHN | 2011-01-13T16:38:14.000000Z - 2011-01-13T17:18:14.000000Z | 100.0 Hz, 240001 samples\n",
      "HI.XSA.00.BHN | 2011-01-13T16:38:14.000000Z - 2011-01-13T17:18:14.000000Z | 100.0 Hz, 240001 samples\n",
      "HL.BAQ.00.BHN | 2011-01-13T16:38:14.000000Z - 2011-01-13T17:18:14.000000Z | 100.0 Hz, 240001 samples\n",
      "HL.BEL.00.BHN | 2011-01-13T16:38:14.000000Z - 2011-01-13T17:18:14.000000Z | 100.0 Hz, 240001 samples\n",
      "HL.BNX.00.BHN | 2011-01-13T16:38:14.000000Z - 2011-01-13T17:18:14.000000Z | 100.0 Hz, 240001 samples\n",
      "HL.DNI.00.BHN | 2011-01-13T16:38:14.000000Z - 2011-01-13T17:18:14.000000Z | 100.0 Hz, 240001 samples\n",
      "HL.FUY.00.BHN | 2011-01-13T16:38:14.000000Z - 2011-01-13T17:18:14.000000Z | 100.0 Hz, 240001 samples\n",
      "HL.HEG.00.BHN | 2011-01-13T16:38:14.000000Z - 2011-01-13T17:18:14.000000Z | 100.0 Hz, 240001 samples\n",
      "HL.HEH.00.BHN | 2011-01-13T16:38:14.000000Z - 2011-01-13T17:18:14.000000Z | 100.0 Hz, 240001 samples\n",
      "HL.JGD.00.BHN | 2011-01-13T16:38:14.000000Z - 2011-01-13T17:18:14.000000Z | 100.0 Hz, 240001 samples\n",
      "HL.JIY.00.BHN | 2011-01-13T16:38:14.000000Z - 2011-01-13T17:18:14.000000Z | 100.0 Hz, 240001 samples\n",
      "HL.JMS.00.BHN | 2011-01-13T16:38:14.000000Z - 2011-01-13T17:18:14.000000Z | 100.0 Hz, 240001 samples\n",
      "HL.LBE.00.BHN | 2011-01-13T16:38:14.000000Z - 2011-01-13T17:18:14.000000Z | 100.0 Hz, 240001 samples\n",
      "HL.MDJ.00.BHN | 2011-01-13T16:38:14.000000Z - 2011-01-13T17:18:14.000000Z | 100.0 Hz, 240001 samples\n"
     ]
    },
    {
     "name": "stderr",
     "output_type": "stream",
     "text": [
      " WARNING (norm_resp): computed and reported sensitivities differ by more than 5 percent. \n",
      "\t Execution continuing.\n",
      " WARNING (norm_resp): computed and reported sensitivities differ by more than 5 percent. \n",
      "\t Execution continuing.\n",
      " WARNING (norm_resp): computed and reported sensitivities differ by more than 5 percent. \n",
      "\t Execution continuing.\n"
     ]
    },
    {
     "name": "stdout",
     "output_type": "stream",
     "text": [
      "HL.MIH.00.BHN | 2011-01-13T16:38:14.000000Z - 2011-01-13T17:18:14.000000Z | 100.0 Hz, 240001 samples\n",
      "HL.MOH.00.BHN | 2011-01-13T16:38:14.000000Z - 2011-01-13T17:18:14.000000Z | 100.0 Hz, 240001 samples\n",
      "HL.NEH.00.BHN | 2011-01-13T16:38:14.000000Z - 2011-01-13T17:18:14.000000Z | 100.0 Hz, 240001 samples\n",
      "HL.NZN.00.BHN | 2011-01-13T16:38:14.000000Z - 2011-01-13T17:18:14.000000Z | 100.0 Hz, 240001 samples\n",
      "HL.QTH.00.BHN | 2011-01-13T16:38:14.000000Z - 2011-01-13T17:18:14.000000Z | 100.0 Hz, 240001 samples\n",
      "HL.SYS.00.BHN | 2011-01-13T16:38:14.000000Z - 2011-01-13T17:18:14.000000Z | 100.0 Hz, 240001 samples\n",
      "HL.TAH.00.BHN | 2011-01-13T16:38:14.000000Z - 2011-01-13T17:18:14.000000Z | 100.0 Hz, 240001 samples\n",
      "HL.TOH.00.BHN | 2011-01-13T16:38:14.000000Z - 2011-01-13T17:18:14.000000Z | 100.0 Hz, 240001 samples\n",
      "HL.WDL.00.BHN | 2011-01-13T16:38:14.000000Z - 2011-01-13T17:18:14.000000Z | 100.0 Hz, 240001 samples\n",
      "HL.WUC.00.BHN | 2011-01-13T16:38:14.000000Z - 2011-01-13T17:18:14.000000Z | 100.0 Hz, 240001 samples\n",
      "HL.XUK.00.BHN | 2011-01-13T16:38:14.000000Z - 2011-01-13T17:18:14.000000Z | 100.0 Hz, 240001 samples\n",
      "HL.YAS.00.BHN | 2011-01-13T16:38:14.000000Z - 2011-01-13T17:18:14.000000Z | 100.0 Hz, 240001 samples\n",
      "HL.YCH.00.BHN | 2011-01-13T16:38:14.000000Z - 2011-01-13T17:18:14.000000Z | 100.0 Hz, 240001 samples\n",
      "HL.YIL.00.BHN | 2011-01-13T16:38:14.000000Z - 2011-01-13T17:18:14.000000Z | 100.0 Hz, 240001 samples\n",
      "HL.HHL.00.BHN | 2011-01-13T16:38:14.000000Z - 2011-01-13T17:18:14.000000Z | 100.0 Hz, 240001 samples\n",
      "HL.LIH.00.BHN | 2011-01-13T16:38:14.000000Z - 2011-01-13T17:18:14.000000Z | 100.0 Hz, 240001 samples\n",
      "HL.SHZ.00.BHN | 2011-01-13T16:38:14.000000Z - 2011-01-13T17:18:14.000000Z | 100.0 Hz, 240001 samples\n",
      "HN.CHL.00.BHN | 2011-01-13T16:38:14.000000Z - 2011-01-13T17:18:14.000000Z | 100.0 Hz, 240001 samples\n",
      "HN.CHZ.00.BHN | 2011-01-13T16:38:14.000000Z - 2011-01-13T17:18:14.000000Z | 100.0 Hz, 240001 samples\n"
     ]
    },
    {
     "name": "stderr",
     "output_type": "stream",
     "text": [
      " WARNING: FIR normalized: sum[coef]=5.948845E-01;     \n",
      " WARNING: FIR normalized: sum[coef]=3.059059E-01;     \n",
      " WARNING: FIR normalized: sum[coef]=5.948845E-01;     \n",
      " WARNING: FIR normalized: sum[coef]=3.059059E-01;     \n",
      " WARNING: FIR normalized: sum[coef]=5.948845E-01;     \n",
      " WARNING: FIR normalized: sum[coef]=3.059059E-01;     \n"
     ]
    },
    {
     "name": "stdout",
     "output_type": "stream",
     "text": [
      "HN.CNS.00.BHN | 2011-01-13T16:38:14.000000Z - 2011-01-13T17:18:14.000000Z | 100.0 Hz, 240001 samples\n",
      "HN.HEY.00.BHN | 2011-01-13T16:38:14.000000Z - 2011-01-13T17:18:14.000000Z | 100.0 Hz, 240001 samples\n"
     ]
    },
    {
     "name": "stderr",
     "output_type": "stream",
     "text": [
      " WARNING: FIR normalized: sum[coef]=5.948845E-01;     \n",
      " WARNING: FIR normalized: sum[coef]=3.059059E-01;     \n",
      " WARNING: FIR normalized: sum[coef]=5.948845E-01;     \n",
      " WARNING: FIR normalized: sum[coef]=3.059059E-01;     \n",
      " WARNING: FIR normalized: sum[coef]=5.948845E-01;     \n",
      " WARNING: FIR normalized: sum[coef]=3.059059E-01;     \n"
     ]
    },
    {
     "name": "stdout",
     "output_type": "stream",
     "text": [
      "HN.HOJ.00.BHN | 2011-01-13T16:38:14.000000Z - 2011-01-13T17:18:14.000000Z | 100.0 Hz, 240001 samples\n"
     ]
    },
    {
     "name": "stderr",
     "output_type": "stream",
     "text": [
      " WARNING: FIR normalized: sum[coef]=5.948845E-01;     \n",
      " WARNING: FIR normalized: sum[coef]=3.059059E-01;     \n",
      " WARNING: FIR normalized: sum[coef]=5.948845E-01;     \n",
      " WARNING: FIR normalized: sum[coef]=3.059059E-01;     \n",
      " WARNING: FIR normalized: sum[coef]=5.948845E-01;     \n",
      " WARNING: FIR normalized: sum[coef]=3.059059E-01;     \n"
     ]
    },
    {
     "name": "stdout",
     "output_type": "stream",
     "text": [
      "HN.JGS.00.BHN | 2011-01-13T16:38:14.000000Z - 2011-01-13T17:18:14.000000Z | 100.0 Hz, 240001 samples\n"
     ]
    },
    {
     "name": "stderr",
     "output_type": "stream",
     "text": [
      " WARNING: FIR normalized: sum[coef]=5.948845E-01;     \n",
      " WARNING: FIR normalized: sum[coef]=3.059059E-01;     \n",
      " WARNING: FIR normalized: sum[coef]=5.948845E-01;     \n",
      " WARNING: FIR normalized: sum[coef]=3.059059E-01;     \n",
      " WARNING: FIR normalized: sum[coef]=5.948845E-01;     \n",
      " WARNING: FIR normalized: sum[coef]=3.059059E-01;     \n"
     ]
    },
    {
     "name": "stdout",
     "output_type": "stream",
     "text": [
      "HN.JIS.00.BHN | 2011-01-13T16:38:14.000000Z - 2011-01-13T17:18:14.000000Z | 100.0 Hz, 240001 samples\n"
     ]
    },
    {
     "name": "stderr",
     "output_type": "stream",
     "text": [
      " WARNING: FIR normalized: sum[coef]=5.948845E-01;     \n",
      " WARNING: FIR normalized: sum[coef]=3.059059E-01;     \n",
      " WARNING: FIR normalized: sum[coef]=5.948845E-01;     \n",
      " WARNING: FIR normalized: sum[coef]=3.059059E-01;     \n",
      " WARNING: FIR normalized: sum[coef]=5.948845E-01;     \n",
      " WARNING: FIR normalized: sum[coef]=3.059059E-01;     \n"
     ]
    },
    {
     "name": "stdout",
     "output_type": "stream",
     "text": [
      "HN.LOD.00.BHN | 2011-01-13T16:38:14.000000Z - 2011-01-13T17:18:14.000000Z | 100.0 Hz, 240001 samples\n"
     ]
    },
    {
     "name": "stderr",
     "output_type": "stream",
     "text": [
      " WARNING: FIR normalized: sum[coef]=5.948845E-01;     \n",
      " WARNING: FIR normalized: sum[coef]=3.059059E-01;     \n",
      " WARNING: FIR normalized: sum[coef]=5.948845E-01;     \n",
      " WARNING: FIR normalized: sum[coef]=3.059059E-01;     \n",
      " WARNING: FIR normalized: sum[coef]=5.948845E-01;     \n",
      " WARNING: FIR normalized: sum[coef]=3.059059E-01;     \n"
     ]
    },
    {
     "name": "stdout",
     "output_type": "stream",
     "text": [
      "HN.MIL.00.BHN | 2011-01-13T16:38:14.000000Z - 2011-01-13T17:18:14.000000Z | 100.0 Hz, 240001 samples\n"
     ]
    },
    {
     "name": "stderr",
     "output_type": "stream",
     "text": [
      " WARNING: FIR normalized: sum[coef]=5.948845E-01;     \n",
      " WARNING: FIR normalized: sum[coef]=3.059059E-01;     \n",
      " WARNING: FIR normalized: sum[coef]=5.948845E-01;     \n",
      " WARNING: FIR normalized: sum[coef]=3.059059E-01;     \n",
      " WARNING: FIR normalized: sum[coef]=5.948845E-01;     \n",
      " WARNING: FIR normalized: sum[coef]=3.059059E-01;     \n"
     ]
    },
    {
     "name": "stdout",
     "output_type": "stream",
     "text": [
      "HN.NIX.00.BHN | 2011-01-13T16:38:14.000000Z - 2011-01-13T17:18:14.000000Z | 100.0 Hz, 240001 samples\n"
     ]
    },
    {
     "name": "stderr",
     "output_type": "stream",
     "text": [
      " WARNING: FIR normalized: sum[coef]=5.948845E-01;     \n",
      " WARNING: FIR normalized: sum[coef]=3.059059E-01;     \n",
      " WARNING: FIR normalized: sum[coef]=5.948845E-01;     \n",
      " WARNING: FIR normalized: sum[coef]=3.059059E-01;     \n",
      " WARNING: FIR normalized: sum[coef]=5.948845E-01;     \n",
      " WARNING: FIR normalized: sum[coef]=3.059059E-01;     \n"
     ]
    },
    {
     "name": "stdout",
     "output_type": "stream",
     "text": [
      "HN.SHY.00.BHN | 2011-01-13T16:38:14.000000Z - 2011-01-13T17:18:14.000000Z | 100.0 Hz, 240001 samples\n",
      "HN.TAY.00.BHN | 2011-01-13T16:38:14.000000Z - 2011-01-13T17:18:14.000000Z | 100.0 Hz, 240001 samples\n"
     ]
    },
    {
     "name": "stderr",
     "output_type": "stream",
     "text": [
      " WARNING: FIR normalized: sum[coef]=5.948845E-01;     \n",
      " WARNING: FIR normalized: sum[coef]=3.059059E-01;     \n",
      " WARNING: FIR normalized: sum[coef]=5.948845E-01;     \n",
      " WARNING: FIR normalized: sum[coef]=3.059059E-01;     \n",
      " WARNING: FIR normalized: sum[coef]=5.948845E-01;     \n",
      " WARNING: FIR normalized: sum[coef]=3.059059E-01;     \n"
     ]
    },
    {
     "name": "stdout",
     "output_type": "stream",
     "text": [
      "HN.YIY.00.BHN | 2011-01-13T16:38:14.000000Z - 2011-01-13T17:18:14.000000Z | 100.0 Hz, 240001 samples\n"
     ]
    },
    {
     "name": "stderr",
     "output_type": "stream",
     "text": [
      " WARNING: FIR normalized: sum[coef]=5.948845E-01;     \n",
      " WARNING: FIR normalized: sum[coef]=3.059059E-01;     \n",
      " WARNING: FIR normalized: sum[coef]=5.948845E-01;     \n",
      " WARNING: FIR normalized: sum[coef]=3.059059E-01;     \n",
      " WARNING: FIR normalized: sum[coef]=5.948845E-01;     \n",
      " WARNING: FIR normalized: sum[coef]=3.059059E-01;     \n"
     ]
    },
    {
     "name": "stdout",
     "output_type": "stream",
     "text": [
      "HN.YOZ.00.BHN | 2011-01-13T16:38:14.000000Z - 2011-01-13T17:18:14.000000Z | 100.0 Hz, 240001 samples\n"
     ]
    },
    {
     "name": "stderr",
     "output_type": "stream",
     "text": [
      " WARNING: FIR normalized: sum[coef]=5.948845E-01;     \n",
      " WARNING: FIR normalized: sum[coef]=3.059059E-01;     \n",
      " WARNING: FIR normalized: sum[coef]=5.948845E-01;     \n",
      " WARNING: FIR normalized: sum[coef]=3.059059E-01;     \n",
      " WARNING: FIR normalized: sum[coef]=5.948845E-01;     \n",
      " WARNING: FIR normalized: sum[coef]=3.059059E-01;     \n"
     ]
    },
    {
     "name": "stdout",
     "output_type": "stream",
     "text": [
      "HN.ZJJ.00.BHN | 2011-01-13T16:38:14.000000Z - 2011-01-13T17:18:14.000000Z | 100.0 Hz, 240001 samples\n"
     ]
    },
    {
     "name": "stderr",
     "output_type": "stream",
     "text": [
      " WARNING: FIR normalized: sum[coef]=5.948845E-01;     \n",
      " WARNING: FIR normalized: sum[coef]=3.059059E-01;     \n",
      " WARNING: FIR normalized: sum[coef]=5.948845E-01;     \n",
      " WARNING: FIR normalized: sum[coef]=3.059059E-01;     \n",
      " WARNING: FIR normalized: sum[coef]=5.948845E-01;     \n",
      " WARNING: FIR normalized: sum[coef]=3.059059E-01;     \n"
     ]
    },
    {
     "name": "stdout",
     "output_type": "stream",
     "text": [
      "JL.CBS.00.BHN | 2011-01-13T16:38:14.000000Z - 2011-01-13T17:18:14.000000Z | 100.0 Hz, 240001 samples\n",
      "JL.CN2.00.BHN | 2011-01-13T16:38:14.000000Z - 2011-01-13T17:18:14.000000Z | 100.0 Hz, 240001 samples\n",
      "JL.YNB.00.BHN | 2011-01-13T16:38:14.000000Z - 2011-01-13T17:18:14.000000Z | 100.0 Hz, 240001 samples\n",
      "JL.YST.00.BHN | 2011-01-13T16:38:14.000000Z - 2011-01-13T17:18:14.000000Z | 100.0 Hz, 240001 samples\n",
      "JL.BCT.00.BHN | 2011-01-13T16:38:14.000000Z - 2011-01-13T17:18:14.000000Z | 100.0 Hz, 240001 samples\n",
      "JL.BST.00.BHN | 2011-01-13T16:38:14.000000Z - 2011-01-13T17:18:14.000000Z | 100.0 Hz, 240001 samples\n",
      "JL.BST.00.BHN | 2011-01-13T16:38:14.000000Z - 2011-01-13T17:18:14.000000Z | 100.0 Hz, 240001 samples remove response failed\n",
      "JL.CBT.00.BHN | 2011-01-13T16:45:38.000000Z - 2011-01-13T17:01:16.990000Z | 100.0 Hz, 93900 samples\n",
      "JL.CBT.00.BHN | 2011-01-13T16:45:38.000000Z - 2011-01-13T17:01:16.990000Z | 100.0 Hz, 93900 samples remove response failed\n",
      "JL.CBT.00.BHN | 2011-01-13T17:10:49.000000Z - 2011-01-13T17:17:55.990000Z | 100.0 Hz, 42700 samples\n",
      "JL.CBT.00.BHN | 2011-01-13T17:10:49.000000Z - 2011-01-13T17:17:55.990000Z | 100.0 Hz, 42700 samples remove response failed\n",
      "JL.DHT.00.BHN | 2011-01-13T16:38:14.000000Z - 2011-01-13T17:18:14.000000Z | 100.0 Hz, 240001 samples\n",
      "JL.FMT.00.BHN | 2011-01-13T16:38:14.000000Z - 2011-01-13T17:18:14.000000Z | 100.0 Hz, 240001 samples\n",
      "JL.FST.00.BHN | 2011-01-13T16:38:14.000000Z - 2011-01-13T17:18:14.000000Z | 100.0 Hz, 240001 samples\n",
      "JL.HCT.00.BHN | 2011-01-13T16:38:14.000000Z - 2011-01-13T17:18:14.000000Z | 100.0 Hz, 240001 samples\n",
      "JL.HST.00.BHN | 2011-01-13T16:38:14.000000Z - 2011-01-13T17:18:14.000000Z | 100.0 Hz, 240001 samples\n",
      "JL.JCT.00.BHN | 2011-01-13T16:38:14.000000Z - 2011-01-13T17:18:14.000000Z | 100.0 Hz, 240001 samples\n",
      "JL.JCT.00.BHN | 2011-01-13T16:38:14.000000Z - 2011-01-13T17:18:14.000000Z | 100.0 Hz, 240001 samples remove response failed\n",
      "JL.JYT.00.BHN | 2011-01-13T16:38:14.000000Z - 2011-01-13T17:18:14.000000Z | 100.0 Hz, 240001 samples\n",
      "JL.JYT.00.BHN | 2011-01-13T16:38:14.000000Z - 2011-01-13T17:18:14.000000Z | 100.0 Hz, 240001 samples remove response failed\n",
      "JL.LHT.00.BHN | 2011-01-13T16:38:14.000000Z - 2011-01-13T17:18:14.000000Z | 100.0 Hz, 240001 samples\n",
      "JL.LHT.00.BHN | 2011-01-13T16:38:14.000000Z - 2011-01-13T17:18:14.000000Z | 100.0 Hz, 240001 samples remove response failed\n",
      "JL.LYT.00.BHN | 2011-01-13T16:38:14.000000Z - 2011-01-13T17:18:14.000000Z | 100.0 Hz, 240001 samples\n",
      "JL.MJT.00.BHN | 2011-01-13T16:38:14.000000Z - 2011-01-13T17:18:14.000000Z | 100.0 Hz, 240001 samples\n",
      "JL.MJT.00.BHN | 2011-01-13T16:38:14.000000Z - 2011-01-13T17:18:14.000000Z | 100.0 Hz, 240001 samples remove response failed\n",
      "JL.PST.00.BHN | 2011-01-13T16:38:14.000000Z - 2011-01-13T17:18:14.000000Z | 100.0 Hz, 240001 samples\n",
      "JL.SGT.00.BHN | 2011-01-13T16:38:14.000000Z - 2011-01-13T17:18:14.000000Z | 100.0 Hz, 240001 samples\n",
      "JL.SLT.00.BHN | 2011-01-13T16:38:14.000000Z - 2011-01-13T17:18:14.000000Z | 100.0 Hz, 240001 samples\n",
      "JL.SPT.00.BHN | 2011-01-13T16:38:14.000000Z - 2011-01-13T17:18:14.000000Z | 100.0 Hz, 240001 samples\n",
      "JL.SYZT.00.BHN | 2011-01-13T16:38:14.000000Z - 2011-01-13T17:18:14.000000Z | 100.0 Hz, 240001 samples\n",
      "JL.YFT.00.BHN | 2011-01-13T16:38:14.000000Z - 2011-01-13T17:18:14.000000Z | 100.0 Hz, 240001 samples\n",
      "JS.BY.00.BHN | 2011-01-13T16:38:14.000000Z - 2011-01-13T17:18:14.000000Z | 100.0 Hz, 240001 samples\n",
      "JS.CS.00.BHN | 2011-01-13T16:38:14.000000Z - 2011-01-13T17:18:14.000000Z | 100.0 Hz, 240001 samples\n",
      "JS.CZ.00.BHN | 2011-01-13T16:38:14.000000Z - 2011-01-13T17:18:14.000000Z | 100.0 Hz, 240001 samples\n",
      "JS.DH.00.BHN | 2011-01-13T16:38:14.000000Z - 2011-01-13T17:18:14.000000Z | 100.0 Hz, 240001 samples\n",
      "JS.GAY.00.BHN | 2011-01-13T16:38:14.000000Z - 2011-01-13T17:18:14.000000Z | 100.0 Hz, 240001 samples\n",
      "JS.GC.00.BHN | 2011-01-13T16:38:14.000000Z - 2011-01-13T17:18:14.000000Z | 100.0 Hz, 240001 samples\n",
      "JS.GUY.00.BHN | 2011-01-13T16:38:14.000000Z - 2011-01-13T17:18:14.000000Z | 100.0 Hz, 240001 samples\n",
      "JS.GY.00.BHN | 2011-01-13T16:38:14.000000Z - 2011-01-13T17:18:14.000000Z | 100.0 Hz, 240001 samples\n",
      "JS.HA.00.BHN | 2011-01-13T16:38:14.000000Z - 2011-01-13T17:18:14.000000Z | 100.0 Hz, 240001 samples\n",
      "JS.HUA.00.BHN | 2011-01-13T16:38:14.000000Z - 2011-01-13T17:18:14.000000Z | 100.0 Hz, 240001 samples\n",
      "JS.JJ.00.BHN | 2011-01-13T16:38:14.000000Z - 2011-01-13T17:18:14.000000Z | 100.0 Hz, 240001 samples\n",
      "JS.JT.00.BHN | 2011-01-13T16:38:14.000000Z - 2011-01-13T17:18:14.000000Z | 100.0 Hz, 240001 samples\n",
      "JS.KS.00.BHN | 2011-01-13T16:38:14.000000Z - 2011-01-13T17:07:21.990000Z | 100.0 Hz, 174800 samples\n",
      "processed trace exists!!!\n",
      "JS.LAS.00.BHN | 2011-01-13T16:38:14.000000Z - 2011-01-13T17:18:14.000000Z | 100.0 Hz, 240001 samples\n",
      "JS.LH.00.BHN | 2011-01-13T16:38:14.000000Z - 2011-01-13T17:18:14.000000Z | 100.0 Hz, 240001 samples\n",
      "JS.LIS.00.BHN | 2011-01-13T16:38:14.000000Z - 2011-01-13T17:15:09.990000Z | 100.0 Hz, 221600 samples\n",
      "processed trace exists!!!\n",
      "JS.LY.00.BHN | 2011-01-13T16:38:14.000000Z - 2011-01-13T17:18:14.000000Z | 100.0 Hz, 240001 samples\n",
      "JS.LYG.00.BHN | 2011-01-13T16:38:14.000000Z - 2011-01-13T17:18:14.000000Z | 100.0 Hz, 240001 samples\n"
     ]
    },
    {
     "name": "stderr",
     "output_type": "stream",
     "text": [
      " WARNING: FIR normalized: sum[coef]=3.276800E+04;     \n",
      " WARNING: FIR normalized: sum[coef]=3.200000E+01;     \n",
      " WARNING: FIR normalized: sum[coef]=6.400000E+01;     \n",
      " WARNING: FIR normalized: sum[coef]=6.250000E+02;     \n",
      " WARNING: FIR normalized: sum[coef]=3.200000E+01;     \n",
      " WARNING: FIR normalized: sum[coef]=6.400000E+01;     \n",
      " WARNING: FIR normalized: sum[coef]=4.295720E+07;     \n",
      " WARNING: FIR normalized: sum[coef]=2.652851E+07;     \n",
      " WARNING: FIR normalized: sum[coef]=3.276800E+04;     \n",
      " WARNING: FIR normalized: sum[coef]=3.200000E+01;     \n",
      " WARNING: FIR normalized: sum[coef]=6.400000E+01;     \n",
      " WARNING: FIR normalized: sum[coef]=6.250000E+02;     \n",
      " WARNING: FIR normalized: sum[coef]=3.200000E+01;     \n",
      " WARNING: FIR normalized: sum[coef]=6.400000E+01;     \n",
      " WARNING: FIR normalized: sum[coef]=4.295720E+07;     \n",
      " WARNING: FIR normalized: sum[coef]=2.652851E+07;     \n",
      " WARNING: FIR normalized: sum[coef]=3.276800E+04;     \n",
      " WARNING: FIR normalized: sum[coef]=3.200000E+01;     \n",
      " WARNING: FIR normalized: sum[coef]=6.400000E+01;     \n",
      " WARNING: FIR normalized: sum[coef]=6.250000E+02;     \n",
      " WARNING: FIR normalized: sum[coef]=3.200000E+01;     \n",
      " WARNING: FIR normalized: sum[coef]=6.400000E+01;     \n",
      " WARNING: FIR normalized: sum[coef]=4.295720E+07;     \n",
      " WARNING: FIR normalized: sum[coef]=2.652851E+07;     \n"
     ]
    },
    {
     "name": "stdout",
     "output_type": "stream",
     "text": [
      "JS.NJ2.00.BHN | 2011-01-13T16:38:14.000000Z - 2011-01-13T17:18:14.000000Z | 100.0 Hz, 240001 samples\n",
      "JS.NT.00.BHN | 2011-01-13T16:38:14.000000Z - 2011-01-13T17:18:14.000000Z | 100.0 Hz, 240001 samples\n",
      "JS.PX.00.BHN | 2011-01-13T16:38:14.000000Z - 2011-01-13T17:18:14.000000Z | 100.0 Hz, 240001 samples\n",
      "JS.PZ.00.BHN | 2011-01-13T16:38:14.000000Z - 2011-01-13T17:18:14.000000Z | 100.0 Hz, 240001 samples\n",
      "JS.QD.00.BHN | 2011-01-13T16:38:14.000000Z - 2011-01-13T17:18:14.000000Z | 100.0 Hz, 240001 samples\n",
      "JS.QSD.00.BHN | 2011-01-13T16:38:14.000000Z - 2011-01-13T17:18:14.000000Z | 100.0 Hz, 240001 samples\n",
      "JS.RD.00.BHN | 2011-01-13T16:38:14.000000Z - 2011-01-13T16:40:19.990000Z | 100.0 Hz, 12600 samples\n",
      "processed trace exists!!!\n",
      "processed trace exists!!!\n",
      "processed trace exists!!!\n",
      "processed trace exists!!!\n",
      "processed trace exists!!!\n",
      "processed trace exists!!!\n",
      "JS.SH.00.BHN | 2011-01-13T16:38:14.000000Z - 2011-01-13T17:18:14.000000Z | 100.0 Hz, 240001 samples\n",
      "JS.SQ.00.BHN | 2011-01-13T16:38:14.000000Z - 2011-01-13T17:03:08.280000Z | 100.0 Hz, 149429 samples\n",
      "processed trace exists!!!\n",
      "JS.SY.00.BHN | 2011-01-13T16:38:14.000000Z - 2011-01-13T17:18:14.000000Z | 100.0 Hz, 240001 samples\n",
      "JS.TZ.00.BHN | 2011-01-13T16:38:14.000000Z - 2011-01-13T17:18:14.000000Z | 100.0 Hz, 240001 samples\n",
      "JS.WX.00.BHN | 2011-01-13T16:38:14.000000Z - 2011-01-13T17:18:14.000000Z | 100.0 Hz, 240001 samples\n",
      "JS.XH.00.BHN | 2011-01-13T16:38:14.000000Z - 2011-01-13T17:18:14.000000Z | 100.0 Hz, 240001 samples\n",
      "JS.XIY.00.BHN | 2011-01-13T16:38:14.000000Z - 2011-01-13T17:18:14.000000Z | 100.0 Hz, 240001 samples\n",
      "JS.XW.00.BHN | 2011-01-13T16:38:14.000000Z - 2011-01-13T17:18:14.000000Z | 100.0 Hz, 240001 samples\n",
      "JS.XY.00.BHN | 2011-01-13T16:38:14.000000Z - 2011-01-13T17:18:14.000000Z | 100.0 Hz, 240001 samples\n",
      "JS.XZ.00.BHN | 2011-01-13T16:38:14.000000Z - 2011-01-13T17:18:14.000000Z | 100.0 Hz, 240001 samples\n",
      "JS.YC.00.BHN | 2011-01-13T16:38:14.000000Z - 2011-01-13T17:18:14.000000Z | 100.0 Hz, 240001 samples\n",
      "JS.ZJ.00.BHN | 2011-01-13T16:38:14.000000Z - 2011-01-13T17:18:14.000000Z | 100.0 Hz, 240001 samples\n",
      "JX.ANY.00.BHN | 2011-01-13T16:38:14.000000Z - 2011-01-13T17:18:14.000000Z | 100.0 Hz, 240001 samples\n",
      "JX.DAY.00.BHN | 2011-01-13T16:38:14.000000Z - 2011-01-13T17:18:14.000000Z | 100.0 Hz, 240001 samples\n",
      "JX.DUC.00.BHN | 2011-01-13T16:38:14.000000Z - 2011-01-13T17:18:14.000000Z | 100.0 Hz, 240001 samples\n",
      "JX.FEC.00.BHN | 2011-01-13T16:38:14.000000Z - 2011-01-13T17:18:14.000000Z | 100.0 Hz, 240001 samples\n",
      "JX.GAA.00.BHN | 2011-01-13T16:38:14.000000Z - 2011-01-13T17:18:14.000000Z | 100.0 Hz, 240001 samples\n",
      "JX.GAZ.00.BHN | 2011-01-13T16:38:14.000000Z - 2011-01-13T17:18:14.000000Z | 100.0 Hz, 240001 samples\n",
      "JX.HUC.00.BHN | 2011-01-13T16:38:14.000000Z - 2011-01-13T16:43:19.990000Z | 100.0 Hz, 30600 samples\n",
      "processed trace exists!!!\n",
      "processed trace exists!!!\n",
      "processed trace exists!!!\n",
      "processed trace exists!!!\n",
      "processed trace exists!!!\n",
      "JX.JDZ.00.BHN | 2011-01-13T16:38:14.000000Z - 2011-01-13T17:18:14.000000Z | 100.0 Hz, 240001 samples\n",
      "JX.JGS.00.BHN | 2011-01-13T16:38:14.000000Z - 2011-01-13T17:18:14.000000Z | 100.0 Hz, 240001 samples\n",
      "JX.JIA.00.BHN | 2011-01-13T16:38:14.000000Z - 2011-01-13T17:18:14.000000Z | 100.0 Hz, 240001 samples\n",
      "JX.JIJ.00.BHN | 2011-01-13T16:38:14.000000Z - 2011-01-13T17:18:14.000000Z | 100.0 Hz, 240001 samples\n",
      "JX.JIX.00.BHN | 2011-01-13T16:38:14.000000Z - 2011-01-13T17:18:14.000000Z | 100.0 Hz, 240001 samples\n",
      "JX.LEA.00.BHN | 2011-01-13T16:38:14.000000Z - 2011-01-13T17:18:14.000000Z | 100.0 Hz, 240001 samples\n",
      "JX.LON.00.BHN | 2011-01-13T16:38:14.000000Z - 2011-01-13T17:18:14.000000Z | 100.0 Hz, 240001 samples\n",
      "JX.NAC.00.BHN | 2011-01-13T16:38:14.000000Z - 2011-01-13T17:18:14.000000Z | 100.0 Hz, 240001 samples\n",
      "JX.NNC.00.BHN | 2011-01-13T16:38:14.000000Z - 2011-01-13T17:18:14.000000Z | 100.0 Hz, 240001 samples\n",
      "JX.SHC.00.BHN | 2011-01-13T16:38:14.000000Z - 2011-01-13T17:18:14.000000Z | 100.0 Hz, 240001 samples\n",
      "JX.SHR.00.BHN | 2011-01-13T16:38:14.000000Z - 2011-01-13T17:18:14.000000Z | 100.0 Hz, 240001 samples\n",
      "JX.WAA.00.BHN | 2011-01-13T16:38:14.000000Z - 2011-01-13T17:18:14.000000Z | 100.0 Hz, 240001 samples\n",
      "JX.XIS.00.BHN | 2011-01-13T16:38:14.000000Z - 2011-01-13T17:18:14.000000Z | 100.0 Hz, 240001 samples\n",
      "JX.XUW.00.BHN | 2011-01-13T16:38:14.000000Z - 2011-01-13T17:18:14.000000Z | 100.0 Hz, 240001 samples\n",
      "JX.YIC.00.BHN | 2011-01-13T16:38:14.000000Z - 2011-01-13T17:18:14.000000Z | 100.0 Hz, 240001 samples\n",
      "JX.YOX.00.BHN | 2011-01-13T16:38:14.000000Z - 2011-01-13T17:18:14.000000Z | 100.0 Hz, 240001 samples\n",
      "JX.YUG.00.BHN | 2011-01-13T16:38:14.000000Z - 2011-01-13T17:18:14.000000Z | 100.0 Hz, 240001 samples\n",
      "LN.ANS.00.BHN | 2011-01-13T16:38:14.000000Z - 2011-01-13T17:18:14.000000Z | 100.0 Hz, 240001 samples\n",
      "LN.BXI.00.BHN | 2011-01-13T16:38:14.000000Z - 2011-01-13T17:18:14.000000Z | 100.0 Hz, 240001 samples\n",
      "LN.BZH.00.BHN | 2011-01-13T16:38:14.000000Z - 2011-01-13T17:18:14.000000Z | 100.0 Hz, 240001 samples\n",
      "LN.CHY.00.BHN | 2011-01-13T16:38:14.000000Z - 2011-01-13T17:18:14.000000Z | 100.0 Hz, 240001 samples\n",
      "LN.DDO.00.BHN | 2011-01-13T16:38:14.000000Z - 2011-01-13T17:18:14.000000Z | 100.0 Hz, 240001 samples\n",
      "LN.DL2.00.BHN | 2011-01-13T16:38:14.000000Z - 2011-01-13T17:18:14.000000Z | 100.0 Hz, 240001 samples\n",
      "LN.FKU.00.BHN | 2011-01-13T16:38:14.000000Z - 2011-01-13T17:18:14.000000Z | 100.0 Hz, 240001 samples\n",
      "LN.FXI.00.BHN | 2011-01-13T16:38:14.000000Z - 2011-01-13T17:18:14.000000Z | 100.0 Hz, 240001 samples\n",
      "LN.GAX.00.BHN | 2011-01-13T16:38:14.000000Z - 2011-01-13T17:18:14.000000Z | 100.0 Hz, 240001 samples\n",
      "LN.HSH.00.BHN | 2011-01-13T16:38:14.000000Z - 2011-01-13T17:18:14.000000Z | 100.0 Hz, 240001 samples\n",
      "LN.JZH.00.BHN | 2011-01-13T16:38:14.000000Z - 2011-01-13T17:18:14.000000Z | 100.0 Hz, 240001 samples\n",
      "LN.KDN.00.BHN | 2011-01-13T16:38:14.000000Z - 2011-01-13T17:18:14.000000Z | 100.0 Hz, 240001 samples\n",
      "LN.LYN.00.BHN | 2011-01-13T16:38:14.000000Z - 2011-01-13T17:18:14.000000Z | 100.0 Hz, 240001 samples\n",
      "LN.MQI.00.BHN | 2011-01-13T16:38:14.000000Z - 2011-01-13T17:18:14.000000Z | 100.0 Hz, 240001 samples\n",
      "LN.SNY.00.BHN | 2011-01-13T16:38:14.000000Z - 2011-01-13T17:18:14.000000Z | 100.0 Hz, 240001 samples\n",
      "LN.TIL.00.BHN | 2011-01-13T16:38:14.000000Z - 2011-01-13T17:18:14.000000Z | 100.0 Hz, 240001 samples\n",
      "LN.XMN.00.BHN | 2011-01-13T16:38:14.000000Z - 2011-01-13T17:18:14.000000Z | 100.0 Hz, 240001 samples\n",
      "LN.XYN.00.BHN | 2011-01-13T16:38:14.000000Z - 2011-01-13T17:18:14.000000Z | 100.0 Hz, 240001 samples\n",
      "LN.YKO.00.BHN | 2011-01-13T16:38:14.000000Z - 2011-01-13T17:18:14.000000Z | 100.0 Hz, 240001 samples\n",
      "LN.BEP.00.BHN | 2011-01-13T16:38:14.000000Z - 2011-01-13T17:18:14.000000Z | 100.0 Hz, 240001 samples\n",
      "LN.FSH.00.BHN | 2011-01-13T16:38:14.000000Z - 2011-01-13T17:18:14.000000Z | 100.0 Hz, 240001 samples\n",
      "LN.GUS.00.BHN | 2011-01-13T16:38:14.000000Z - 2011-01-13T17:18:14.000000Z | 100.0 Hz, 240001 samples\n",
      "LN.HUR.00.BHN | 2011-01-13T16:38:14.000000Z - 2011-01-13T17:18:14.000000Z | 100.0 Hz, 240001 samples\n",
      "LN.HXQ.00.BHN | 2011-01-13T16:38:14.000000Z - 2011-01-13T17:18:14.000000Z | 100.0 Hz, 240001 samples\n",
      "LN.JCA.00.BHN | 2011-01-13T16:38:14.000000Z - 2011-01-13T17:18:14.000000Z | 100.0 Hz, 240001 samples\n",
      "LN.LHT.00.BHN | 2011-01-13T16:38:14.000000Z - 2011-01-13T17:18:14.000000Z | 100.0 Hz, 240001 samples\n",
      "LN.LYA.00.BHN | 2011-01-13T16:38:14.000000Z - 2011-01-13T17:18:14.000000Z | 100.0 Hz, 240001 samples\n",
      "LN.NAP.00.BHN | 2011-01-13T16:38:14.000000Z - 2011-01-13T17:18:14.000000Z | 100.0 Hz, 240001 samples\n",
      "LN.QYU.00.BHN | 2011-01-13T16:38:14.000000Z - 2011-01-13T17:18:14.000000Z | 100.0 Hz, 240001 samples\n",
      "LN.SHS.00.BHN | 2011-01-13T16:38:14.000000Z - 2011-01-13T17:18:14.000000Z | 100.0 Hz, 240001 samples\n",
      "LN.SUZ.00.BHN | 2011-01-13T16:38:14.000000Z - 2011-01-13T16:38:30.990000Z | 100.0 Hz, 1700 samples\n",
      "processed trace exists!!!\n",
      "processed trace exists!!!\n",
      "processed trace exists!!!\n",
      "processed trace exists!!!\n",
      "processed trace exists!!!\n",
      "processed trace exists!!!\n",
      "processed trace exists!!!\n",
      "processed trace exists!!!\n",
      "processed trace exists!!!\n",
      "processed trace exists!!!\n",
      "processed trace exists!!!\n",
      "processed trace exists!!!\n",
      "processed trace exists!!!\n",
      "processed trace exists!!!\n",
      "processed trace exists!!!\n",
      "processed trace exists!!!\n",
      "processed trace exists!!!\n",
      "LN.XFN.00.BHN | 2011-01-13T16:38:14.000000Z - 2011-01-13T17:18:14.000000Z | 100.0 Hz, 240001 samples\n",
      "NM.AGL.00.BHN | 2011-01-13T16:38:14.000000Z - 2011-01-13T17:18:14.000000Z | 100.0 Hz, 240001 samples\n",
      "NM.ARS.00.BHN | 2011-01-13T16:38:14.000000Z - 2011-01-13T17:18:14.000000Z | 100.0 Hz, 240001 samples\n",
      "NM.BAC.00.BHN | 2011-01-13T16:38:14.000000Z - 2011-01-13T17:18:14.000000Z | 100.0 Hz, 240001 samples\n",
      "NM.BHS.00.BHN | 2011-01-13T16:38:14.000000Z - 2011-01-13T17:18:14.000000Z | 100.0 Hz, 240001 samples\n",
      "NM.BLM.00.BHN | 2011-01-13T16:38:14.000000Z - 2011-01-13T17:18:14.000000Z | 100.0 Hz, 240001 samples\n",
      "NM.BTO.00.BHN | 2011-01-13T16:38:14.000000Z - 2011-01-13T17:18:14.000000Z | 100.0 Hz, 240001 samples\n",
      "NM.BYT.00.BHN | 2011-01-13T16:38:14.000000Z - 2011-01-13T17:18:14.000000Z | 100.0 Hz, 240001 samples\n",
      "NM.CHF.00.BHN | 2011-01-13T16:38:14.000000Z - 2011-01-13T17:18:14.000000Z | 100.0 Hz, 240001 samples\n",
      "NM.CHR.00.BHN | 2011-01-13T16:38:14.000000Z - 2011-01-13T17:18:14.000000Z | 100.0 Hz, 240001 samples\n",
      "NM.CSQ.00.BHN | 2011-01-13T16:38:14.000000Z - 2011-01-13T17:18:14.000000Z | 100.0 Hz, 240001 samples\n",
      "NM.DSM.00.BHN | 2011-01-13T16:38:14.000000Z - 2011-01-13T17:18:14.000000Z | 100.0 Hz, 240001 samples\n",
      "NM.GNH.00.BHN | 2011-01-13T16:38:14.000000Z - 2011-01-13T17:18:14.000000Z | 100.0 Hz, 240001 samples\n",
      "NM.HHC.00.BHN | 2011-01-13T16:38:14.000000Z - 2011-01-13T17:18:14.000000Z | 100.0 Hz, 240001 samples\n",
      "NM.HLG.00.BHN | 2011-01-13T16:38:14.000000Z - 2011-01-13T17:18:14.000000Z | 100.0 Hz, 240001 samples\n",
      "NM.HLR.00.BHN | 2011-01-13T16:38:14.000000Z - 2011-01-13T17:18:14.000000Z | 100.0 Hz, 240001 samples\n",
      "NM.IDR.00.BHN | 2011-01-13T16:38:14.000000Z - 2011-01-13T17:18:14.000000Z | 100.0 Hz, 240001 samples\n",
      "NM.JIN.00.BHN | 2011-01-13T16:38:14.000000Z - 2011-01-13T17:18:14.000000Z | 100.0 Hz, 240001 samples\n",
      "NM.JIP.00.BHN | 2011-01-13T16:38:14.000000Z - 2011-01-13T17:18:14.000000Z | 100.0 Hz, 240001 samples\n",
      "NM.LCH.00.BHN | 2011-01-13T16:38:14.000000Z - 2011-01-13T17:18:14.000000Z | 100.0 Hz, 240001 samples\n",
      "NM.LIX.00.BHN | 2011-01-13T16:38:14.000000Z - 2011-01-13T17:18:14.000000Z | 100.0 Hz, 240001 samples\n",
      "NM.LUB.00.BHN | 2011-01-13T16:38:14.000000Z - 2011-01-13T17:18:14.000000Z | 100.0 Hz, 240001 samples\n",
      "NM.MDG.00.BHN | 2011-01-13T16:38:14.000000Z - 2011-01-13T17:18:14.000000Z | 100.0 Hz, 240001 samples\n",
      "NM.MZL.00.BHN | 2011-01-13T16:38:14.000000Z - 2011-01-13T17:18:14.000000Z | 100.0 Hz, 240001 samples\n",
      "NM.NIC.00.BHN | 2011-01-13T16:38:14.000000Z - 2011-01-13T17:18:14.000000Z | 100.0 Hz, 240001 samples\n",
      "NM.NJT.00.BHN | 2011-01-13T16:38:14.000000Z - 2011-01-13T17:18:14.000000Z | 100.0 Hz, 240001 samples\n",
      "NM.QSH.00.BHN | 2011-01-13T16:38:14.000000Z - 2011-01-13T17:18:14.000000Z | 100.0 Hz, 240001 samples\n",
      "NM.RLT.00.BHN | 2011-01-13T16:38:14.000000Z - 2011-01-13T17:18:14.000000Z | 100.0 Hz, 240001 samples\n",
      "NM.TIS.00.BHN | 2011-01-13T16:38:14.000000Z - 2011-01-13T17:18:14.000000Z | 100.0 Hz, 240001 samples\n",
      "NM.WJH.00.BHN | 2011-01-13T16:38:14.000000Z - 2011-01-13T17:18:14.000000Z | 100.0 Hz, 240001 samples\n",
      "NM.WLH.00.BHN | 2011-01-13T16:38:14.000000Z - 2011-01-13T17:18:14.000000Z | 100.0 Hz, 240001 samples\n",
      "NM.WLT.00.BHN | 2011-01-13T16:38:14.000000Z - 2011-01-13T17:18:14.000000Z | 100.0 Hz, 240001 samples\n",
      "NM.WUH.00.BHN | 2011-01-13T16:38:14.000000Z - 2011-01-13T17:18:14.000000Z | 100.0 Hz, 240001 samples\n",
      "NM.XIH.00.BHN | 2011-01-13T16:38:14.000000Z - 2011-01-13T17:18:14.000000Z | 100.0 Hz, 240001 samples\n",
      "NM.XIQ.00.BHN | 2011-01-13T16:38:14.000000Z - 2011-01-13T17:18:14.000000Z | 100.0 Hz, 240001 samples\n",
      "NM.XLT.00.BHN | 2011-01-13T16:38:14.000000Z - 2011-01-13T17:18:14.000000Z | 100.0 Hz, 240001 samples\n",
      "NM.XSZ.00.BHN | 2011-01-13T16:38:14.000000Z - 2011-01-13T17:18:14.000000Z | 100.0 Hz, 240001 samples\n",
      "NM.ZLT.00.BHN | 2011-01-13T16:38:14.000000Z - 2011-01-13T17:18:14.000000Z | 100.0 Hz, 240001 samples\n",
      "NX.GYU.00.BHN | 2011-01-13T16:38:14.000000Z - 2011-01-13T17:18:14.000000Z | 100.0 Hz, 240001 samples\n",
      "NX.HYU.00.BHN | 2011-01-13T16:38:14.000000Z - 2011-01-13T17:18:14.000000Z | 100.0 Hz, 240001 samples\n",
      "NX.JYU.00.BHN | 2011-01-13T16:38:14.000000Z - 2011-01-13T17:18:14.000000Z | 100.0 Hz, 240001 samples\n",
      "NX.LWU.00.BHN | 2011-01-13T16:38:14.000000Z - 2011-01-13T17:18:14.000000Z | 100.0 Hz, 240001 samples\n",
      "NX.NSS.00.BHN | 2011-01-13T16:38:14.000000Z - 2011-01-13T17:18:14.000000Z | 100.0 Hz, 240001 samples\n",
      "NX.SZS.00.BHN | 2011-01-13T16:38:14.000000Z - 2011-01-13T17:18:14.000000Z | 100.0 Hz, 240001 samples\n",
      "NX.TLE.00.BHN | 2011-01-13T16:38:14.000000Z - 2011-01-13T17:18:14.000000Z | 100.0 Hz, 240001 samples\n",
      "NX.TXN.00.BHN | 2011-01-13T16:38:14.000000Z - 2011-01-13T17:18:14.000000Z | 100.0 Hz, 240001 samples\n",
      "NX.XJI.00.BHN | 2011-01-13T16:38:14.000000Z - 2011-01-13T16:48:45.990000Z | 100.0 Hz, 63200 samples\n",
      "processed trace exists!!!\n",
      "processed trace exists!!!\n",
      "processed trace exists!!!\n",
      "processed trace exists!!!\n",
      "NX.XSH.00.BHN | 2011-01-13T16:38:14.000000Z - 2011-01-13T16:56:24.990000Z | 100.0 Hz, 109100 samples\n",
      "processed trace exists!!!\n",
      "processed trace exists!!!\n",
      "NX.YCH.00.BHN | 2011-01-13T16:38:14.000000Z - 2011-01-13T17:18:14.000000Z | 100.0 Hz, 240001 samples\n",
      "NX.YCI.00.BHN | 2011-01-13T16:38:14.000000Z - 2011-01-13T17:18:14.000000Z | 100.0 Hz, 240001 samples\n"
     ]
    },
    {
     "name": "stderr",
     "output_type": "stream",
     "text": [
      " WARNING: FIR normalized: sum[coef]=3.276800E+04;     \n",
      " WARNING: FIR normalized: sum[coef]=3.276800E+04;     \n",
      " WARNING: FIR normalized: sum[coef]=3.276800E+04;     \n"
     ]
    },
    {
     "name": "stdout",
     "output_type": "stream",
     "text": [
      "NX.ZHW.00.BHN | 2011-01-13T16:38:14.000000Z - 2011-01-13T17:18:14.000000Z | 100.0 Hz, 240001 samples\n",
      "QH.DAW.00.BHN | 2011-01-13T16:38:14.000000Z - 2011-01-13T17:18:14.000000Z | 100.0 Hz, 240001 samples\n",
      "QH.DLH.00.BHN | 2011-01-13T16:38:14.000000Z - 2011-01-13T17:18:14.000000Z | 100.0 Hz, 240001 samples\n",
      "QH.HUY.00.BHN | 2011-01-13T16:38:14.000000Z - 2011-01-13T17:18:14.000000Z | 100.0 Hz, 240001 samples\n",
      "QH.LED.00.BHN | 2011-01-13T16:38:14.000000Z - 2011-01-13T17:18:14.000000Z | 100.0 Hz, 240001 samples\n",
      "QH.LEH.00.BHN | 2011-01-13T16:38:14.000000Z - 2011-01-13T17:18:14.000000Z | 100.0 Hz, 240001 samples\n",
      "QH.MEY.00.BHN | 2011-01-13T16:38:14.000000Z - 2011-01-13T17:18:14.000000Z | 100.0 Hz, 240001 samples\n",
      "QH.TIJ.00.BHN | 2011-01-13T16:38:14.000000Z - 2011-01-13T17:18:14.000000Z | 100.0 Hz, 240001 samples\n",
      "QH.TOR.00.BHN | 2011-01-13T16:38:14.000000Z - 2011-01-13T17:18:14.000000Z | 100.0 Hz, 240001 samples\n",
      "QH.TTH.00.BHN | 2011-01-13T16:38:14.000000Z - 2011-01-13T17:18:14.000000Z | 100.0 Hz, 240001 samples\n",
      "QH.XIN.00.BHN | 2011-01-13T16:38:14.000000Z - 2011-01-13T17:18:14.000000Z | 100.0 Hz, 240001 samples\n",
      "QH.BAM.00.BHN | 2011-01-13T16:38:14.000000Z - 2011-01-13T17:18:14.000000Z | 100.0 Hz, 240001 samples\n",
      "QH.DCD.00.BHN | 2011-01-13T16:38:14.000000Z - 2011-01-13T17:18:14.000000Z | 100.0 Hz, 240001 samples\n",
      "QH.DUL.00.BHN | 2011-01-13T16:38:14.000000Z - 2011-01-13T17:18:14.000000Z | 100.0 Hz, 240001 samples\n",
      "QH.GOM.00.BHN | 2011-01-13T16:38:14.000000Z - 2011-01-13T17:18:14.000000Z | 100.0 Hz, 240001 samples\n",
      "QH.HTG.00.BHN | 2011-01-13T16:38:14.000000Z - 2011-01-13T17:18:14.000000Z | 100.0 Hz, 240001 samples\n",
      "QH.HUL.00.BHN | 2011-01-13T16:38:14.000000Z - 2011-01-13T17:18:14.000000Z | 100.0 Hz, 240001 samples\n",
      "QH.LJS.00.BHN | 2011-01-13T16:38:14.000000Z - 2011-01-13T17:18:14.000000Z | 100.0 Hz, 240001 samples\n",
      "QH.LJX.00.BHN | 2011-01-13T16:38:14.000000Z - 2011-01-13T17:18:14.000000Z | 100.0 Hz, 240001 samples\n",
      "QH.LWS.00.BHN | 2011-01-13T16:38:14.000000Z - 2011-01-13T17:18:14.000000Z | 100.0 Hz, 240001 samples\n",
      "QH.LYX.00.BHN | 2011-01-13T16:38:14.000000Z - 2011-01-13T17:18:14.000000Z | 100.0 Hz, 240001 samples\n",
      "QH.MAD.00.BHN | 2011-01-13T16:38:14.000000Z - 2011-01-13T17:18:14.000000Z | 100.0 Hz, 240001 samples\n",
      "QH.MIH.00.BHN | 2011-01-13T16:38:14.000000Z - 2011-01-13T17:18:14.000000Z | 100.0 Hz, 240001 samples\n",
      "QH.QIL.00.BHN | 2011-01-13T16:38:14.000000Z - 2011-01-13T17:18:14.000000Z | 100.0 Hz, 240001 samples\n",
      "QH.QML.00.BHN | 2011-01-13T16:38:14.000000Z - 2011-01-13T17:18:14.000000Z | 100.0 Hz, 240001 samples\n",
      "QH.QSS.00.BHN | 2011-01-13T16:38:14.000000Z - 2011-01-13T17:18:14.000000Z | 100.0 Hz, 240001 samples\n",
      "QH.XIH.00.BHN | 2011-01-13T16:38:14.000000Z - 2011-01-13T17:18:14.000000Z | 100.0 Hz, 240001 samples\n",
      "QH.XUH.00.BHN | 2011-01-13T16:38:14.000000Z - 2011-01-13T17:18:14.000000Z | 100.0 Hz, 240001 samples\n",
      "QH.YUS.00.BHN | 2011-01-13T16:38:14.000000Z - 2011-01-13T17:18:14.000000Z | 100.0 Hz, 240001 samples\n",
      "QH.ZAD.00.BHN | 2011-01-13T16:38:14.000000Z - 2011-01-13T17:18:14.000000Z | 100.0 Hz, 240001 samples\n"
     ]
    },
    {
     "name": "stderr",
     "output_type": "stream",
     "text": [
      " EVRESP ERROR (... [File: <stdin>; Start date: ; Stage: 3]):\n",
      "\tcheck_channel; units mismatch between stages,\n",
      "\tskipping to next response now\n",
      "/home/zhi/anaconda3/lib/python3.8/site-packages/obspy/core/inventory/response.py:1205: UserWarning: The unit 'A' is not known to ObsPy. It will be passed in to evalresp as 'undefined'. This should result in evalresp using the response as is, without adding any integration or differentiation and the 'output' parameter (here: 'DISP') not having any effect. Please double check output data.\n",
      "  warnings.warn(msg)\n",
      " EVRESP ERROR (... [File: <stdin>; Start date: ; Stage: 2]):\n",
      "\tcheck_channel; units mismatch between stages,\n",
      "\tskipping to next response now\n"
     ]
    },
    {
     "name": "stdout",
     "output_type": "stream",
     "text": [
      "QH.ZAD.00.BHN | 2011-01-13T16:38:14.000000Z - 2011-01-13T17:18:14.000000Z | 100.0 Hz, 240001 samples remove response failed\n",
      "SC.BTA.00.BHN | 2011-01-13T16:38:14.000000Z - 2011-01-13T17:18:14.000000Z | 100.0 Hz, 240001 samples\n",
      "SC.BTA.00.BHN | 2011-01-13T16:38:14.000000Z - 2011-01-13T17:18:14.000000Z | 100.0 Hz, 240001 samples remove response failed\n",
      "SC.CD2.00.BHN | 2011-01-13T16:38:14.000000Z - 2011-01-13T17:18:14.000000Z | 100.0 Hz, 240001 samples\n",
      "SC.GZA.00.BHN | 2011-01-13T16:38:14.000000Z - 2011-01-13T17:18:14.000000Z | 100.0 Hz, 240001 samples\n",
      "SC.LZH.00.BHN | 2011-01-13T16:38:14.000000Z - 2011-01-13T17:18:14.000000Z | 100.0 Hz, 240001 samples\n",
      "SC.PZH.00.BHN | 2011-01-13T16:38:14.000000Z - 2011-01-13T17:18:14.000000Z | 100.0 Hz, 240001 samples\n",
      "SC.SPA.00.BHN | 2011-01-13T16:38:14.000000Z - 2011-01-13T17:18:14.000000Z | 100.0 Hz, 240001 samples\n",
      "SC.XCE.00.BHN | 2011-01-13T16:38:14.000000Z - 2011-01-13T17:18:14.000000Z | 100.0 Hz, 240001 samples\n",
      "SC.XCE.00.BHN | 2011-01-13T16:38:14.000000Z - 2011-01-13T17:18:14.000000Z | 100.0 Hz, 240001 samples remove response failed\n",
      "SC.AXI.00.BHN | 2011-01-13T16:38:14.000000Z - 2011-01-13T17:18:14.000000Z | 100.0 Hz, 240001 samples\n"
     ]
    },
    {
     "name": "stderr",
     "output_type": "stream",
     "text": [
      " EVRESP ERROR (... [File: <stdin>; Start date: ; Stage: 2]):\n",
      "\tcheck_channel; units mismatch between stages,\n",
      "\tskipping to next response now\n"
     ]
    },
    {
     "name": "stdout",
     "output_type": "stream",
     "text": [
      "SC.BYD.00.BHN | 2011-01-13T16:38:14.000000Z - 2011-01-13T17:18:14.000000Z | 100.0 Hz, 240001 samples\n",
      "SC.BZH.00.BHN | 2011-01-13T16:38:14.000000Z - 2011-01-13T17:18:14.000000Z | 100.0 Hz, 240001 samples\n",
      "SC.DFU.00.BHN | 2011-01-13T16:38:14.000000Z - 2011-01-13T17:18:14.000000Z | 100.0 Hz, 240001 samples\n",
      "SC.EMS.00.BHN | 2011-01-13T16:38:14.000000Z - 2011-01-13T17:18:14.000000Z | 100.0 Hz, 240001 samples\n",
      "SC.GZI.00.BHN | 2011-01-13T16:38:14.000000Z - 2011-01-13T17:18:14.000000Z | 100.0 Hz, 240001 samples\n",
      "SC.GZI.00.BHN | 2011-01-13T16:38:14.000000Z - 2011-01-13T17:18:14.000000Z | 100.0 Hz, 240001 samples remove response failed\n",
      "SC.HLI.00.BHN | 2011-01-13T16:38:14.000000Z - 2011-01-13T16:40:56.090000Z | 100.0 Hz, 16210 samples\n"
     ]
    },
    {
     "name": "stderr",
     "output_type": "stream",
     "text": [
      " EVRESP ERROR (... [File: <stdin>; Start date: ; Stage: 3]):\n",
      "\tcheck_channel; units mismatch between stages,\n",
      "\tskipping to next response now\n"
     ]
    },
    {
     "name": "stdout",
     "output_type": "stream",
     "text": [
      "processed trace exists!!!\n",
      "processed trace exists!!!\n",
      "SC.HMS.00.BHN | 2011-01-13T16:38:14.000000Z - 2011-01-13T17:09:30.600000Z | 100.0 Hz, 187661 samples\n",
      "processed trace exists!!!\n",
      "SC.HSH.00.BHN | 2011-01-13T16:38:14.000000Z - 2011-01-13T17:18:14.000000Z | 100.0 Hz, 240001 samples\n",
      "SC.HWS.00.BHN | 2011-01-13T16:38:14.000000Z - 2011-01-13T17:07:55.400000Z | 100.0 Hz, 178141 samples\n",
      "processed trace exists!!!\n",
      "SC.HYS.00.BHN | 2011-01-13T16:38:14.000000Z - 2011-01-13T17:18:14.000000Z | 100.0 Hz, 240001 samples\n",
      "SC.JJS.00.BHN | 2011-01-13T16:38:14.000000Z - 2011-01-13T17:18:14.000000Z | 100.0 Hz, 240001 samples\n",
      "SC.JLI.00.BHN | 2011-01-13T16:38:14.000000Z - 2011-01-13T17:18:14.000000Z | 100.0 Hz, 240001 samples\n",
      "SC.JLO.00.BHN | 2011-01-13T16:38:14.000000Z - 2011-01-13T17:18:14.000000Z | 100.0 Hz, 240001 samples\n",
      "SC.JMG.00.BHN | 2011-01-13T16:38:14.000000Z - 2011-01-13T17:18:14.000000Z | 100.0 Hz, 240001 samples\n",
      "SC.JYA.00.BHN | 2011-01-13T16:38:14.000000Z - 2011-01-13T17:18:14.000000Z | 100.0 Hz, 240001 samples\n",
      "SC.LBO.00.BHN | 2011-01-13T16:38:14.000000Z - 2011-01-13T16:40:55.320000Z | 100.0 Hz, 16133 samples\n",
      "processed trace exists!!!\n",
      "processed trace exists!!!\n",
      "SC.LGH.00.BHN | 2011-01-13T16:38:14.000000Z - 2011-01-13T17:18:14.000000Z | 100.0 Hz, 240001 samples\n",
      "SC.LTA.00.BHN | 2011-01-13T16:38:14.000000Z - 2011-01-13T17:18:14.000000Z | 100.0 Hz, 240001 samples\n",
      "SC.MBI.00.BHN | 2011-01-13T16:38:14.000000Z - 2011-01-13T17:18:14.000000Z | 100.0 Hz, 240001 samples\n",
      "SC.MDS.00.BHN | 2011-01-13T16:38:14.000000Z - 2011-01-13T17:18:14.000000Z | 100.0 Hz, 240001 samples\n",
      "SC.MEK.00.BHN | 2011-01-13T16:38:14.000000Z - 2011-01-13T17:18:14.000000Z | 100.0 Hz, 240001 samples\n",
      "SC.MGU.00.BHN | 2011-01-13T16:38:14.000000Z - 2011-01-13T17:18:14.000000Z | 100.0 Hz, 240001 samples\n",
      "SC.MLI.00.BHN | 2011-01-13T16:38:14.000000Z - 2011-01-13T17:18:14.000000Z | 100.0 Hz, 240001 samples\n",
      "SC.MNI.00.BHN | 2011-01-13T16:38:14.000000Z - 2011-01-13T17:18:14.000000Z | 100.0 Hz, 240001 samples\n",
      "SC.PGE.00.BHN | 2011-01-13T16:38:14.000000Z - 2011-01-13T17:18:14.000000Z | 100.0 Hz, 240001 samples\n",
      "SC.PWU.00.BHN | 2011-01-13T16:38:14.000000Z - 2011-01-13T17:18:14.000000Z | 100.0 Hz, 240001 samples\n",
      "SC.QCH.00.BHN | 2011-01-13T16:38:14.010000Z - 2011-01-13T17:18:14.000000Z | 100.0 Hz, 240000 samples\n",
      "SC.REG.00.BHN | 2011-01-13T16:38:14.000000Z - 2011-01-13T17:18:14.000000Z | 100.0 Hz, 240001 samples\n",
      "SC.RTA.00.BHN | 2011-01-13T16:38:14.000000Z - 2011-01-13T17:18:14.000000Z | 100.0 Hz, 240001 samples\n",
      "SC.SMI.00.BHN | 2011-01-13T16:38:14.000000Z - 2011-01-13T17:18:14.000000Z | 100.0 Hz, 240001 samples\n",
      "SC.SMK.00.BHN | 2011-01-13T16:38:14.000000Z - 2011-01-13T17:18:14.000000Z | 100.0 Hz, 240001 samples\n",
      "SC.WCH.00.BHN | 2011-01-13T16:38:14.000000Z - 2011-01-13T17:18:14.000000Z | 100.0 Hz, 240001 samples\n",
      "SC.XCO.00.BHN | 2011-01-13T16:38:14.000000Z - 2011-01-13T17:18:14.000000Z | 100.0 Hz, 240001 samples\n",
      "SC.XHA.00.BHN | 2011-01-13T16:38:14.000000Z - 2011-01-13T17:18:14.000000Z | 100.0 Hz, 240001 samples\n",
      "SC.XJI.00.BHN | 2011-01-13T16:38:14.000000Z - 2011-01-13T17:18:14.000000Z | 100.0 Hz, 240001 samples\n",
      "SC.XSB.00.BHN | 2011-01-13T16:38:14.000000Z - 2011-01-13T17:18:14.000000Z | 100.0 Hz, 240001 samples\n",
      "SC.YGD.00.BHN | 2011-01-13T16:38:14.000000Z - 2011-01-13T17:18:14.000000Z | 100.0 Hz, 240001 samples\n",
      "SC.YJI.00.BHN | 2011-01-13T16:38:14.010000Z - 2011-01-13T17:18:14.000000Z | 100.0 Hz, 240000 samples\n",
      "SC.YYC.00.BHN | 2011-01-13T16:38:14.000000Z - 2011-01-13T17:18:14.000000Z | 100.0 Hz, 240001 samples\n",
      "SC.YYU.00.BHN | 2011-01-13T16:38:14.000000Z - 2011-01-13T17:18:14.000000Z | 100.0 Hz, 240001 samples\n",
      "SC.YZP.00.BHN | 2011-01-13T16:38:14.000000Z - 2011-01-13T17:18:14.000000Z | 100.0 Hz, 240001 samples\n",
      "SC.ZJG.00.BHN | 2011-01-13T16:38:14.000000Z - 2011-01-13T17:18:14.000000Z | 100.0 Hz, 240001 samples\n",
      "SD.ANQ.00.BHN | 2011-01-13T16:38:14.000000Z - 2011-01-13T17:18:14.000000Z | 100.0 Hz, 240001 samples\n",
      "SD.BHC.00.BHN | 2011-01-13T16:38:14.000000Z - 2011-01-13T17:18:14.000000Z | 100.0 Hz, 240001 samples\n",
      "SD.CHD.00.BHN | 2011-01-13T16:38:14.000000Z - 2011-01-13T17:18:14.000000Z | 100.0 Hz, 240001 samples\n",
      "SD.CSH.00.BHN | 2011-01-13T16:38:14.000000Z - 2011-01-13T17:18:14.000000Z | 100.0 Hz, 240001 samples\n",
      "SD.DSD.00.BHN | 2011-01-13T16:38:14.000000Z - 2011-01-13T17:18:14.000000Z | 50.0 Hz, 120001 samples\n",
      "SD.DSH.00.BHN | 2011-01-13T16:38:14.000000Z - 2011-01-13T17:18:14.000000Z | 100.0 Hz, 240001 samples\n",
      "SD.HAY.00.BHN | 2011-01-13T16:38:14.000000Z - 2011-01-13T17:18:14.000000Z | 100.0 Hz, 240001 samples\n",
      "SD.JIX.00.BHN | 2011-01-13T16:38:14.000000Z - 2011-01-13T17:18:14.000000Z | 100.0 Hz, 240001 samples\n",
      "SD.JUN.00.BHN | 2011-01-13T16:38:14.000000Z - 2011-01-13T17:18:14.000000Z | 50.0 Hz, 120001 samples\n",
      "SD.JUX.00.BHN | 2011-01-13T16:38:14.000000Z - 2011-01-13T17:18:14.000000Z | 100.0 Hz, 240001 samples\n",
      "SD.LAY.00.BHN | 2011-01-13T16:38:14.000000Z - 2011-01-13T17:18:14.000000Z | 100.0 Hz, 240001 samples\n",
      "SD.LIS.00.BHN | 2011-01-13T16:38:14.000000Z - 2011-01-13T17:18:14.000000Z | 50.0 Hz, 120001 samples\n",
      "SD.LOK.00.BHN | 2011-01-13T16:38:14.000000Z - 2011-01-13T17:18:14.000000Z | 100.0 Hz, 240001 samples\n",
      "SD.LSH.00.BHN | 2011-01-13T16:38:14.000000Z - 2011-01-13T17:18:14.000000Z | 100.0 Hz, 240001 samples\n",
      "SD.LZH.00.BHN | 2011-01-13T16:38:14.000000Z - 2011-01-13T17:18:14.000000Z | 100.0 Hz, 240001 samples\n",
      "SD.NLA.00.BHN | 2011-01-13T16:38:14.000000Z - 2011-01-13T17:18:14.000000Z | 100.0 Hz, 240001 samples\n",
      "SD.QID.00.BHN | 2011-01-13T16:38:14.000000Z - 2011-01-13T17:18:14.000000Z | 100.0 Hz, 240001 samples\n",
      "SD.RCH.00.BHN | 2011-01-13T16:38:14.000000Z - 2011-01-13T17:18:14.000000Z | 100.0 Hz, 240001 samples\n",
      "SD.RSH.00.BHN | 2011-01-13T16:38:14.000000Z - 2011-01-13T17:18:14.000000Z | 100.0 Hz, 240001 samples\n",
      "SD.RZH.00.BHN | 2011-01-13T16:38:14.000000Z - 2011-01-13T17:18:14.000000Z | 100.0 Hz, 240001 samples\n",
      "SD.TCH.00.BHN | 2011-01-13T16:38:14.000000Z - 2011-01-13T17:18:14.000000Z | 100.0 Hz, 240001 samples\n",
      "SD.TIA.00.BHN | 2011-01-13T16:38:14.000000Z - 2011-01-13T17:18:14.000000Z | 100.0 Hz, 240001 samples\n",
      "SD.WED.00.BHN | 2011-01-13T16:38:14.000000Z - 2011-01-13T17:18:14.000000Z | 50.0 Hz, 120001 samples\n",
      "SD.WUL.00.BHN | 2011-01-13T16:38:14.000000Z - 2011-01-13T17:18:14.000000Z | 100.0 Hz, 240001 samples\n",
      "SD.XIT.00.BHN | 2011-01-13T16:38:14.000000Z - 2011-01-13T17:18:14.000000Z | 100.0 Hz, 240001 samples\n",
      "SD.YSH.00.BHN | 2011-01-13T16:38:14.000000Z - 2011-01-13T17:18:14.000000Z | 100.0 Hz, 240001 samples\n",
      "SD.LQU.00.BHN | 2011-01-13T16:38:14.000000Z - 2011-01-13T17:18:14.000000Z | 50.0 Hz, 120001 samples\n",
      "SD.YTA.00.BHN | 2011-01-13T16:38:14.000000Z - 2011-01-13T17:18:14.000000Z | 100.0 Hz, 240001 samples\n",
      "SD.ZCH.00.BHN | 2011-01-13T16:38:14.000000Z - 2011-01-13T17:18:14.000000Z | 100.0 Hz, 240001 samples\n",
      "SH.DYS.00.BHN | 2011-01-13T16:38:14.000000Z - 2011-01-13T17:18:14.000000Z | 100.0 Hz, 240001 samples\n",
      "SH.DYS.00.BHN | 2011-01-13T16:38:14.000000Z - 2011-01-13T17:18:14.000000Z | 100.0 Hz, 240001 samples remove response failed\n",
      "SH.HUH.00.BHN | 2011-01-13T16:38:14.000000Z - 2011-01-13T17:18:14.000000Z | 100.0 Hz, 240001 samples\n",
      "SH.HUH.00.BHN | 2011-01-13T16:38:14.000000Z - 2011-01-13T17:18:14.000000Z | 100.0 Hz, 240001 samples remove response failed\n",
      "SH.NAH.00.BHN | 2011-01-13T16:38:14.000000Z - 2011-01-13T17:18:14.000000Z | 100.0 Hz, 240001 samples\n",
      "SH.NAH.00.BHN | 2011-01-13T16:38:14.000000Z - 2011-01-13T17:18:14.000000Z | 100.0 Hz, 240001 samples remove response failed\n",
      "SH.QHS.00.BHN | 2011-01-13T16:38:14.000000Z - 2011-01-13T17:18:14.000000Z | 100.0 Hz, 240001 samples\n",
      "SH.QHS.00.BHN | 2011-01-13T16:38:14.000000Z - 2011-01-13T17:18:14.000000Z | 100.0 Hz, 240001 samples remove response failed\n",
      "SH.SSE.00.BHN | 2011-01-13T16:38:14.000000Z - 2011-01-13T17:18:14.000000Z | 100.0 Hz, 240001 samples\n",
      "SH.SSE.00.BHN | 2011-01-13T16:38:14.000000Z - 2011-01-13T17:18:14.000000Z | 100.0 Hz, 240001 samples remove response failed\n",
      "SH.TMS.00.BHN | 2011-01-13T16:38:14.000000Z - 2011-01-13T17:18:14.000000Z | 100.0 Hz, 240001 samples\n",
      "SH.TMS.00.BHN | 2011-01-13T16:38:14.000000Z - 2011-01-13T17:18:14.000000Z | 100.0 Hz, 240001 samples remove response failed\n",
      "SH.TPS.00.BHN | 2011-01-13T16:38:14.000000Z - 2011-01-13T17:18:14.000000Z | 100.0 Hz, 240001 samples\n",
      "SH.TPS.00.BHN | 2011-01-13T16:38:14.000000Z - 2011-01-13T17:18:14.000000Z | 100.0 Hz, 240001 samples remove response failed\n",
      "SH.XKS.00.BHN | 2011-01-13T16:38:14.000000Z - 2011-01-13T17:18:14.000000Z | 100.0 Hz, 240001 samples\n",
      "SH.XKS.00.BHN | 2011-01-13T16:38:14.000000Z - 2011-01-13T17:18:14.000000Z | 100.0 Hz, 240001 samples remove response failed\n",
      "SH.ZHY.00.BHN | 2011-01-13T16:38:14.000000Z - 2011-01-13T17:18:14.000000Z | 100.0 Hz, 240001 samples\n",
      "SH.ZHY.00.BHN | 2011-01-13T16:38:14.000000Z - 2011-01-13T17:18:14.000000Z | 100.0 Hz, 240001 samples remove response failed\n",
      "SN.LIYO.00.BHN | 2011-01-13T16:38:14.000000Z - 2011-01-13T17:18:14.000000Z | 100.0 Hz, 240001 samples\n"
     ]
    },
    {
     "name": "stderr",
     "output_type": "stream",
     "text": [
      "/home/zhi/anaconda3/lib/python3.8/site-packages/obspy/io/xseed/parser.py:1389: UserWarning: Epoch SH.DYS.00.BHE [2012-01-10T18:43:01.000000Z - None]: Response stage 1 does not end with blockette 58. Proceed at your own risk.\n",
      "  warnings.warn(_epoch_warn_msg(msg))\n",
      "/home/zhi/anaconda3/lib/python3.8/site-packages/obspy/io/xseed/parser.py:1389: UserWarning: Epoch SH.HUH.00.BHE [2012-01-10T18:43:01.000000Z - None]: Response stage 1 does not end with blockette 58. Proceed at your own risk.\n",
      "  warnings.warn(_epoch_warn_msg(msg))\n",
      "/home/zhi/anaconda3/lib/python3.8/site-packages/obspy/io/xseed/parser.py:1389: UserWarning: Epoch SH.NAH.00.BHE [2012-01-10T18:43:01.000000Z - None]: Response stage 1 does not end with blockette 58. Proceed at your own risk.\n",
      "  warnings.warn(_epoch_warn_msg(msg))\n",
      "/home/zhi/anaconda3/lib/python3.8/site-packages/obspy/io/xseed/parser.py:1389: UserWarning: Epoch SH.QHS.00.BHE [2012-01-10T18:43:01.000000Z - None]: Response stage 1 does not end with blockette 58. Proceed at your own risk.\n",
      "  warnings.warn(_epoch_warn_msg(msg))\n",
      "/home/zhi/anaconda3/lib/python3.8/site-packages/obspy/io/xseed/parser.py:1389: UserWarning: Epoch SH.SSE.00.BHE [2012-01-10T18:43:01.000000Z - None]: Response stage 1 does not end with blockette 58. Proceed at your own risk.\n",
      "  warnings.warn(_epoch_warn_msg(msg))\n",
      "/home/zhi/anaconda3/lib/python3.8/site-packages/obspy/io/xseed/parser.py:1389: UserWarning: Epoch SH.TMS.00.BHE [2012-01-10T18:43:01.000000Z - None]: Response stage 1 does not end with blockette 58. Proceed at your own risk.\n",
      "  warnings.warn(_epoch_warn_msg(msg))\n",
      "/home/zhi/anaconda3/lib/python3.8/site-packages/obspy/io/xseed/parser.py:1389: UserWarning: Epoch SH.TPS.00.BHE [2012-01-10T18:43:01.000000Z - None]: Response stage 1 does not end with blockette 58. Proceed at your own risk.\n",
      "  warnings.warn(_epoch_warn_msg(msg))\n",
      "/home/zhi/anaconda3/lib/python3.8/site-packages/obspy/io/xseed/parser.py:1389: UserWarning: Epoch SH.XKS.00.BHE [2012-01-10T18:43:01.000000Z - None]: Response stage 1 does not end with blockette 58. Proceed at your own risk.\n",
      "  warnings.warn(_epoch_warn_msg(msg))\n"
     ]
    },
    {
     "name": "stdout",
     "output_type": "stream",
     "text": [
      "SN.LOXT.00.BHN | 2011-01-13T16:38:14.000000Z - 2011-01-13T17:18:14.000000Z | 100.0 Hz, 240001 samples\n",
      "SN.MEIX.00.BHN | 2011-01-13T16:38:14.000000Z - 2011-01-13T17:18:14.000000Z | 100.0 Hz, 240001 samples\n",
      "SN.SUDE.00.BHN | 2011-01-13T16:38:14.000000Z - 2011-01-13T17:18:14.000000Z | 100.0 Hz, 240001 samples\n",
      "SN.TABT.00.BHN | 2011-01-13T16:38:14.000000Z - 2011-01-13T17:18:14.000000Z | 100.0 Hz, 240001 samples\n",
      "SN.YAAN.00.BHN | 2011-01-13T16:38:14.000000Z - 2011-01-13T17:18:14.000000Z | 100.0 Hz, 240001 samples\n",
      "SN.YULG.00.BHN | 2011-01-13T16:38:14.000000Z - 2011-01-13T17:18:14.000000Z | 100.0 Hz, 240001 samples\n",
      "SN.HEYT.00.BHN | 2011-01-13T16:38:14.000000Z - 2011-01-13T17:18:14.000000Z | 100.0 Hz, 240001 samples\n",
      "SN.HUAX.00.BHN | 2011-01-13T16:38:14.000000Z - 2011-01-13T17:18:14.000000Z | 100.0 Hz, 240001 samples\n",
      "SN.HZHG.00.BHN | 2011-01-13T16:38:14.000000Z - 2011-01-13T17:18:14.000000Z | 100.0 Hz, 240001 samples\n",
      "SN.HZHT.00.BHN | 2011-01-13T16:38:14.000000Z - 2011-01-13T17:18:14.000000Z | 100.0 Hz, 240001 samples\n",
      "SN.LANT.00.BHN | 2011-01-13T16:38:14.000000Z - 2011-01-13T17:18:14.000000Z | 100.0 Hz, 240001 samples\n",
      "SN.LINT.00.BHN | 2011-01-13T16:38:14.000000Z - 2011-01-13T17:18:14.000000Z | 100.0 Hz, 240001 samples\n",
      "SN.LUYA.00.BHN | 2011-01-13T16:38:14.000000Z - 2011-01-13T17:18:14.000000Z | 100.0 Hz, 240001 samples\n",
      "SN.MIAX.00.BHN | 2011-01-13T16:38:14.000000Z - 2011-01-13T17:18:14.000000Z | 100.0 Hz, 240001 samples\n",
      "SN.NSHT.00.BHN | 2011-01-13T16:38:14.000000Z - 2011-01-13T17:18:14.000000Z | 100.0 Hz, 240001 samples\n",
      "SN.SHAZ.00.BHN | 2011-01-13T16:38:14.000000Z - 2011-01-13T17:18:14.000000Z | 100.0 Hz, 240001 samples\n",
      "SN.SHNA.00.BHN | 2011-01-13T16:38:14.000000Z - 2011-01-13T17:18:14.000000Z | 100.0 Hz, 240001 samples\n",
      "SN.XAN.00.BHN | 2011-01-13T16:38:14.000000Z - 2011-01-13T17:18:14.000000Z | 100.0 Hz, 240001 samples\n",
      "SN.XIXI.00.BHN | 2011-01-13T16:38:14.000000Z - 2011-01-13T17:18:14.000000Z | 100.0 Hz, 240001 samples\n",
      "SN.ZOZT.00.BHN | 2011-01-13T16:38:14.000000Z - 2011-01-13T17:18:14.000000Z | 100.0 Hz, 240001 samples\n",
      "SN.FUPI.00.BHN | 2011-01-13T16:38:14.000000Z - 2011-01-13T17:18:14.000000Z | 100.0 Hz, 240001 samples\n",
      "SN.JYAT.00.BHN | 2011-01-13T16:38:14.000000Z - 2011-01-13T17:18:14.000000Z | 100.0 Hz, 240001 samples\n",
      "SN.TOCH.00.BHN | 2011-01-13T16:38:14.000000Z - 2011-01-13T17:18:14.000000Z | 100.0 Hz, 240001 samples\n",
      "SX.ANZ.00.BHN | 2011-01-13T16:38:14.000000Z - 2011-01-13T17:18:14.000000Z | 100.0 Hz, 240001 samples\n",
      "SX.BOD.00.BHN | 2011-01-13T16:38:14.000000Z - 2011-01-13T17:18:14.000000Z | 100.0 Hz, 240001 samples\n",
      "SX.DAX.00.BHN | 2011-01-13T16:38:14.000000Z - 2011-01-13T17:18:14.000000Z | 100.0 Hz, 240001 samples\n",
      "SX.DOS.00.BHN | 2011-01-13T16:38:14.000000Z - 2011-01-13T17:18:14.000000Z | 100.0 Hz, 240001 samples\n",
      "SX.HSH.00.BHN | 2011-01-13T16:38:14.000000Z - 2011-01-13T17:18:14.000000Z | 100.0 Hz, 240001 samples\n",
      "SX.HZH.00.BHN | 2011-01-13T16:38:14.000000Z - 2011-01-13T17:18:14.000000Z | 100.0 Hz, 240001 samples\n",
      "SX.JIC.00.BHN | 2011-01-13T16:38:14.000000Z - 2011-01-13T17:18:14.000000Z | 100.0 Hz, 240001 samples\n",
      "SX.KEL.00.BHN | 2011-01-13T16:38:14.000000Z - 2011-01-13T17:18:14.000000Z | 100.0 Hz, 240001 samples\n",
      "SX.LIF.00.BHN | 2011-01-13T16:38:14.000000Z - 2011-01-13T17:18:14.000000Z | 100.0 Hz, 240001 samples\n",
      "SX.LIS.00.BHN | 2011-01-13T16:38:14.000000Z - 2011-01-13T17:18:14.000000Z | 100.0 Hz, 240001 samples\n",
      "SX.LOF.00.BHN | 2011-01-13T16:38:14.000000Z - 2011-01-13T17:18:14.000000Z | 100.0 Hz, 240001 samples\n",
      "SX.NIW.00.BHN | 2011-01-13T16:38:14.000000Z - 2011-01-13T17:18:14.000000Z | 100.0 Hz, 240001 samples\n",
      "SX.PIG.00.BHN | 2011-01-13T16:38:14.000000Z - 2011-01-13T17:18:14.000000Z | 100.0 Hz, 240001 samples\n",
      "SX.SHZ.00.BHN | 2011-01-13T16:38:14.000000Z - 2011-01-13T17:18:14.000000Z | 100.0 Hz, 240001 samples\n",
      "SX.SZZ.00.BHN | 2011-01-13T16:38:14.000000Z - 2011-01-13T17:18:14.000000Z | 100.0 Hz, 240001 samples\n",
      "SX.TAG.00.BHN | 2011-01-13T16:38:14.000000Z - 2011-01-13T17:18:14.000000Z | 100.0 Hz, 240001 samples\n",
      "SX.TIY.00.BHN | 2011-01-13T16:38:14.000000Z - 2011-01-13T17:18:14.000000Z | 100.0 Hz, 240001 samples\n",
      "SX.XIX.00.BHN | 2011-01-13T16:38:14.000000Z - 2011-01-13T17:18:14.000000Z | 100.0 Hz, 240001 samples\n",
      "SX.XIY.00.BHN | 2011-01-13T16:38:14.000000Z - 2011-01-13T17:18:14.000000Z | 100.0 Hz, 240001 samples\n",
      "SX.YAY.00.BHN | 2011-01-13T16:46:51.000000Z - 2011-01-13T16:52:45.990000Z | 100.0 Hz, 35500 samples\n",
      "processed trace exists!!!\n",
      "processed trace exists!!!\n",
      "processed trace exists!!!\n",
      "SX.YMG.00.BHN | 2011-01-13T16:38:14.000000Z - 2011-01-13T17:18:14.000000Z | 100.0 Hz, 240001 samples\n",
      "SX.YUY.00.BHN | 2011-01-13T16:38:14.000000Z - 2011-01-13T17:18:14.000000Z | 100.0 Hz, 240001 samples\n",
      "SX.ZCH.00.BHN | 2011-01-13T16:38:14.000000Z - 2011-01-13T17:18:14.000000Z | 100.0 Hz, 240001 samples\n",
      "SX.ZOQ.00.BHN | 2011-01-13T16:38:14.000000Z - 2011-01-13T17:18:14.000000Z | 100.0 Hz, 240001 samples\n",
      "SX.CHZ.00.BHN | 2011-01-13T16:38:14.000000Z - 2011-01-13T17:18:14.000000Z | 100.0 Hz, 240001 samples\n",
      "SX.HMA.00.BHN | 2011-01-13T16:38:14.000000Z - 2011-01-13T17:01:42.990000Z | 100.0 Hz, 140900 samples\n",
      "processed trace exists!!!\n",
      "SX.LIC.00.BHN | 2011-01-13T16:38:14.000000Z - 2011-01-13T17:18:14.000000Z | 100.0 Hz, 240001 samples\n",
      "SX.XAX.00.BHN | 2011-01-13T16:38:14.000000Z - 2011-01-13T17:18:14.000000Z | 100.0 Hz, 240001 samples\n",
      "SX.XAY.00.BHN | 2011-01-13T16:38:14.000000Z - 2011-01-13T17:18:14.000000Z | 100.0 Hz, 240001 samples\n",
      "SX.YAC.00.BHN | 2011-01-13T16:38:14.000000Z - 2011-01-13T17:18:14.000000Z | 100.0 Hz, 240001 samples\n",
      "SX.YJI.00.BHN | 2011-01-13T16:38:14.000000Z - 2011-01-13T17:18:14.000000Z | 100.0 Hz, 240001 samples\n",
      "TJ.GUG.00.BHN | 2011-01-13T16:38:14.000000Z - 2011-01-13T17:18:14.000000Z | 100.0 Hz, 240001 samples\n",
      "TJ.JIX.00.BHN | 2011-01-13T16:38:14.000000Z - 2011-01-13T17:18:14.000000Z | 50.0 Hz, 120001 samples\n",
      "TJ.SJT.00.BHN | 2011-01-13T16:38:14.000000Z - 2011-01-13T17:18:14.000000Z | 100.0 Hz, 240001 samples\n",
      "TJ.YGZ.00.BHN | 2011-01-13T16:38:14.000000Z - 2011-01-13T17:18:14.000000Z | 100.0 Hz, 240001 samples\n",
      "XZ.CAD.00.BHN | 2011-01-13T16:38:14.000000Z - 2011-01-13T17:18:14.000000Z | 100.0 Hz, 240001 samples\n",
      "XZ.CHY.00.BHN | 2011-01-13T16:38:14.000000Z - 2011-01-13T17:18:14.000000Z | 100.0 Hz, 240001 samples\n",
      "XZ.DXI.00.BHN | 2011-01-13T16:38:14.000000Z - 2011-01-13T17:18:14.000000Z | 100.0 Hz, 240001 samples\n",
      "XZ.LIZ.00.BHN | 2011-01-13T16:38:14.000000Z - 2011-01-13T17:18:14.000000Z | 100.0 Hz, 240001 samples\n",
      "XZ.LKZ.00.BHN | 2011-01-13T16:38:14.000000Z - 2011-01-13T17:18:14.000000Z | 100.0 Hz, 240001 samples\n",
      "XZ.LSA.00.BHN | 2011-01-13T16:38:14.000000Z - 2011-01-13T17:18:14.000000Z | 100.0 Hz, 240001 samples\n",
      "XZ.MZG.00.BHN | 2011-01-13T16:38:14.000000Z - 2011-01-13T17:18:14.000000Z | 100.0 Hz, 240001 samples\n",
      "XZ.NAQ.00.BHN | 2011-01-13T16:38:14.000000Z - 2011-01-13T17:18:14.000000Z | 100.0 Hz, 240001 samples\n",
      "XZ.NMA.00.BHN | 2011-01-13T16:38:14.000000Z - 2011-01-13T17:18:14.000000Z | 100.0 Hz, 240001 samples\n",
      "XZ.NMU.00.BHN | 2011-01-13T16:38:14.000000Z - 2011-01-13T17:18:14.000000Z | 100.0 Hz, 240001 samples\n",
      "XZ.PLA.00.BHN | 2011-01-13T16:38:14.000000Z - 2011-01-13T17:18:14.000000Z | 100.0 Hz, 240001 samples\n",
      "XZ.RKZ.00.BHN | 2011-01-13T16:38:14.000000Z - 2011-01-13T17:18:14.000000Z | 100.0 Hz, 240001 samples\n",
      "XZ.SNA.00.BHN | 2011-01-13T16:38:14.000000Z - 2011-01-13T17:18:14.000000Z | 100.0 Hz, 240001 samples\n",
      "XZ.SQHE.00.BHN | 2011-01-13T16:38:14.000000Z - 2011-01-13T17:18:14.000000Z | 100.0 Hz, 240001 samples\n",
      "XZ.SUH.00.BHN | 2011-01-13T16:38:14.000000Z - 2011-01-13T17:18:14.000000Z | 100.0 Hz, 240001 samples\n",
      "YN.HLT.00.BHN | 2011-01-13T16:38:14.000000Z - 2011-01-13T16:49:19.990000Z | 100.0 Hz, 66600 samples\n",
      "processed trace exists!!!\n",
      "YN.ZOD.00.BHN | 2011-01-13T16:38:14.000000Z - 2011-01-13T17:18:14.000000Z | 100.0 Hz, 240001 samples\n",
      "YN.EYA.00.BHN | 2011-01-13T16:38:14.000000Z - 2011-01-13T17:18:14.000000Z | 100.0 Hz, 240001 samples\n",
      "YN.EYA.00.BHN | 2011-01-13T16:38:14.000000Z - 2011-01-13T17:18:14.000000Z | 100.0 Hz, 240001 samples remove response failed\n",
      "YN.FUN.00.BHN | 2011-01-13T16:38:14.000000Z - 2011-01-13T17:18:14.000000Z | 100.0 Hz, 240001 samples\n"
     ]
    },
    {
     "name": "stderr",
     "output_type": "stream",
     "text": [
      " EVRESP ERROR (... [File: <stdin>; Start date: ; Stage: 2]):\n",
      "\tcheck_channel; units mismatch between stages,\n",
      "\tskipping to next response now\n"
     ]
    },
    {
     "name": "stdout",
     "output_type": "stream",
     "text": [
      "YN.GEJ.00.BHN | 2011-01-13T16:38:14.000000Z - 2011-01-13T17:18:14.000000Z | 100.0 Hz, 240001 samples\n",
      "YN.KMI.00.BHN | 2011-01-13T16:38:14.000000Z - 2011-01-13T17:18:14.000000Z | 100.0 Hz, 240001 samples\n",
      "YN.MEL.00.BHN | 2011-01-13T16:38:14.000000Z - 2011-01-13T17:18:14.000000Z | 100.0 Hz, 240001 samples\n",
      "YN.MLA.00.BHN | 2011-01-13T16:38:14.000000Z - 2011-01-13T17:18:14.000000Z | 100.0 Hz, 240001 samples\n",
      "YN.MLP.00.BHN | 2011-01-13T16:38:14.000000Z - 2011-01-13T17:18:14.000000Z | 100.0 Hz, 240001 samples\n",
      "YN.RHT.00.BHN | 2011-01-13T16:38:14.000000Z - 2011-01-13T17:18:14.000000Z | 100.0 Hz, 240001 samples\n",
      "YN.TNC.00.BHN | 2011-01-13T16:38:14.000000Z - 2011-01-13T17:18:14.000000Z | 100.0 Hz, 240001 samples\n",
      "YN.ZAT.00.BHN | 2011-01-13T16:38:14.000000Z - 2011-01-13T17:18:14.000000Z | 100.0 Hz, 240001 samples\n",
      "YN.CZS.00.BHN | 2011-01-13T16:38:14.000000Z - 2011-01-13T17:18:14.000000Z | 100.0 Hz, 240001 samples\n",
      "YN.MIZ.00.BHN | 2011-01-13T16:38:14.000000Z - 2011-01-13T17:18:14.000000Z | 100.0 Hz, 240001 samples\n",
      "YN.MZT.00.BHN | 2011-01-13T16:38:14.000000Z - 2011-01-13T17:18:14.000000Z | 100.0 Hz, 240001 samples\n",
      "YN.QKT.00.BHN | 2011-01-13T16:38:14.000000Z - 2011-01-13T17:18:14.000000Z | 100.0 Hz, 240001 samples\n",
      "YN.RST.00.BHN | 2011-01-13T16:38:14.000000Z - 2011-01-13T17:18:14.000000Z | 100.0 Hz, 240001 samples\n",
      "YN.SBT.00.BHN | 2011-01-13T16:38:14.000000Z - 2011-01-13T17:18:14.000000Z | 100.0 Hz, 240001 samples\n",
      "YN.XHT.00.BHN | 2011-01-13T16:38:14.000000Z - 2011-01-13T17:18:14.000000Z | 100.0 Hz, 240001 samples\n",
      "ZJ.CHA.00.BHN | 2011-01-13T16:38:14.000000Z - 2011-01-13T17:18:14.000000Z | 100.0 Hz, 240001 samples\n",
      "ZJ.CHX.00.BHN | 2011-01-13T16:38:14.000000Z - 2011-01-13T17:18:14.000000Z | 100.0 Hz, 240001 samples\n",
      "ZJ.HAY.00.BHN | 2011-01-13T16:38:14.000000Z - 2011-01-13T17:18:14.000000Z | 100.0 Hz, 240001 samples\n",
      "ZJ.HAZ.00.BHN | 2011-01-13T16:38:14.000000Z - 2011-01-13T17:18:14.000000Z | 100.0 Hz, 240001 samples\n",
      "ZJ.HUZ.00.BHN | 2011-01-13T16:38:14.000000Z - 2011-01-13T17:18:14.000000Z | 100.0 Hz, 240001 samples\n",
      "ZJ.JAX.00.BHN | 2011-01-13T16:38:14.000000Z - 2011-01-13T17:13:45.990000Z | 100.0 Hz, 213200 samples\n",
      "processed trace exists!!!\n",
      "ZJ.LIA.00.BHN | 2011-01-13T16:38:14.000000Z - 2011-01-13T17:18:14.000000Z | 50.0 Hz, 120001 samples\n",
      "ZJ.NIB.00.BHN | 2011-01-13T16:38:14.000000Z - 2011-01-13T17:18:14.000000Z | 100.0 Hz, 240001 samples\n",
      "ZJ.QIY.00.BHN | 2011-01-13T16:38:14.000000Z - 2011-01-13T17:18:14.000000Z | 100.0 Hz, 240001 samples\n",
      "ZJ.SHS.00.BHN | 2011-01-13T16:38:14.000000Z - 2011-01-13T17:18:14.000000Z | 100.0 Hz, 240001 samples\n",
      "ZJ.WEZ.00.BHN | 2011-01-13T16:38:14.000000Z - 2011-01-13T17:18:14.000000Z | 100.0 Hz, 240001 samples\n",
      "ZJ.WXJ.00.BHN | 2011-01-13T16:38:14.000000Z - 2011-01-13T17:18:14.000000Z | 100.0 Hz, 240001 samples\n",
      "ZJ.XAJ.00.BHN | 2011-01-13T16:38:14.000000Z - 2011-01-13T17:18:14.000000Z | 100.0 Hz, 240001 samples\n",
      "ZJ.XIC.00.BHN | 2011-01-13T16:38:14.000000Z - 2011-01-13T17:18:14.000000Z | 100.0 Hz, 240001 samples\n",
      "ZJ.XSH.00.BHN | 2011-01-13T16:38:14.000000Z - 2011-01-13T17:18:14.000000Z | 100.0 Hz, 240001 samples\n",
      "ZJ.YIX.00.BHN | 2011-01-13T16:38:14.000000Z - 2011-01-13T17:18:14.000000Z | 100.0 Hz, 240001 samples\n",
      "ZJ.YOK.00.BHN | 2011-01-13T16:38:14.000000Z - 2011-01-13T16:40:54.990000Z | 100.0 Hz, 16100 samples\n",
      "processed trace exists!!!\n",
      "processed trace exists!!!\n",
      "processed trace exists!!!\n",
      "processed trace exists!!!\n",
      "processed trace exists!!!\n",
      "processed trace exists!!!\n",
      "processed trace exists!!!\n",
      "processed trace exists!!!\n",
      "processed trace exists!!!\n",
      "processed trace exists!!!\n",
      "processed trace exists!!!\n",
      "processed trace exists!!!\n",
      "ZJ.YUQ.00.BHN | 2011-01-13T16:38:14.000000Z - 2011-01-13T17:18:14.000000Z | 100.0 Hz, 240001 samples\n",
      "ZJ.YUY.00.BHN | 2011-01-13T16:38:14.000000Z - 2011-01-13T17:18:14.000000Z | 100.0 Hz, 240001 samples\n",
      "ZJ.ZHS.00.BHN | 2011-01-13T16:38:14.000000Z - 2011-01-13T17:18:14.000000Z | 100.0 Hz, 240001 samples\n",
      "ZJ.NIH.00.BHN | 2011-01-13T16:38:14.000000Z - 2011-01-13T17:18:14.000000Z | 100.0 Hz, 240001 samples\n",
      "GZ.AST.00.BHN | 2011-01-13T16:38:14.000000Z - 2011-01-13T17:18:14.000000Z | 100.0 Hz, 240001 samples\n",
      "GZ.BJT.00.BHN | 2011-01-13T16:38:14.000000Z - 2011-01-13T17:18:14.000000Z | 100.0 Hz, 240001 samples\n",
      "GZ.DJT.00.BHN | 2011-01-13T16:38:14.000000Z - 2011-01-13T17:18:14.000000Z | 100.0 Hz, 240001 samples\n",
      "GZ.KLT.00.BHN | 2011-01-13T16:38:14.000000Z - 2011-01-13T17:18:14.000000Z | 100.0 Hz, 240001 samples\n",
      "GZ.LDT.00.BHN | 2011-01-13T16:38:14.000000Z - 2011-01-13T17:18:14.000000Z | 100.0 Hz, 240001 samples\n",
      "GZ.LPT.00.BHN | 2011-01-13T16:38:14.000000Z - 2011-01-13T17:18:14.000000Z | 100.0 Hz, 240001 samples\n",
      "GZ.XYT.00.BHN | 2011-01-13T16:38:14.000000Z - 2011-01-13T17:18:14.000000Z | 100.0 Hz, 240001 samples\n",
      "GZ.YPT.00.BHN | 2011-01-13T16:38:14.000000Z - 2011-01-13T17:18:14.000000Z | 100.0 Hz, 240001 samples\n",
      "GZ.ZYT.00.BHN | 2011-01-13T16:38:14.000000Z - 2011-01-13T17:18:14.000000Z | 100.0 Hz, 240001 samples\n",
      "XJ.AHQ.00.BHN | 2011-01-13T16:38:14.000000Z - 2011-01-13T17:18:14.000000Z | 100.0 Hz, 240001 samples\n",
      "XJ.AKS.00.BHN | 2011-01-13T16:38:14.000000Z - 2011-01-13T17:18:14.000000Z | 100.0 Hz, 240001 samples\n",
      "XJ.ALS.00.BHN | 2011-01-13T16:38:14.000000Z - 2011-01-13T16:44:01.990000Z | 100.0 Hz, 34800 samples\n",
      "processed trace exists!!!\n",
      "XJ.ALT.00.BHN | 2011-01-13T16:38:14.000000Z - 2011-01-13T17:18:14.000000Z | 100.0 Hz, 240001 samples\n",
      "XJ.ATS.00.BHN | 2011-01-13T16:38:14.000000Z - 2011-01-13T17:08:44.990000Z | 100.0 Hz, 183100 samples\n",
      "processed trace exists!!!\n",
      "processed trace exists!!!\n",
      "XJ.BAC.00.BHN | 2011-01-13T16:38:14.000000Z - 2011-01-13T17:18:14.000000Z | 100.0 Hz, 240001 samples\n",
      "XJ.BCH.00.BHN | 2011-01-13T16:38:14.000000Z - 2011-01-13T17:18:14.000000Z | 100.0 Hz, 240001 samples\n",
      "XJ.BCH.00.BHN | 2011-01-13T16:38:14.000000Z - 2011-01-13T17:18:14.000000Z | 100.0 Hz, 240001 samples remove response failed\n",
      "XJ.BKO.00.BHN | 2011-01-13T16:38:14.000000Z - 2011-01-13T17:18:14.000000Z | 100.0 Hz, 240001 samples\n",
      "XJ.BKO.00.BHN | 2011-01-13T16:38:14.000000Z - 2011-01-13T17:18:14.000000Z | 100.0 Hz, 240001 samples remove response failed\n",
      "XJ.BPM.00.BHN | 2011-01-13T16:38:14.000000Z - 2011-01-13T17:18:14.000000Z | 100.0 Hz, 240001 samples\n"
     ]
    },
    {
     "name": "stderr",
     "output_type": "stream",
     "text": [
      " EVRESP ERROR (... [File: <stdin>; Start date: ; Stage: 2]):\n",
      "\tcheck_channel; units mismatch between stages,\n",
      "\tskipping to next response now\n",
      " EVRESP ERROR (... [File: <stdin>; Start date: ; Stage: 2]):\n",
      "\tcheck_channel; units mismatch between stages,\n",
      "\tskipping to next response now\n"
     ]
    },
    {
     "name": "stdout",
     "output_type": "stream",
     "text": [
      "XJ.BTS.00.BHN | 2011-01-13T16:38:14.000000Z - 2011-01-13T17:18:14.000000Z | 100.0 Hz, 240001 samples\n",
      "XJ.CBC.00.BHN | 2011-01-13T16:38:14.000000Z - 2011-01-13T17:18:14.000000Z | 100.0 Hz, 240001 samples\n",
      "XJ.FUH.00.BHN | 2011-01-13T16:38:14.000000Z - 2011-01-13T17:18:14.000000Z | 100.0 Hz, 240001 samples\n",
      "XJ.FUY.00.BHN | 2011-01-13T16:38:14.000000Z - 2011-01-13T17:18:14.000000Z | 100.0 Hz, 240001 samples\n",
      "XJ.FUY.00.BHN | 2011-01-13T16:38:14.000000Z - 2011-01-13T17:18:14.000000Z | 100.0 Hz, 240001 samples remove response failed\n",
      "XJ.GAZ.00.BHN | 2011-01-13T16:38:14.000000Z - 2011-01-13T17:18:14.000000Z | 100.0 Hz, 240001 samples\n"
     ]
    },
    {
     "name": "stderr",
     "output_type": "stream",
     "text": [
      " EVRESP ERROR (... [File: <stdin>; Start date: ; Stage: 2]):\n",
      "\tcheck_channel; units mismatch between stages,\n",
      "\tskipping to next response now\n"
     ]
    },
    {
     "name": "stdout",
     "output_type": "stream",
     "text": [
      "XJ.HBH.00.BHN | 2011-01-13T16:38:14.000000Z - 2011-01-13T17:18:14.000000Z | 100.0 Hz, 240001 samples\n",
      "XJ.HEF.00.BHN | 2011-01-13T16:38:14.000000Z - 2011-01-13T17:18:14.000000Z | 100.0 Hz, 240001 samples\n",
      "XJ.HTA.00.BHN | 2011-01-13T16:38:14.000000Z - 2011-01-13T17:18:14.000000Z | 100.0 Hz, 240001 samples\n",
      "XJ.HTB.00.BHN | 2011-01-13T16:38:14.000000Z - 2011-01-13T17:18:14.000000Z | 100.0 Hz, 240001 samples\n",
      "XJ.HTTZ0.00.BHN | 2011-01-13T16:38:14.000000Z - 2011-01-13T17:18:14.000000Z | 100.0 Hz, 240001 samples\n",
      "XJ.HTTZ0.00.BHN | 2011-01-13T16:38:14.000000Z - 2011-01-13T17:18:14.000000Z | 100.0 Hz, 240001 samples remove response failed\n",
      "XJ.HYS.00.BHN | 2011-01-13T16:38:14.000000Z - 2011-01-13T17:18:14.000000Z | 100.0 Hz, 240001 samples\n"
     ]
    },
    {
     "name": "stderr",
     "output_type": "stream",
     "text": [
      " EVRESP ERROR (... [File: <stdin>; Start date: ; Stage: 2]):\n",
      "\tcheck_channel; units mismatch between stages,\n",
      "\tskipping to next response now\n"
     ]
    },
    {
     "name": "stdout",
     "output_type": "stream",
     "text": [
      "XJ.JHE.00.BHN | 2011-01-13T16:38:14.000000Z - 2011-01-13T17:18:14.000000Z | 100.0 Hz, 240001 samples\n",
      "XJ.KMS.00.BHN | 2011-01-13T16:38:14.000000Z - 2011-01-13T17:18:14.000000Z | 100.0 Hz, 240001 samples\n",
      "XJ.KMY.00.BHN | 2011-01-13T16:38:14.000000Z - 2011-01-13T17:18:14.000000Z | 100.0 Hz, 240001 samples\n",
      "XJ.KMY.00.BHN | 2011-01-13T16:38:14.000000Z - 2011-01-13T17:18:14.000000Z | 100.0 Hz, 240001 samples remove response failed\n",
      "XJ.KOL.00.BHN | 2011-01-13T16:38:14.000000Z - 2011-01-13T17:18:14.000000Z | 100.0 Hz, 240001 samples\n"
     ]
    },
    {
     "name": "stderr",
     "output_type": "stream",
     "text": [
      " EVRESP ERROR (... [File: <stdin>; Start date: ; Stage: 2]):\n",
      "\tcheck_channel; units mismatch between stages,\n",
      "\tskipping to next response now\n"
     ]
    },
    {
     "name": "stdout",
     "output_type": "stream",
     "text": [
      "XJ.KSH.00.BHN | 2011-01-13T16:38:14.000000Z - 2011-01-13T17:18:14.000000Z | 100.0 Hz, 240001 samples\n",
      "XJ.KSH.00.BHN | 2011-01-13T16:38:14.000000Z - 2011-01-13T17:18:14.000000Z | 100.0 Hz, 240001 samples remove response failed\n",
      "XJ.KSZ.00.BHN | 2011-01-13T16:38:14.000000Z - 2011-01-13T17:08:48.940000Z | 100.0 Hz, 183495 samples\n"
     ]
    },
    {
     "name": "stderr",
     "output_type": "stream",
     "text": [
      " EVRESP ERROR (... [File: <stdin>; Start date: ; Stage: 2]):\n",
      "\tcheck_channel; units mismatch between stages,\n",
      "\tskipping to next response now\n"
     ]
    },
    {
     "name": "stdout",
     "output_type": "stream",
     "text": [
      "processed trace exists!!!\n",
      "XJ.KUC.00.BHN | 2011-01-13T16:38:14.000000Z - 2011-01-13T17:18:14.000000Z | 100.0 Hz, 240001 samples\n",
      "XJ.KUC.00.BHN | 2011-01-13T16:38:14.000000Z - 2011-01-13T17:18:14.000000Z | 100.0 Hz, 240001 samples remove response failed\n",
      "XJ.LHG.00.BHN | 2011-01-13T16:38:14.000000Z - 2011-01-13T17:18:14.000000Z | 100.0 Hz, 240001 samples\n"
     ]
    },
    {
     "name": "stderr",
     "output_type": "stream",
     "text": [
      " EVRESP ERROR (... [File: <stdin>; Start date: ; Stage: 2]):\n",
      "\tcheck_channel; units mismatch between stages,\n",
      "\tskipping to next response now\n"
     ]
    },
    {
     "name": "stdout",
     "output_type": "stream",
     "text": [
      "XJ.LSG.00.BHN | 2011-01-13T16:38:14.000000Z - 2011-01-13T16:40:54.990000Z | 100.0 Hz, 16100 samples\n",
      "processed trace exists!!!\n",
      "processed trace exists!!!\n",
      "processed trace exists!!!\n",
      "processed trace exists!!!\n",
      "processed trace exists!!!\n",
      "processed trace exists!!!\n",
      "processed trace exists!!!\n",
      "processed trace exists!!!\n",
      "processed trace exists!!!\n",
      "processed trace exists!!!\n",
      "processed trace exists!!!\n",
      "processed trace exists!!!\n",
      "processed trace exists!!!\n",
      "processed trace exists!!!\n",
      "processed trace exists!!!\n",
      "processed trace exists!!!\n",
      "processed trace exists!!!\n",
      "processed trace exists!!!\n",
      "processed trace exists!!!\n",
      "processed trace exists!!!\n",
      "processed trace exists!!!\n",
      "XJ.LTA.00.BHN | 2011-01-13T16:38:14.000000Z - 2011-01-13T17:18:14.000000Z | 100.0 Hz, 240001 samples\n",
      "XJ.MUL.00.BHN | 2011-01-13T16:38:14.000000Z - 2011-01-13T17:18:14.000000Z | 100.0 Hz, 240001 samples\n",
      "XJ.MUL.00.BHN | 2011-01-13T16:38:14.000000Z - 2011-01-13T17:18:14.000000Z | 100.0 Hz, 240001 samples remove response failed\n",
      "XJ.QHE.00.BHN | 2011-01-13T16:38:14.000000Z - 2011-01-13T17:18:14.000000Z | 100.0 Hz, 240001 samples\n"
     ]
    },
    {
     "name": "stderr",
     "output_type": "stream",
     "text": [
      " EVRESP ERROR (... [File: <stdin>; Start date: ; Stage: 2]):\n",
      "\tcheck_channel; units mismatch between stages,\n",
      "\tskipping to next response now\n"
     ]
    },
    {
     "name": "stdout",
     "output_type": "stream",
     "text": [
      "XJ.QMO.00.BHN | 2011-01-13T16:38:14.000000Z - 2011-01-13T17:18:14.000000Z | 100.0 Hz, 240001 samples\n",
      "XJ.RGN.00.BHN | 2011-01-13T16:38:14.000000Z - 2011-01-13T17:18:14.000000Z | 100.0 Hz, 240001 samples\n",
      "XJ.RUQ.00.BHN | 2011-01-13T16:38:14.000000Z - 2011-01-13T17:18:14.000000Z | 100.0 Hz, 240001 samples\n",
      "XJ.RUQ.00.BHN | 2011-01-13T16:38:14.000000Z - 2011-01-13T17:18:14.000000Z | 100.0 Hz, 240001 samples remove response failed\n",
      "XJ.SCH.00.BHN | 2011-01-13T16:38:14.000000Z - 2011-01-13T16:58:03.990000Z | 100.0 Hz, 119000 samples\n"
     ]
    },
    {
     "name": "stderr",
     "output_type": "stream",
     "text": [
      " EVRESP ERROR (... [File: <stdin>; Start date: ; Stage: 2]):\n",
      "\tcheck_channel; units mismatch between stages,\n",
      "\tskipping to next response now\n"
     ]
    },
    {
     "name": "stdout",
     "output_type": "stream",
     "text": [
      "processed trace exists!!!\n",
      "XJ.SHZ.00.BHN | 2011-01-13T16:38:14.000000Z - 2011-01-13T17:18:14.000000Z | 100.0 Hz, 240001 samples\n",
      "XJ.SMY.00.BHN | 2011-01-13T16:38:14.000000Z - 2011-01-13T17:18:14.000000Z | 100.0 Hz, 240001 samples\n",
      "XJ.STZ.00.BHN | 2011-01-13T16:38:14.000000Z - 2011-01-13T17:18:14.000000Z | 100.0 Hz, 240001 samples\n",
      "XJ.TAC.00.BHN | 2011-01-13T16:38:14.000000Z - 2011-01-13T17:18:14.000000Z | 100.0 Hz, 240001 samples\n",
      "XJ.TAG.00.BHN | 2011-01-13T16:38:14.000000Z - 2011-01-13T17:18:14.000000Z | 100.0 Hz, 240001 samples\n",
      "XJ.TCH.00.BHN | 2011-01-13T16:38:14.000000Z - 2011-01-13T17:18:14.000000Z | 100.0 Hz, 240001 samples\n",
      "XJ.WCW.00.BHN | 2011-01-13T16:38:14.000000Z - 2011-01-13T17:18:14.000000Z | 100.0 Hz, 240001 samples\n",
      "XJ.WMQ.00.BHN | 2011-01-13T16:38:14.000000Z - 2011-01-13T17:18:14.000000Z | 100.0 Hz, 240001 samples\n",
      "XJ.WMQ.00.BHN | 2011-01-13T16:38:14.000000Z - 2011-01-13T17:18:14.000000Z | 100.0 Hz, 240001 samples remove response failed\n",
      "XJ.WNQ.00.BHN | 2011-01-13T16:38:14.000000Z - 2011-01-13T17:18:14.000000Z | 100.0 Hz, 240001 samples\n",
      "XJ.WNQ.00.BHN | 2011-01-13T16:38:14.000000Z - 2011-01-13T17:18:14.000000Z | 100.0 Hz, 240001 samples remove response failed\n",
      "XJ.WSC.00.BHN | 2011-01-13T16:38:14.000000Z - 2011-01-13T17:18:14.000000Z | 100.0 Hz, 240001 samples\n"
     ]
    },
    {
     "name": "stderr",
     "output_type": "stream",
     "text": [
      " EVRESP ERROR (... [File: <stdin>; Start date: ; Stage: 2]):\n",
      "\tcheck_channel; units mismatch between stages,\n",
      "\tskipping to next response now\n",
      " EVRESP ERROR (... [File: <stdin>; Start date: ; Stage: 2]):\n",
      "\tcheck_channel; units mismatch between stages,\n",
      "\tskipping to next response now\n"
     ]
    },
    {
     "name": "stdout",
     "output_type": "stream",
     "text": [
      "XJ.WSU.00.BHN | 2011-01-13T16:38:14.000000Z - 2011-01-13T16:40:17.990000Z | 100.0 Hz, 12400 samples\n",
      "processed trace exists!!!\n",
      "processed trace exists!!!\n",
      "processed trace exists!!!\n",
      "processed trace exists!!!\n",
      "processed trace exists!!!\n",
      "processed trace exists!!!\n",
      "processed trace exists!!!\n",
      "processed trace exists!!!\n",
      "processed trace exists!!!\n",
      "processed trace exists!!!\n",
      "processed trace exists!!!\n",
      "processed trace exists!!!\n",
      "processed trace exists!!!\n",
      "processed trace exists!!!\n",
      "processed trace exists!!!\n",
      "processed trace exists!!!\n",
      "processed trace exists!!!\n",
      "XJ.WUQ.00.BHN | 2011-01-13T16:38:14.000000Z - 2011-01-13T17:18:14.000000Z | 100.0 Hz, 240001 samples\n",
      "XJ.WUS.00.BHN | 2011-01-13T16:38:14.000000Z - 2011-01-13T17:18:14.000000Z | 100.0 Hz, 240001 samples\n",
      "XJ.WUS.00.BHN | 2011-01-13T16:38:14.000000Z - 2011-01-13T17:18:14.000000Z | 100.0 Hz, 240001 samples remove response failed\n",
      "XJ.XKR.00.BHN | 2011-01-13T16:38:14.000000Z - 2011-01-13T17:18:14.000000Z | 100.0 Hz, 240001 samples\n"
     ]
    },
    {
     "name": "stderr",
     "output_type": "stream",
     "text": [
      " EVRESP ERROR (... [File: <stdin>; Start date: ; Stage: 2]):\n",
      "\tcheck_channel; units mismatch between stages,\n",
      "\tskipping to next response now\n"
     ]
    },
    {
     "name": "stdout",
     "output_type": "stream",
     "text": [
      "XJ.XNY.00.BHN | 2011-01-13T16:38:14.000000Z - 2011-01-13T17:18:14.000000Z | 100.0 Hz, 240001 samples\n",
      "XJ.XNY.00.BHN | 2011-01-13T16:38:14.000000Z - 2011-01-13T17:18:14.000000Z | 100.0 Hz, 240001 samples remove response failed\n",
      "XJ.YCH.00.BHN | 2011-01-13T16:38:14.000000Z - 2011-01-13T17:18:14.000000Z | 100.0 Hz, 240001 samples\n"
     ]
    },
    {
     "name": "stderr",
     "output_type": "stream",
     "text": [
      " EVRESP ERROR (... [File: <stdin>; Start date: ; Stage: 2]):\n",
      "\tcheck_channel; units mismatch between stages,\n",
      "\tskipping to next response now\n"
     ]
    },
    {
     "name": "stdout",
     "output_type": "stream",
     "text": [
      "XJ.YJS.00.BHN | 2011-01-13T16:38:14.000000Z - 2011-01-13T17:08:45.990000Z | 100.0 Hz, 183200 samples\n",
      "processed trace exists!!!\n",
      "processed trace exists!!!\n",
      "XJ.YMS.00.BHN | 2011-01-13T16:38:14.000000Z - 2011-01-13T17:18:14.000000Z | 100.0 Hz, 240001 samples\n",
      "XJ.YMS.00.BHN | 2011-01-13T16:38:14.000000Z - 2011-01-13T17:18:14.000000Z | 100.0 Hz, 240001 samples remove response failed\n",
      "XJ.YUT.00.BHN | 2011-01-13T16:38:14.000000Z - 2011-01-13T17:18:14.000000Z | 100.0 Hz, 240001 samples\n",
      "XJ.YUT.00.BHN | 2011-01-13T16:38:14.000000Z - 2011-01-13T17:18:14.000000Z | 100.0 Hz, 240001 samples remove response failed\n",
      "XJ.ZSU.00.BHN | 2011-01-13T16:38:14.000000Z - 2011-01-13T17:18:14.000000Z | 100.0 Hz, 240001 samples\n"
     ]
    },
    {
     "name": "stderr",
     "output_type": "stream",
     "text": [
      " EVRESP ERROR (... [File: <stdin>; Start date: ; Stage: 2]):\n",
      "\tcheck_channel; units mismatch between stages,\n",
      "\tskipping to next response now\n",
      " EVRESP ERROR (... [File: <stdin>; Start date: ; Stage: 2]):\n",
      "\tcheck_channel; units mismatch between stages,\n",
      "\tskipping to next response now\n"
     ]
    }
   ],
   "source": [
    "RTZDataStream = Stream()\n",
    "\n",
    "pre_filt = [0.005, 0.01, 5, 10]\n",
    "\n",
    "for itrace, trace in enumerate(DataStream.select(component=\"N\")):\n",
    "\n",
    "    TChannelName = trace.stats.network + \".\" + trace.stats.station + \".\" \\\n",
    "                 + trace.stats.location + \".\" \"BHT\"\n",
    "\n",
    "    seisCheck = RTZDataStream.select(id=TChannelName)\n",
    "    if len(seisCheck)>0:\n",
    "        print('processed trace exists!!!')\n",
    "        continue\n",
    "\n",
    "    print(trace)\n",
    "    EChannelName = trace.stats.network + \".\" + trace.stats.station + \".\" \\\n",
    "                 + trace.stats.location + \".\" \"BHE\"\n",
    "    seisE = DataStream.select(id=EChannelName)\n",
    "    \n",
    "    NChannelName = trace.stats.network + \".\" + trace.stats.station + \".\" \\\n",
    "                 + trace.stats.location + \".\" \"BHN\"\n",
    "    seisN = DataStream.select(id=NChannelName)\n",
    "\n",
    "    ZChannelName = trace.stats.network + \".\" + trace.stats.station + \".\" \\\n",
    "                 + trace.stats.location + \".\" \"BHZ\"\n",
    "    seisZ = DataStream.select(id=ZChannelName)\n",
    "\n",
    "    if len(seisE) != 1 or len(seisN) != 1:\n",
    "        # Merge segaments into one single trace\n",
    "        seisE.merge(method=1,fill_value='interpolate',interpolation_samples=2)\n",
    "        seisN.merge(method=1,fill_value='interpolate',interpolation_samples=2)\n",
    "        seisZ.merge(method=1,fill_value='interpolate',interpolation_samples=2)\n",
    "    \n",
    "\n",
    "    # Remove response\n",
    "    try:\n",
    "        invE = read_inventory(ResponseDirectory+\"/RESP.\"+EChannelName)\n",
    "        seisE.remove_response(inventory=invE, pre_filt=pre_filt, output=\"DISP\") \n",
    "        invN = read_inventory(ResponseDirectory+\"/RESP.\"+NChannelName)\n",
    "        seisN.remove_response(inventory=invN, pre_filt=pre_filt, output=\"DISP\")\n",
    "        invZ = read_inventory(ResponseDirectory+\"/RESP.\"+ZChannelName)\n",
    "        seisZ.remove_response(inventory=invZ, pre_filt=pre_filt, output=\"DISP\")\n",
    "    except:\n",
    "        print(trace, \"remove response failed\")\n",
    "        continue\n",
    "\n",
    "    if len(seisN[0].data) != len(seisE[0].data):\n",
    "        seisN.resample(100)\n",
    "        seisE.resample(100)\n",
    "        trimstart = max(seisN[0].stats.starttime, seisE[0].stats.starttime)\n",
    "        trimend = min(seisN[0].stats.endtime, seisE[0].stats.endtime)\n",
    "        seisN.trim(trimstart, trimend)\n",
    "        seisE.trim(trimstart, trimend)\n",
    "    # Rotate from NE to RT component\n",
    "    [seisRtmp,seisTtmp] = rotate_ne_rt(seisN[0].data, seisE[0].data, seisN[0].stats.backazimuth)\n",
    "    \n",
    "    seisR=seisN[0].copy()\n",
    "    seisR.stats['channel']='BHR'\n",
    "    seisR.data=seisRtmp\n",
    "    seisT=seisN[0].copy()\n",
    "    seisT.stats['channel']='BHT'\n",
    "    seisT.data=seisTtmp\n",
    "    \n",
    "    RTZDataStream += seisR\n",
    "    RTZDataStream += seisT\n",
    "    RTZDataStream += seisZ[0]"
   ]
  },
  {
   "cell_type": "code",
   "execution_count": 6,
   "metadata": {},
   "outputs": [
    {
     "name": "stdout",
     "output_type": "stream",
     "text": [
      "../Data/ProcessedSecondRequest/20110113164314.PICKLE Saved!!!\n"
     ]
    }
   ],
   "source": [
    "RTZDataStream.resample(10)\n",
    "RTZDataStream.write(f\"../Data/ProcessedSecondRequest/{EVENTNAME}.PICKLE\",format='PICKLE')\n",
    "print(f\"../Data/ProcessedSecondRequest/{EVENTNAME}.PICKLE Saved!!!\")"
   ]
  },
  {
   "cell_type": "code",
   "execution_count": null,
   "metadata": {},
   "outputs": [],
   "source": []
  }
 ],
 "metadata": {
  "kernelspec": {
   "display_name": "Python 3 (ipykernel)",
   "language": "python",
   "name": "python3"
  },
  "language_info": {
   "codemirror_mode": {
    "name": "ipython",
    "version": 3
   },
   "file_extension": ".py",
   "mimetype": "text/x-python",
   "name": "python",
   "nbconvert_exporter": "python",
   "pygments_lexer": "ipython3",
   "version": "3.8.13"
  },
  "vscode": {
   "interpreter": {
    "hash": "b5da1a19760c645bef876c945e2def5171d007c0fd3f14585be32e516ddabd56"
   }
  }
 },
 "nbformat": 4,
 "nbformat_minor": 2
}
